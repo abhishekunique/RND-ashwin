{
 "cells": [
  {
   "cell_type": "code",
   "execution_count": 20,
   "metadata": {},
   "outputs": [],
   "source": [
    "import gzip\n",
    "import pickle\n",
    "import os\n",
    "import numpy as np"
   ]
  },
  {
   "cell_type": "code",
   "execution_count": 21,
   "metadata": {},
   "outputs": [],
   "source": [
    "data_dir_nums = list(range(24))\n",
    "\n",
    "common_path = os.path.join(os.getcwd(), 's_a_sprime_visible_claw_')\n",
    "data_dir_paths = [\n",
    "    common_path + f'{n}'\n",
    "    for n in data_dir_nums\n",
    "]"
   ]
  },
  {
   "cell_type": "code",
   "execution_count": 22,
   "metadata": {},
   "outputs": [
    {
     "name": "stdout",
     "output_type": "stream",
     "text": [
      "/home/justinvyu/dev/softlearning-vice/goal_classifier/s_a_sprime_visible_claw_0\n",
      "/home/justinvyu/dev/softlearning-vice/goal_classifier/s_a_sprime_visible_claw_1\n",
      "/home/justinvyu/dev/softlearning-vice/goal_classifier/s_a_sprime_visible_claw_2\n",
      "/home/justinvyu/dev/softlearning-vice/goal_classifier/s_a_sprime_visible_claw_3\n",
      "/home/justinvyu/dev/softlearning-vice/goal_classifier/s_a_sprime_visible_claw_4\n",
      "/home/justinvyu/dev/softlearning-vice/goal_classifier/s_a_sprime_visible_claw_5\n",
      "/home/justinvyu/dev/softlearning-vice/goal_classifier/s_a_sprime_visible_claw_6\n",
      "/home/justinvyu/dev/softlearning-vice/goal_classifier/s_a_sprime_visible_claw_7\n",
      "/home/justinvyu/dev/softlearning-vice/goal_classifier/s_a_sprime_visible_claw_8\n",
      "/home/justinvyu/dev/softlearning-vice/goal_classifier/s_a_sprime_visible_claw_9\n",
      "/home/justinvyu/dev/softlearning-vice/goal_classifier/s_a_sprime_visible_claw_10\n",
      "/home/justinvyu/dev/softlearning-vice/goal_classifier/s_a_sprime_visible_claw_11\n",
      "/home/justinvyu/dev/softlearning-vice/goal_classifier/s_a_sprime_visible_claw_12\n",
      "/home/justinvyu/dev/softlearning-vice/goal_classifier/s_a_sprime_visible_claw_13\n",
      "/home/justinvyu/dev/softlearning-vice/goal_classifier/s_a_sprime_visible_claw_14\n",
      "/home/justinvyu/dev/softlearning-vice/goal_classifier/s_a_sprime_visible_claw_15\n",
      "/home/justinvyu/dev/softlearning-vice/goal_classifier/s_a_sprime_visible_claw_16\n",
      "/home/justinvyu/dev/softlearning-vice/goal_classifier/s_a_sprime_visible_claw_17\n",
      "/home/justinvyu/dev/softlearning-vice/goal_classifier/s_a_sprime_visible_claw_18\n",
      "/home/justinvyu/dev/softlearning-vice/goal_classifier/s_a_sprime_visible_claw_19\n",
      "/home/justinvyu/dev/softlearning-vice/goal_classifier/s_a_sprime_visible_claw_20\n",
      "/home/justinvyu/dev/softlearning-vice/goal_classifier/s_a_sprime_visible_claw_21\n",
      "/home/justinvyu/dev/softlearning-vice/goal_classifier/s_a_sprime_visible_claw_22\n",
      "/home/justinvyu/dev/softlearning-vice/goal_classifier/s_a_sprime_visible_claw_23\n"
     ]
    }
   ],
   "source": [
    "aggregated = None\n",
    "\n",
    "for path in data_dir_paths:\n",
    "    print(path)\n",
    "    with gzip.open(os.path.join(path, 'data.pkl'), 'rb') as f:\n",
    "        data = pickle.load(f)\n",
    "    if aggregated is None:\n",
    "        aggregated = data\n",
    "    else:\n",
    "        aggregated += data\n",
    "    "
   ]
  },
  {
   "cell_type": "code",
   "execution_count": 23,
   "metadata": {},
   "outputs": [
    {
     "data": {
      "text/plain": [
       "23000"
      ]
     },
     "execution_count": 23,
     "metadata": {},
     "output_type": "execute_result"
    }
   ],
   "source": [
    "len(aggregated)"
   ]
  },
  {
   "cell_type": "code",
   "execution_count": 24,
   "metadata": {},
   "outputs": [],
   "source": [
    "def combine_dicts(dicts):\n",
    "    combined = {k: [] for k in dicts[0].keys()}\n",
    "    for d in dicts:\n",
    "        for k in d:\n",
    "            combined[k].append(d[k])\n",
    "            \n",
    "    for k in combined:\n",
    "        combined[k] = np.stack(combined[k])\n",
    "    return combined\n",
    "\n",
    "combined = combine_dicts(aggregated)"
   ]
  },
  {
   "cell_type": "code",
   "execution_count": 25,
   "metadata": {},
   "outputs": [
    {
     "data": {
      "text/plain": [
       "dict_keys(['actions', 'states', 'claw_qpos', 'pixels'])"
      ]
     },
     "execution_count": 25,
     "metadata": {},
     "output_type": "execute_result"
    }
   ],
   "source": [
    "combined.keys()"
   ]
  },
  {
   "cell_type": "code",
   "execution_count": 26,
   "metadata": {},
   "outputs": [
    {
     "data": {
      "text/plain": [
       "(23000, 32, 32, 32, 3)"
      ]
     },
     "execution_count": 26,
     "metadata": {},
     "output_type": "execute_result"
    }
   ],
   "source": [
    "combined['pixels'].shape"
   ]
  },
  {
   "cell_type": "code",
   "execution_count": 27,
   "metadata": {},
   "outputs": [],
   "source": [
    "with gzip.open(common_path[:-1] + '.pkl', 'wb') as f:\n",
    "    pickle.dump(combined, f)"
   ]
  },
  {
   "cell_type": "code",
   "execution_count": 45,
   "metadata": {},
   "outputs": [
    {
     "ename": "KeyError",
     "evalue": "'last_action'",
     "output_type": "error",
     "traceback": [
      "\u001b[0;31m---------------------------------------------------------------------------\u001b[0m",
      "\u001b[0;31mKeyError\u001b[0m                                  Traceback (most recent call last)",
      "\u001b[0;32m<ipython-input-45-93e016a10f20>\u001b[0m in \u001b[0;36m<module>\u001b[0;34m\u001b[0m\n\u001b[1;32m      2\u001b[0m \u001b[0mstates_stacked\u001b[0m \u001b[0;34m=\u001b[0m \u001b[0mcombined\u001b[0m\u001b[0;34m[\u001b[0m\u001b[0;34m'states'\u001b[0m\u001b[0;34m]\u001b[0m\u001b[0;34m.\u001b[0m\u001b[0mreshape\u001b[0m\u001b[0;34m(\u001b[0m\u001b[0;34m(\u001b[0m\u001b[0;34m-\u001b[0m\u001b[0;36m1\u001b[0m\u001b[0;34m,\u001b[0m \u001b[0;36m4\u001b[0m\u001b[0;34m)\u001b[0m\u001b[0;34m)\u001b[0m\u001b[0;34m\u001b[0m\u001b[0;34m\u001b[0m\u001b[0m\n\u001b[1;32m      3\u001b[0m \u001b[0mclaw_stacked\u001b[0m \u001b[0;34m=\u001b[0m \u001b[0mcombined\u001b[0m\u001b[0;34m[\u001b[0m\u001b[0;34m'claw_qpos'\u001b[0m\u001b[0;34m]\u001b[0m\u001b[0;34m.\u001b[0m\u001b[0mreshape\u001b[0m\u001b[0;34m(\u001b[0m\u001b[0;34m(\u001b[0m\u001b[0;34m-\u001b[0m\u001b[0;36m1\u001b[0m\u001b[0;34m,\u001b[0m \u001b[0;36m9\u001b[0m\u001b[0;34m)\u001b[0m\u001b[0;34m)\u001b[0m\u001b[0;34m\u001b[0m\u001b[0;34m\u001b[0m\u001b[0m\n\u001b[0;32m----> 4\u001b[0;31m \u001b[0mlast_action_stacked\u001b[0m \u001b[0;34m=\u001b[0m \u001b[0mcombined\u001b[0m\u001b[0;34m[\u001b[0m\u001b[0;34m'last_action'\u001b[0m\u001b[0;34m]\u001b[0m\u001b[0;34m.\u001b[0m\u001b[0mreshape\u001b[0m\u001b[0;34m(\u001b[0m\u001b[0;34m(\u001b[0m\u001b[0;34m-\u001b[0m\u001b[0;36m1\u001b[0m\u001b[0;34m,\u001b[0m \u001b[0;36m9\u001b[0m\u001b[0;34m)\u001b[0m\u001b[0;34m)\u001b[0m\u001b[0;34m\u001b[0m\u001b[0;34m\u001b[0m\u001b[0m\n\u001b[0m",
      "\u001b[0;31mKeyError\u001b[0m: 'last_action'"
     ]
    }
   ],
   "source": [
    "images_stacked = combined['pixels'].reshape((-1, 32, 32, 3))\n",
    "states_stacked = combined['states'].reshape((-1, 4))\n",
    "claw_stacked = combined['claw_qpos'].reshape((-1, 9))\n",
    "last_action_stacked = combined['last_action'].reshape((-1, 9))"
   ]
  },
  {
   "cell_type": "code",
   "execution_count": 46,
   "metadata": {},
   "outputs": [],
   "source": [
    "actions_stacked = combined['actions'].reshape((-1, 9))"
   ]
  },
  {
   "cell_type": "code",
   "execution_count": 52,
   "metadata": {},
   "outputs": [
    {
     "data": {
      "text/plain": [
       "(1, 9)"
      ]
     },
     "execution_count": 52,
     "metadata": {},
     "output_type": "execute_result"
    }
   ],
   "source": [
    "actions_stacked[735999:].shape"
   ]
  },
  {
   "cell_type": "code",
   "execution_count": 63,
   "metadata": {},
   "outputs": [],
   "source": [
    "indices = np.arange(0, actions_stacked.shape[0], step=32)"
   ]
  },
  {
   "cell_type": "code",
   "execution_count": 64,
   "metadata": {},
   "outputs": [
    {
     "data": {
      "text/plain": [
       "array([     0,     32,     64, ..., 735904, 735936, 735968])"
      ]
     },
     "execution_count": 64,
     "metadata": {},
     "output_type": "execute_result"
    }
   ],
   "source": [
    "indices"
   ]
  },
  {
   "cell_type": "code",
   "execution_count": 58,
   "metadata": {},
   "outputs": [],
   "source": [
    "last_actions = actions_stacked.copy()\n",
    "last_actions[1:] = last_actions[:-1]"
   ]
  },
  {
   "cell_type": "code",
   "execution_count": 65,
   "metadata": {},
   "outputs": [],
   "source": [
    "last_actions[indices] = 0."
   ]
  },
  {
   "cell_type": "code",
   "execution_count": 71,
   "metadata": {},
   "outputs": [
    {
     "data": {
      "text/plain": [
       "(736000, 9)"
      ]
     },
     "execution_count": 71,
     "metadata": {},
     "output_type": "execute_result"
    }
   ],
   "source": [
    "claw_stacked.shape"
   ]
  },
  {
   "cell_type": "code",
   "execution_count": 72,
   "metadata": {},
   "outputs": [],
   "source": [
    "dump_dict = {\n",
    "    'pixels': images_stacked,\n",
    "    'states': states_stacked,\n",
    "    'claw_qpos': claw_stacked,\n",
    "    'last_action': last_actions,\n",
    "}"
   ]
  },
  {
   "cell_type": "code",
   "execution_count": 41,
   "metadata": {},
   "outputs": [
    {
     "data": {
      "text/plain": [
       "<matplotlib.image.AxesImage at 0x7fc8a2c10c50>"
      ]
     },
     "execution_count": 41,
     "metadata": {},
     "output_type": "execute_result"
    },
    {
     "data": {
      "image/png": "[encoded data removed]",
      "text/plain": [
       "<matplotlib.figure.Figure at 0x7fc8a2c9c8d0>"
      ]
     },
     "metadata": {
      "needs_background": "light"
     },
     "output_type": "display_data"
    }
   ],
   "source": [
    "plt.imshow(images_stacked[5000])"
   ]
  },
  {
   "cell_type": "code",
   "execution_count": 73,
   "metadata": {},
   "outputs": [],
   "source": [
    "with gzip.open('./vae_visible_claw_data.pkl', 'wb') as f:\n",
    "    pickle.dump(dump_dict, f)"
   ]
  },
  {
   "cell_type": "code",
   "execution_count": null,
   "metadata": {},
   "outputs": [],
   "source": []
  }
 ],
 "metadata": {
  "kernelspec": {
   "display_name": "Python 3",
   "language": "python",
   "name": "python3"
  },
  "language_info": {
   "codemirror_mode": {
    "name": "ipython",
    "version": 3
   },
   "file_extension": ".py",
   "mimetype": "text/x-python",
   "name": "python",
   "nbconvert_exporter": "python",
   "pygments_lexer": "ipython3",
   "version": "3.7.3"
  }
 },
 "nbformat": 4,
 "nbformat_minor": 2
}

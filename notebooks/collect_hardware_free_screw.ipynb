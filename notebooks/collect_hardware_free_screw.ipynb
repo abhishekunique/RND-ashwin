{
 "cells": [
  {
   "cell_type": "code",
   "execution_count": 1,
   "metadata": {},
   "outputs": [
    {
     "name": "stderr",
     "output_type": "stream",
     "text": [
      "/home/abhigupta/anaconda/envs/vice/lib/python3.7/site-packages/requests/__init__.py:91: RequestsDependencyWarning: urllib3 (1.25.1) or chardet (3.0.4) doesn't match a supported version!\n",
      "  RequestsDependencyWarning)\n",
      "WARNING: Logging before flag parsing goes to stderr.\n",
      "W0123 17:32:34.096828 140195668342528 __init__.py:690] \n",
      "\n",
      "  TensorFlow's `tf-nightly` package will soon be updated to TensorFlow 2.0.\n",
      "\n",
      "  Please upgrade your code to TensorFlow 2.0:\n",
      "    * https://www.tensorflow.org/beta/guide/migration_guide\n",
      "\n",
      "  Or install the latest stable TensorFlow 1.X release:\n",
      "    * `pip install -U \"tensorflow==1.*\"`\n",
      "\n",
      "  Otherwise your code may be broken by the change.\n",
      "\n",
      "  \n"
     ]
    }
   ],
   "source": [
    "import argparse\n",
    "import numpy as np\n",
    "from softlearning.environments.adapters.gym_adapter import GymAdapter\n",
    "import gym\n",
    "import dsuite\n",
    "import imageio\n",
    "import pickle\n",
    "import os\n",
    "import time\n",
    "import matplotlib.pyplot as plt\n",
    "from IPython.display import clear_output\n",
    "import skimage\n",
    "\n",
    "%matplotlib inline"
   ]
  },
  {
   "cell_type": "code",
   "execution_count": 2,
   "metadata": {},
   "outputs": [],
   "source": [
    "exp_name = 'free_screw_lighting_fix'"
   ]
  },
  {
   "cell_type": "code",
   "execution_count": 3,
   "metadata": {},
   "outputs": [
    {
     "data": {
      "text/plain": [
       "'/home/abhigupta/Libraries/vice/notebooks/free_screw_lighting_fix'"
      ]
     },
     "execution_count": 3,
     "metadata": {},
     "output_type": "execute_result"
    }
   ],
   "source": [
    "cur_dir = os.getcwd()\n",
    "directory = os.path.join(cur_dir, exp_name)\n",
    "if not os.path.exists(directory):\n",
    "    os.makedirs(directory)\n",
    "directory"
   ]
  },
  {
   "cell_type": "code",
   "execution_count": 4,
   "metadata": {},
   "outputs": [
    {
     "name": "stdout",
     "output_type": "stream",
     "text": [
      "CREATING NEW IMAGE_SERVICE\n",
      "subscribing to:  /kinect2_001161563647/qhd/image_color\n",
      "No image found yet.\n",
      "No image found yet.\n"
     ]
    },
    {
     "name": "stderr",
     "output_type": "stream",
     "text": [
      "/home/abhigupta/anaconda/envs/vice/lib/python3.7/site-packages/skimage/util/dtype.py:141: UserWarning: Possible precision loss when converting from float64 to uint8\n",
      "  .format(dtypeobj_in, dtypeobj_out))\n",
      "/home/abhigupta/anaconda/envs/vice/lib/python3.7/site-packages/skimage/transform/_warps.py:105: UserWarning: The default mode, 'constant', will be changed to 'reflect' in skimage 0.15.\n",
      "  warn(\"The default mode, 'constant', will be changed to 'reflect' in \"\n"
     ]
    }
   ],
   "source": [
    "images = True\n",
    "\n",
    "image_shape = (32, 32, 3)\n",
    "NUM_TOTAL_EXAMPLES, ROLLOUT_LENGTH, STEPS_PER_SAMPLE = 300, 15, 3\n",
    "env_kwargs = {\n",
    "    'pixel_wrapper_kwargs': {\n",
    "        'pixels_only': False,\n",
    "        'normalize': False,\n",
    "        'render_kwargs': {\n",
    "            'width': image_shape[0],\n",
    "            'height': image_shape[1],\n",
    "            'camera_id': -1,\n",
    "            'box_warp': True,\n",
    "        },\n",
    "    },\n",
    "    'observation_keys': (\n",
    "        'pixels',\n",
    "        'claw_qpos',\n",
    "        'last_action',\n",
    "    ),\n",
    "    'device_path': '/dev/ttyUSB0',\n",
    "    'camera_config': {\n",
    "        'topic': '/kinect2_001161563647/qhd/image_color',\n",
    "        'image_shape': (256, 256, 3),\n",
    "    }\n",
    "}\n",
    "env = GymAdapter(\n",
    "    domain='DClaw',\n",
    "    task='TurnFreeValve3Hardware-v0',\n",
    "    **env_kwargs\n",
    ") "
   ]
  },
  {
   "cell_type": "code",
   "execution_count": 5,
   "metadata": {},
   "outputs": [],
   "source": [
    "obs = env.reset()"
   ]
  },
  {
   "cell_type": "code",
   "execution_count": 6,
   "metadata": {},
   "outputs": [
    {
     "data": {
      "text/plain": [
       "array([ 0, -1,  1,  1, -1,  1,  0, -1,  1])"
      ]
     },
     "execution_count": 6,
     "metadata": {},
     "output_type": "execute_result"
    }
   ],
   "source": [
    "obs['claw_qpos'].astype(int)"
   ]
  },
  {
   "cell_type": "code",
   "execution_count": 10,
   "metadata": {},
   "outputs": [
    {
     "data": {
      "text/plain": [
       "array([ 0, -1,  1,  0, -1,  1,  0, -1,  1])"
      ]
     },
     "execution_count": 10,
     "metadata": {},
     "output_type": "execute_result"
    }
   ],
   "source": [
    "from dsuite.dclaw.base_env import DEFAULT_CLAW_RESET_POSE\n",
    "DEFAULT_CLAW_RESET_POSE.astype(int)"
   ]
  },
  {
   "cell_type": "code",
   "execution_count": null,
   "metadata": {},
   "outputs": [],
   "source": [
    "observation, _, _, _ = env.step(env.action_space.sample())\n",
    "img_obs = observation['pixels']\n",
    "print(img_obs.shape)\n",
    "plt.imshow(img_obs)\n",
    "plt.show()"
   ]
  },
  {
   "cell_type": "code",
   "execution_count": null,
   "metadata": {},
   "outputs": [],
   "source": [
    "img_obs"
   ]
  },
  {
   "cell_type": "code",
   "execution_count": null,
   "metadata": {},
   "outputs": [],
   "source": [
    "from skimage import transform\n",
    "rect = np.array([[5, 10], [27, 10], [0, 26], [31, 26]], np.float32)\n",
    "dst = np.array([[0, 0], [31, 0], [0, 31], [31, 31]], np.float32)\n",
    "tform3 = transform.ProjectiveTransform()\n",
    "tform3.estimate(dst, rect)"
   ]
  },
  {
   "cell_type": "code",
   "execution_count": null,
   "metadata": {},
   "outputs": [],
   "source": [
    "import sys\n",
    "sys.path.remove('/opt/ros/kinetic/lib/python2.7/dist-packages')"
   ]
  },
  {
   "cell_type": "code",
   "execution_count": null,
   "metadata": {},
   "outputs": [],
   "source": [
    "import cv2\n",
    "\n",
    "M = cv2.getPerspectiveTransform(rect, dst)\n",
    "warped = cv2.warpPerspective(img_obs, M, (32, 32))\n",
    "plt.imshow(warped)"
   ]
  },
  {
   "cell_type": "code",
   "execution_count": null,
   "metadata": {},
   "outputs": [],
   "source": [
    "warped = transform.warp(img_obs, tform3, output_shape=(32, 32))\n",
    "plt.imshow(warped)"
   ]
  },
  {
   "cell_type": "code",
   "execution_count": 6,
   "metadata": {},
   "outputs": [],
   "source": [
    "observations = []\n",
    "num_positives = 0"
   ]
  },
  {
   "cell_type": "code",
   "execution_count": 7,
   "metadata": {},
   "outputs": [],
   "source": [
    "# reset the environment\n",
    "while num_positives <= NUM_TOTAL_EXAMPLES:\n",
    "    observation = env.reset()\n",
    "    print(\"Resetting environment...\")\n",
    "    t = 0\n",
    "    while t < ROLLOUT_LENGTH:\n",
    "        action = env.action_space.sample()\n",
    "        \n",
    "        for _ in range(STEPS_PER_SAMPLE):\n",
    "            observation, _, _, _ = env.step(action)\n",
    "\n",
    "#         input('C TO CONTINUE: ')\n",
    "        observation, _, _, _ = env.step(action)\n",
    "        \n",
    "        img_obs = observation['pixels']\n",
    "        plt.imshow(img_obs)\n",
    "        plt.show()\n",
    "        \n",
    "        print(f'# {num_positives}')\n",
    "        save = input('S TO SAVE, D TO DELETE: ')\n",
    "        if save == 'S' or save == 's':        \n",
    "            observations.append(observation)\n",
    "            num_positives += 1\n",
    "            print(num_positives)\n",
    "            t += 1\n",
    "        clear_output()\n",
    "    \n",
    "goal_examples = {\n",
    "    key: np.concatenate([\n",
    "        obs[key][None] for obs in observations\n",
    "    ], axis=0)\n",
    "    for key in observations[0].keys()\n",
    "}\n",
    "with open(os.path.join(directory, 'positives.pkl'), 'wb') as file:\n",
    "    pickle.dump(goal_examples, file)"
   ]
  },
  {
   "cell_type": "code",
   "execution_count": null,
   "metadata": {},
   "outputs": [],
   "source": [
    "with open('/home/abhigupta/Libraries/vice/goal_pools/free_screw_goal_images_black_box_more_friction/positives.pkl', 'rb') as f:\n",
    "    data = pickle.load(f)"
   ]
  },
  {
   "cell_type": "code",
   "execution_count": null,
   "metadata": {},
   "outputs": [],
   "source": []
  }
 ],
 "metadata": {
  "kernelspec": {
   "display_name": "Python 3",
   "language": "python",
   "name": "python3"
  },
  "language_info": {
   "codemirror_mode": {
    "name": "ipython",
    "version": 3
   },
   "file_extension": ".py",
   "mimetype": "text/x-python",
   "name": "python",
   "nbconvert_exporter": "python",
   "pygments_lexer": "ipython3",
   "version": "3.7.3"
  }
 },
 "nbformat": 4,
 "nbformat_minor": 2
}

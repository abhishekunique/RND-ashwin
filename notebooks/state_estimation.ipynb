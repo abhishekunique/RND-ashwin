{
 "cells": [
  {
   "cell_type": "code",
   "execution_count": null,
   "metadata": {},
   "outputs": [],
   "source": [
    "import numpy as np\n",
    "import imageio\n",
    "from softlearning.models.state_estimation import (\n",
    "    state_estimator_model, get_dumped_pkl_data, get_seed_data)\n",
    "import tensorflow as tf\n",
    "import matplotlib.pyplot as plt\n",
    "import gzip\n",
    "import os\n",
    "import pickle\n",
    "%matplotlib inline"
   ]
  },
  {
   "cell_type": "code",
   "execution_count": null,
   "metadata": {},
   "outputs": [],
   "source": [
    "image_shape = (32, 32, 3)\n",
    "\n",
    "obs_keys = ('object_position',\n",
    "            'object_orientation_cos',\n",
    "            'object_orientation_sin')\n",
    "model = state_estimator_model(\n",
    "    domain='DClaw',\n",
    "    task='TurnFreeValve3ResetFreeSwapGoal-v0',\n",
    "    obs_keys_to_estimate=obs_keys, \n",
    "    input_shape=image_shape,\n",
    "#     num_hidden_units=256,\n",
    "    num_hidden_units=512,\n",
    "    num_hidden_layers=4,\n",
    ")\n",
    "\n",
    "model.summary()\n",
    "model.compile(\n",
    "    optimizer=tf.keras.optimizers.Adam(learning_rate=1e-4),\n",
    "    loss='mean_squared_error')"
   ]
  },
  {
   "cell_type": "code",
   "execution_count": null,
   "metadata": {},
   "outputs": [],
   "source": [
    "for layer in model.layers:\n",
    "    print(layer.name)\n",
    "    if 'input' in layer.name:\n",
    "        continue\n",
    "    layer.summary()"
   ]
  },
  {
   "cell_type": "code",
   "execution_count": null,
   "metadata": {},
   "outputs": [],
   "source": [
    "with gzip.open(os.path.join('/home/justinvyu/dev/softlearning-vice/goal_classifier/free_screw_state_estimator_data_invisible_claw', 'more_data.pkl'), 'rb') as f:\n",
    "    data = pickle.load(f)"
   ]
  },
  {
   "cell_type": "code",
   "execution_count": null,
   "metadata": {},
   "outputs": [],
   "source": [
    "def train(model, data, save_path, n_epochs=50):\n",
    "    assert 'pixels' in data and 'states' in data, 'Invalid training data'\n",
    "    pixels, states = data['pixels'], data['states']\n",
    "    history = model.fit(\n",
    "        x=pixels,\n",
    "        y=states,\n",
    "        batch_size=128,\n",
    "        epochs=n_epochs,\n",
    "        validation_split=0.05\n",
    "    )\n",
    "    \n",
    "    model.save_weights(save_path)\n",
    "    return history\n",
    "\n",
    "history = train(model, data, './state_estimator_antialias_larger_network.h5', n_epochs=100)"
   ]
  },
  {
   "cell_type": "code",
   "execution_count": null,
   "metadata": {},
   "outputs": [],
   "source": [
    "# weights_path = './state_estimator_random_data_50_epochs.h5'\n",
    "# weights_path = './state_estimator_invisible_claw.h5'\n",
    "# weights_path = './state_estimator_antialias.h5'\n",
    "weights_path = './state_estimator_antialias_larger_network.h5'\n",
    "model.load_weights(weights_path)"
   ]
  },
  {
   "cell_type": "code",
   "execution_count": null,
   "metadata": {},
   "outputs": [],
   "source": [
    "# Aliased, random, invisible\n",
    "training_pools_base_path = '/home/justinvyu/dev/softlearning-vice/goal_classifier/free_screw_state_estimator_data_invisible_claw/data.pkl'\n",
    "images, labels = get_dumped_pkl_data(training_pools_base_path)"
   ]
  },
  {
   "cell_type": "code",
   "execution_count": null,
   "metadata": {},
   "outputs": [],
   "source": [
    "# Aliased, on policy, invisible\n",
    "training_pools_base_path = '/root/softlearning-vice/goal_classifier/free_screw_state_estimator_data_invisible_claw_test/data.pkl'\n",
    "images, labels = get_dumped_pkl_data(training_pools_base_path)"
   ]
  },
  {
   "cell_type": "code",
   "execution_count": null,
   "metadata": {},
   "outputs": [],
   "source": [
    "# Anti-aliased, random, invisible\n",
    "training_pools_base_path = '/home/justinvyu/dev/softlearning-vice/goal_classifier/free_screw_state_estimator_data_invisible_claw/data.pkl'\n",
    "images, labels = get_dumped_pkl_data(training_pools_base_path)"
   ]
  },
  {
   "cell_type": "code",
   "execution_count": null,
   "metadata": {},
   "outputs": [],
   "source": [
    "images, labels = data['pixels'], data['states']"
   ]
  },
  {
   "cell_type": "code",
   "execution_count": null,
   "metadata": {},
   "outputs": [],
   "source": [
    "# Show some photos\n",
    "plt.axis('off')\n",
    "test_index = 30009\n",
    "plt.imshow(images[test_index])\n",
    "print(labels[test_index])"
   ]
  },
  {
   "cell_type": "code",
   "execution_count": null,
   "metadata": {},
   "outputs": [],
   "source": [
    "# Get samples to calculate metrics on\n",
    "random_indices = np.random.choice(images.shape[0], size=5000)\n",
    "test_images = images[random_indices]\n",
    "test_labels = labels[random_indices]\n",
    "preds = model.predict(test_images)"
   ]
  },
  {
   "cell_type": "code",
   "execution_count": null,
   "metadata": {},
   "outputs": [],
   "source": [
    "pos_errors = []\n",
    "angle_errors = []\n",
    "\n",
    "degrees = lambda x: x * 180 / np.pi\n",
    "def angle_distance(deg1, deg2):\n",
    "    phi = np.abs(deg1 - deg2) % 360\n",
    "    distance = 360 - phi if phi > 180 else phi\n",
    "    return distance\n",
    "\n",
    "for i, (test_img, label, pred) in enumerate(zip(test_images, test_labels, preds)):\n",
    "    pos_error_xy = np.abs(label[:2] - pred[:2])\n",
    "    pos_error = np.linalg.norm(pos_error_xy)\n",
    "    pos_error = 15 * pos_error # free box is 30 cm, 15 on each side (-1 -> 1 --> -15 -> 15)\n",
    "    \n",
    "    true_angle = np.arctan2(label[3], label[2])\n",
    "    true_angle = degrees(true_angle)\n",
    "    pred_angle = np.arctan2(pred[3], pred[2])\n",
    "    pred_angle = degrees(pred_angle)\n",
    "    \n",
    "    angle_error = angle_distance(true_angle, pred_angle)\n",
    "\n",
    "    pos_errors.append(pos_error)\n",
    "    angle_errors.append(angle_error)\n",
    "\n",
    "#     print('\\n========== IMAGE #', i, '=========')\n",
    "#     print('POS ERROR (cm):', pos_error, 'true xy: {}'.format(label[:2]), 'pred xy: {}'.format(pred[:2]))\n",
    "#     print('ANGLE ERROR (degrees):', angle_error, 'true angle: {}'.format(true_angle), 'pred angle: {}'.format(pred_angle))\n",
    "#     imageio.imwrite(f'/root/imgs/test{i}.jpg', test_img)\n",
    "\n",
    "mean_pos_error = np.mean(pos_errors)\n",
    "mean_angle_error = np.mean(angle_errors)\n",
    "print('MEAN POS ERROR (CM):', mean_pos_error)\n",
    "print('MEAN ANGLE ERROR (degrees):', mean_angle_error)"
   ]
  },
  {
   "cell_type": "code",
   "execution_count": null,
   "metadata": {},
   "outputs": [],
   "source": [
    "def display_top_errors(errors, label_str=\"\"):\n",
    "    errors = np.array(errors)\n",
    "    ind = np.argpartition(errors, -20)[-20:]\n",
    "    ind = ind[np.argsort(errors[ind])]\n",
    "    ind = np.flip(ind) # Order descending\n",
    "    top_errors = errors[ind]\n",
    "    \n",
    "    top_error_imgs, top_error_labels, top_error_preds = test_images[ind], test_labels[ind], preds[ind]\n",
    "    for i, (error, img, label, pred) in enumerate(zip(top_errors,\n",
    "                                                      top_error_imgs,\n",
    "                                                      top_error_labels,\n",
    "                                                      top_error_preds)):\n",
    "        print('\\n========== IMAGE #', i, '=========')\n",
    "        plt.axis('off')\n",
    "        plt.imshow(img)\n",
    "        print('{} ERROR: {}\\n\\ntrue: {}\\npred: {}'.format(label_str, error, label, pred))\n",
    "        plt.show()\n",
    "    \n",
    "display_top_errors(pos_errors, label_str=\"POS (cm)\")"
   ]
  },
  {
   "cell_type": "code",
   "execution_count": null,
   "metadata": {},
   "outputs": [],
   "source": [
    "display_top_errors(angle_errors, label_str=\"ANGLE (degrees)\")"
   ]
  },
  {
   "cell_type": "code",
   "execution_count": null,
   "metadata": {},
   "outputs": [],
   "source": [
    "first = np.arctan2(-0.23606753, -0.97173665)\n",
    "second = np.arctan2(0.17438738, -0.9635754)\n",
    "rad_to_deg = lambda x: 180 * x / np.pi\n",
    "rad_to_deg(first), rad_to_deg(second)"
   ]
  },
  {
   "cell_type": "code",
   "execution_count": null,
   "metadata": {},
   "outputs": [],
   "source": [
    "def plot_histograms(pos_errors, angle_errors):\n",
    "    plt.figure(figsize=(10, 5))\n",
    "    plt.subplot(1, 2, 1)\n",
    "    plt.title('Position Errors (cm)')\n",
    "    plt.hist(pos_errors, bins=30)\n",
    "    plt.subplot(1, 2, 2)\n",
    "    plt.title('Angle Errors (deg)')\n",
    "    plt.hist(angle_errors, bins=30)\n",
    "    plt.show()\n",
    "    \n",
    "plot_histograms(pos_errors, angle_errors)"
   ]
  },
  {
   "cell_type": "code",
   "execution_count": null,
   "metadata": {},
   "outputs": [],
   "source": [
    "def plot_pos_support():\n",
    "    plt.figure(figsize=(5, 5))\n",
    "    plt.scatter(test_labels[:, 0], test_labels[:, 1], alpha=0.1, s=5)\n",
    "    plt.show()\n",
    "    \n",
    "plot_pos_support()\n",
    "\n",
    "def plot_angle_support():\n",
    "    plt.figure(figsize=(5,5))\n",
    "    angles = np.arctan2(test_labels[:, 3], test_labels[:, 2])\n",
    "    plt.hist(angles, bins=50)\n",
    "    plt.show()\n",
    "    \n",
    "plot_angle_support()"
   ]
  },
  {
   "cell_type": "code",
   "execution_count": null,
   "metadata": {},
   "outputs": [],
   "source": [
    "# for label, pred in zip(test_labels, preds):\n",
    "#     labels_x, labels_y = test_labels[:, 0], test_labels[:, 1]\n",
    "#     preds_x, preds_y = preds[:, 0], preds[:, 1]\n",
    "#     print(preds_x.shape, preds_y.shape)\n",
    "#     dxs, dys = preds_x - labels_x, preds_y - labels_y\n",
    "#     print(dxs.shape, dys.shape)\n",
    "\n",
    "import seaborn as sns\n",
    "sns.set()\n",
    "def get_noise(size, loc=0, scale=0.02):\n",
    "    return np.random.normal(loc=loc, scale=scale, size=size)\n",
    "\n",
    "labels_x, labels_y = test_labels[:, 0], test_labels[:, 1]\n",
    "\n",
    "# noisy_x, noisy_y = (\n",
    "#     test_labels[:, 0] + get_noise(test_labels[:, 0].shape),\n",
    "#     test_labels[:, 1] + get_noise(test_labels[:, 1].shape),\n",
    "# )\n",
    "# dxs_noise, dys_noise = noisy_x - labels_x, noisy_y - labels_y\n",
    "# plt.figure(figsize=(20, 20))\n",
    "# plt.quiver(labels_x, labels_y, dxs_noise, dys_noise, angles='xy', scale_units='xy', scale=1, width=0.001, alpha=0.5)\n",
    "\n",
    "preds_x, preds_y = preds[:, 0], preds[:, 1]\n",
    "dxs, dys = preds_x - labels_x, preds_y - labels_y\n",
    "plt.figure(figsize=(20, 20))\n",
    "plt.title('State estimator errors (xy)')\n",
    "\n",
    "plt.scatter(labels_x, labels_y, c='blue', s=2, label='labels (blue)')\n",
    "plt.scatter(preds_x, preds_y, c='green', s=2, label='preds (green)')\n",
    "plt.legend()\n",
    "plt.quiver(labels_x, labels_y, dxs, dys, angles='xy', scale_units='xy', scale=1, width=0.001, alpha=0.6)\n",
    "\n",
    "plt.figure(figsize=(10, 10))\n",
    "plt.title('Position errors')\n",
    "plt.xlabel('label')\n",
    "plt.ylabel('predicted')\n",
    "\n",
    "plt.scatter(labels_x, preds_x, s=0.5, alpha=0.2, label='x')\n",
    "plt.scatter(labels_y, preds_y, s=0.5, alpha=0.2, label='y')\n",
    "plt.legend()\n"
   ]
  },
  {
   "cell_type": "code",
   "execution_count": null,
   "metadata": {},
   "outputs": [],
   "source": [
    "labels_z_cos, labels_z_sin = test_labels[:, 2], test_labels[:, 3]\n",
    "preds_z_cos, preds_z_sin = preds[:, 2], preds[:, 3]\n",
    "dzs_cos, dzs_sin = preds_z_cos - labels_z_cos, preds_z_sin - labels_z_sin\n",
    "\n",
    "# plt.figure(figsize=(20, 20))\n",
    "# plt.title('State estimator errors (angle)')\n",
    "# plt.scatter(labels_z_cos, labels_z_sin, c='blue', s=2, label='labels (blue)')\n",
    "# plt.scatter(preds_z_cos, preds_z_sin, c='green', s=2, label='preds (green)')\n",
    "# plt.legend()\n",
    "# # circle = plt.Circle((0, 0), 1, color='black', alpha=.5, fill=False)\n",
    "# # plt.gcf().gca().add_artist(circle)\n",
    "# plt.quiver(labels_z_cos, labels_z_sin, dzs_cos, dzs_sin, angles='xy', scale_units='xy', scale=1, width=0.001, alpha=0.6)\n",
    "\n",
    "labels_angle, preds_angle = (\n",
    "    np.arctan2(labels_z_sin, labels_z_cos),\n",
    "    np.arctan2(preds_z_sin, preds_z_cos)\n",
    ")\n",
    "print(labels_angle, labels_angle)\n",
    "plt.figure(figsize=(10, 10))\n",
    "plt.title('Angle errors')\n",
    "plt.xlabel('label angle (radians)')\n",
    "plt.ylabel('predicted angle (radians)')\n",
    "plt.scatter(labels_angle, preds_angle, s=0.4, alpha=0.25)\n"
   ]
  },
  {
   "cell_type": "code",
   "execution_count": null,
   "metadata": {},
   "outputs": [],
   "source": [
    "import glob\n",
    "import os\n",
    "import pickle\n",
    "import gzip\n",
    "import numpy as np\n",
    "# Aggregate data pools together\n",
    "path = '/home/justinvyu/dev/softlearning-vice/goal_classifier'\n",
    "\n",
    "aggregated = {}\n",
    "for data_dir in glob.iglob(os.path.join(path, 'free_screw_state_estimator*')):\n",
    "    print(data_dir)\n",
    "    data_fn = os.path.join(data_dir, 'data.pkl')\n",
    "    try:\n",
    "        with gzip.open(data_fn, 'rb') as f:\n",
    "            try:\n",
    "                data = pickle.load(f)\n",
    "                print(data.keys())\n",
    "            except:\n",
    "                continue\n",
    "    except:\n",
    "        continue\n",
    "        \n",
    "    for k, v in data.items():\n",
    "        print(k, v.shape)\n",
    "        if k in aggregated:\n",
    "            aggregated[k] = np.concatenate([\n",
    "                aggregated.get(k), v])\n",
    "        else:\n",
    "            aggregated[k] = v\n",
    "        print(aggregated[k].shape)\n",
    "        \n",
    "aggregated['pixels'].shape"
   ]
  },
  {
   "cell_type": "code",
   "execution_count": null,
   "metadata": {},
   "outputs": [],
   "source": [
    "aggregated['states'].shape\n",
    "with gzip.open(os.path.join('/home/justinvyu/dev/softlearning-vice/goal_classifier/free_screw_state_estimator_data_invisible_claw', 'more_data.pkl'), 'wb') as f:\n",
    "    pickle.dump(aggregated, f, protocol=4)"
   ]
  },
  {
   "cell_type": "code",
   "execution_count": null,
   "metadata": {},
   "outputs": [],
   "source": []
  }
 ],
 "metadata": {
  "kernelspec": {
   "display_name": "Python 3",
   "language": "python",
   "name": "python3"
  },
  "language_info": {
   "codemirror_mode": {
    "name": "ipython",
    "version": 3
   },
   "file_extension": ".py",
   "mimetype": "text/x-python",
   "name": "python",
   "nbconvert_exporter": "python",
   "pygments_lexer": "ipython3",
   "version": "3.7.3"
  }
 },
 "nbformat": 4,
 "nbformat_minor": 2
}

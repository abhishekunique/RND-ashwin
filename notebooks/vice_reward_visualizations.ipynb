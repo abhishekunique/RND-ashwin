{
 "cells": [
  {
   "cell_type": "code",
   "execution_count": 240,
   "metadata": {},
   "outputs": [],
   "source": [
    "import numpy as np\n",
    "import matplotlib.pyplot as plt\n",
    "import os\n",
    "import pickle\n",
    "import gzip\n",
    "import tensorflow as tf\n",
    "import glob\n",
    "import math\n",
    "import skimage"
   ]
  },
  {
   "cell_type": "code",
   "execution_count": 2,
   "metadata": {},
   "outputs": [],
   "source": [
    "tf.enable_eager_execution()"
   ]
  },
  {
   "cell_type": "markdown",
   "metadata": {},
   "source": [
    "## Specify the Experiment Directory"
   ]
  },
  {
   "cell_type": "code",
   "execution_count": 298,
   "metadata": {},
   "outputs": [],
   "source": [
    "common_dir = '/home/justinvyu/ray_results'\n",
    "universe = 'gym'\n",
    "domain = 'Point2D'\n",
    "task = 'BoxWall-v1'"
   ]
  },
  {
   "cell_type": "code",
   "execution_count": 367,
   "metadata": {},
   "outputs": [
    {
     "name": "stdout",
     "output_type": "stream",
     "text": [
      "0 \t /2020-03-14T16-43-26-sac_actionscales_rewards_boxwall\n",
      "1 \t /2020-03-14T18-28-09-vice_actionscales_randreset_1goal_boxwall_50path\n",
      "2 \t /2020-03-15T22-10-17-sac_actionscales_rewards_boxwall_delete_later\n",
      "3 \t /2020-03-15T22-11-01-sac_actionscales_rewards_boxwall_delete_later\n",
      "4 \t /2020-03-15T22-12-10-sac_actionscales_rewards_boxwall_delete_later\n",
      "5 \t /2020-03-15T22-13-47-sac_actionscales_rewards_boxwall_delete_later\n",
      "6 \t /2020-03-15T22-16-30-sac_actionscales_rewards_boxwall_delete_later\n",
      "7 \t /2020-03-15T22-17-29-sac_actionscales_rewards_boxwall_delete_later\n",
      "8 \t /2020-03-15T22-20-51-sac_actionscales_rewards_boxwall_delete_later\n",
      "9 \t /2020-03-15T22-23-53-sac_actionscales_rewards_boxwall_delete_later\n",
      "10 \t /2020-03-15T22-40-16-sac_actionscales_rewards_boxwall_delete_later\n",
      "11 \t /2020-03-17T16-18-54-vice_randreset_bottommiddle\n",
      "\n",
      " Which experiment do you want to analyze? (ENTER A NUMBER) \t11\n",
      "\n",
      "\n",
      "0 \t /ac505f9a-algorithm=VICE-seed=2352_2020-03-17_16-18-55qqvzbsr5\n",
      "1 \t /ac50f6b2-algorithm=VICE-seed=9793_2020-03-17_16-18-56wgy7u_xb\n",
      "2 \t /ac518bfe-algorithm=VICE-seed=5902_2020-03-17_16-18-564rmmxgm2\n",
      "3 \t /ac51f2c4-algorithm=VICE-seed=581_2020-03-17_16-18-56ewn7xw36\n",
      "\n",
      " Which seed do you want to analyze? (ENTER A NUMBER) \t0\n",
      "PATH:\n",
      " /home/justinvyu/ray_results/gym/Point2D/BoxWall-v1/2020-03-17T16-18-54-vice_randreset_bottommiddle/ac505f9a-algorithm=VICE-seed=2352_2020-03-17_16-18-55qqvzbsr5\n"
     ]
    }
   ],
   "source": [
    "base_path = os.path.join(common_dir, universe, domain, task)\n",
    "exps = sorted(list(glob.iglob(os.path.join(base_path, '*'))))\n",
    "for i, exp in enumerate(exps):\n",
    "    print(f'{i} \\t {exp.replace(base_path, \"\")}')\n",
    "    \n",
    "exp_choice = int(input('\\n Which experiment do you want to analyze? (ENTER A NUMBER) \\t'))\n",
    "\n",
    "exp_path = exps[exp_choice]\n",
    "print('\\n')\n",
    "seeds = sorted(list(glob.iglob(os.path.join(exp_path, '*'))))\n",
    "seeds = [seed for seed in seeds if os.path.isdir(seed)]\n",
    "for i, seed in enumerate(seeds):\n",
    "    print(f'{i} \\t {seed.replace(exp_path, \"\")}')\n",
    "    \n",
    "# TODO: Extend to analyzing all seeds\n",
    "seed_choice = int(input('\\n Which seed do you want to analyze? (ENTER A NUMBER) \\t'))\n",
    "\n",
    "seed_path = seeds[seed_choice]\n",
    "\n",
    "print('PATH:\\n', seed_path)"
   ]
  },
  {
   "cell_type": "markdown",
   "metadata": {},
   "source": [
    "## Specify the Checkpoint"
   ]
  },
  {
   "cell_type": "code",
   "execution_count": 368,
   "metadata": {},
   "outputs": [],
   "source": [
    "checkpoint_to_analyze = 100"
   ]
  },
  {
   "cell_type": "code",
   "execution_count": 369,
   "metadata": {},
   "outputs": [
    {
     "name": "stderr",
     "output_type": "stream",
     "text": [
      "W0317 17:14:04.153533 139731411531584 hdf5_format.py:171] No training configuration found in save file: the model was *not* compiled. Compile it manually.\n"
     ]
    }
   ],
   "source": [
    "with open(os.path.join(seed_path, f'checkpoint_{checkpoint_to_analyze}/checkpoint.pkl'), 'rb') as f:\n",
    "    checkpoint = pickle.load(f)"
   ]
  },
  {
   "cell_type": "markdown",
   "metadata": {},
   "source": [
    "## Load Reward Classifier"
   ]
  },
  {
   "cell_type": "code",
   "execution_count": 370,
   "metadata": {},
   "outputs": [],
   "source": [
    "reward_clf = checkpoint['reward_classifier']"
   ]
  },
  {
   "cell_type": "code",
   "execution_count": 371,
   "metadata": {},
   "outputs": [],
   "source": [
    "train_env = checkpoint['training_environment']"
   ]
  },
  {
   "cell_type": "code",
   "execution_count": 372,
   "metadata": {},
   "outputs": [],
   "source": [
    "target_pos = train_env.unwrapped._get_obs()['state_desired_goal']"
   ]
  },
  {
   "cell_type": "code",
   "execution_count": 373,
   "metadata": {},
   "outputs": [],
   "source": [
    "n_samples = 50\n",
    "xs = np.linspace(obs_space.low[0], obs_space.high[0], n_samples)\n",
    "ys = np.linspace(obs_space.low[1], obs_space.high[1], n_samples)\n",
    "\n",
    "xys = np.meshgrid(xs, ys)"
   ]
  },
  {
   "cell_type": "code",
   "execution_count": 374,
   "metadata": {},
   "outputs": [],
   "source": [
    "grid_vals = np.array(xys).transpose(1, 2, 0).reshape((n_samples * n_samples, 2))"
   ]
  },
  {
   "cell_type": "code",
   "execution_count": 375,
   "metadata": {},
   "outputs": [],
   "source": [
    "rewards = reward_clf.predict(grid_vals)"
   ]
  },
  {
   "cell_type": "code",
   "execution_count": 378,
   "metadata": {},
   "outputs": [
    {
     "data": {
      "image/png": "[encoded data removed]",
      "text/plain": [
       "<Figure size 576x576 with 2 Axes>"
      ]
     },
     "metadata": {
      "needs_background": "light"
     },
     "output_type": "display_data"
    }
   ],
   "source": [
    "plt.figure(figsize=(8, 8))\n",
    "from matplotlib.patches import Rectangle\n",
    "plt.gca().invert_yaxis()\n",
    "\n",
    "plt.contourf(xys[0], xys[1], rewards.reshape(xys[0].shape), levels=20)\n",
    "plt.colorbar(fraction=0.046, pad=0.04)\n",
    "\n",
    "if task == 'BoxWall-v1':\n",
    "    currentAxis = plt.gca()\n",
    "    currentAxis.add_patch(Rectangle((-2, -2), 4, 4,\n",
    "                          alpha=1, fill=None, linewidth=4))\n",
    "\n",
    "plt.scatter(*target_pos, marker='*', s=250, color='white')\n",
    "plt.title(f'VICE Reward for {domain + task} Task @ Checkpoint #{checkpoint_to_analyze}\\n'\n",
    "          + f'Target Pos: {target_pos}')\n",
    "plt.show()"
   ]
  },
  {
   "cell_type": "markdown",
   "metadata": {},
   "source": [
    "## Plot Goal Examples"
   ]
  },
  {
   "cell_type": "code",
   "execution_count": 379,
   "metadata": {},
   "outputs": [],
   "source": [
    "with open('/home/justinvyu/dev/vice/goal_classifier/pointmass_nowalls/bottom_middle/positives.pkl', 'rb') as f:\n",
    "    data = pickle.load(f)"
   ]
  },
  {
   "cell_type": "code",
   "execution_count": 380,
   "metadata": {},
   "outputs": [
    {
     "data": {
      "image/png": "[encoded data removed]",
      "text/plain": [
       "<Figure size 576x576 with 1 Axes>"
      ]
     },
     "metadata": {
      "needs_background": "light"
     },
     "output_type": "display_data"
    }
   ],
   "source": [
    "plt.figure(figsize=(8, 8))\n",
    "\n",
    "plt.scatter(data['state_observation'][:,0], data['state_observation'][:,1], s=5)\n",
    "plt.xlim([-4, 4])\n",
    "plt.ylim([-4, 4])\n",
    "plt.gca().invert_yaxis()"
   ]
  },
  {
   "cell_type": "markdown",
   "metadata": {},
   "source": [
    "## Plot Ground Truth Rewards"
   ]
  },
  {
   "cell_type": "code",
   "execution_count": null,
   "metadata": {},
   "outputs": [],
   "source": [
    "feed_dict = {\n",
    "    'state_achieved_goal': grid_vals,\n",
    "    'state_desired_goal': np.full(grid_vals.shape, fill_value=2)\n",
    "}\n",
    "train_env.unwrapped.reward_type = 'sparse'\n",
    "gtr = train_env.unwrapped.compute_rewards(None, feed_dict)\n",
    "plt.figure(figsize=(8, 8))\n",
    "\n",
    "from matplotlib.patches import Rectangle\n",
    "\n",
    "plt.gca().invert_yaxis()\n",
    "\n",
    "plt.contourf(xys[0], xys[1], gtr.reshape(xys[0].shape))\n",
    "plt.colorbar(fraction=0.046, pad=0.04)\n",
    "\n",
    "if task == 'BoxWall-v1':\n",
    "    currentAxis = plt.gca()\n",
    "    currentAxis.add_patch(Rectangle((-2, -2), 4, 4,\n",
    "                          alpha=1, fill=None, linewidth=4))\n",
    "\n",
    "plt.title(f'Ground Truth Reward for {domain + task} Task @ Checkpoint #{checkpoint_to_analyze}')\n",
    "\n",
    "plt.scatter(*target_pos, marker='*', s=250, color='white')\n",
    "plt.show()"
   ]
  }
 ],
 "metadata": {
  "kernelspec": {
   "display_name": "Python 3",
   "language": "python",
   "name": "python3"
  },
  "language_info": {
   "codemirror_mode": {
    "name": "ipython",
    "version": 3
   },
   "file_extension": ".py",
   "mimetype": "text/x-python",
   "name": "python",
   "nbconvert_exporter": "python",
   "pygments_lexer": "ipython3",
   "version": "3.7.3"
  }
 },
 "nbformat": 4,
 "nbformat_minor": 4
}

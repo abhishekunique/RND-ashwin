{
 "cells": [
  {
   "cell_type": "markdown",
   "metadata": {},
   "source": [
    "Train an embedding given a batch of data collected by a successful run."
   ]
  },
  {
   "cell_type": "code",
   "execution_count": null,
   "metadata": {},
   "outputs": [],
   "source": [
    "import numpy as np\n",
    "import matplotlib.pyplot as plt\n",
    "import os\n",
    "import pickle\n",
    "import tensorflow as tf\n",
    "import glob\n",
    "import math\n",
    "import skimage\n",
    "\n",
    "tf.enable_eager_execution()"
   ]
  },
  {
   "cell_type": "code",
   "execution_count": null,
   "metadata": {},
   "outputs": [],
   "source": [
    "from IPython.display import clear_output"
   ]
  },
  {
   "cell_type": "markdown",
   "metadata": {},
   "source": [
    "## Load Run"
   ]
  },
  {
   "cell_type": "code",
   "execution_count": null,
   "metadata": {},
   "outputs": [],
   "source": [
    "common_dir = '/home/justinvyu/ray_results'\n",
    "universe = 'gym'\n",
    "domain = 'Point2D'\n",
    "task = 'Maze-v0'"
   ]
  },
  {
   "cell_type": "code",
   "execution_count": null,
   "metadata": {},
   "outputs": [],
   "source": [
    "base_path = os.path.join(common_dir, universe, domain, task)\n",
    "exps = sorted(list(glob.iglob(os.path.join(base_path, '*'))))\n",
    "for i, exp in enumerate(exps):\n",
    "    print(f'{i} \\t {exp.replace(base_path, \"\")}')\n",
    "    \n",
    "exp_choice = int(input('\\n Which experiment do you want to analyze? (ENTER A NUMBER) \\t'))\n",
    "\n",
    "exp_path = exps[exp_choice]\n",
    "print('\\n')\n",
    "seeds = sorted(list(glob.iglob(os.path.join(exp_path, '*'))))\n",
    "seeds = [seed for seed in seeds if os.path.isdir(seed)]\n",
    "for i, seed in enumerate(seeds):\n",
    "    print(f'{i} \\t {seed.replace(exp_path, \"\")}')\n",
    "    \n",
    "# TODO: Extend to analyzing all seeds\n",
    "seed_choice = int(input('\\n Which seed do you want to analyze? (ENTER A NUMBER) \\t'))\n",
    "\n",
    "seed_path = seeds[seed_choice]\n",
    "\n",
    "print('PATH:\\n', seed_path)"
   ]
  },
  {
   "cell_type": "markdown",
   "metadata": {},
   "source": [
    "### Initialize Replay Pool & Load Experience from All Checkpoints"
   ]
  },
  {
   "cell_type": "code",
   "execution_count": null,
   "metadata": {},
   "outputs": [],
   "source": [
    "from softlearning.replay_pools.utils import get_replay_pool_from_variant\n",
    "\n",
    "checkpoint, variant, train_env, replay_pool = None, None, None, None\n",
    "\n",
    "for seed_path in seeds:\n",
    "    for ckpt_path in glob.iglob(os.path.join(seed_path, 'checkpoint_*')):\n",
    "        if not replay_pool:\n",
    "            with open(os.path.join(ckpt_path, 'checkpoint.pkl'), 'rb') as f:\n",
    "                checkpoint = pickle.load(f)    \n",
    "            variant = checkpoint['variant']\n",
    "            variant['replay_pool_params']['kwargs']['max_size'] = int(1e6)\n",
    "            train_env = checkpoint['training_environment']\n",
    "            replay_pool = get_replay_pool_from_variant(variant, train_env)\n",
    "\n",
    "        replay_pool_path = os.path.join(ckpt_path, 'replay_pool.pkl')\n",
    "        replay_pool.load_experience(replay_pool_path)"
   ]
  },
  {
   "cell_type": "code",
   "execution_count": null,
   "metadata": {},
   "outputs": [],
   "source": [
    "replay_pool.size"
   ]
  },
  {
   "cell_type": "code",
   "execution_count": null,
   "metadata": {},
   "outputs": [],
   "source": [
    "max_path_length = variant['sampler_params']['kwargs']['max_path_length']"
   ]
  },
  {
   "cell_type": "markdown",
   "metadata": {},
   "source": [
    "## Initialize the Embedding Function"
   ]
  },
  {
   "cell_type": "code",
   "execution_count": null,
   "metadata": {},
   "outputs": [],
   "source": [
    "from softlearning.models.utils import get_embedding_from_variant\n",
    "\n",
    "variant['distance_fn_params'] = {\n",
    "    'type': 'feedforward_distance_fn',\n",
    "    'kwargs': {\n",
    "        'hidden_layer_sizes': (256, ) * 2,\n",
    "        'observation_keys': None,\n",
    "        'embedding_dim': 16,\n",
    "        'observation_keys': ('state_observation', ),\n",
    "#         'kernel_regularizer': tf.keras.regularizers.l2(5e-4)\n",
    "    }\n",
    "}\n",
    "\n",
    "embedding_fn = get_embedding_from_variant(variant, train_env)"
   ]
  },
  {
   "cell_type": "code",
   "execution_count": null,
   "metadata": {},
   "outputs": [],
   "source": [
    "embedding_fn_copy = tf.keras.models.clone_model(embedding_fn)"
   ]
  },
  {
   "cell_type": "code",
   "execution_count": null,
   "metadata": {},
   "outputs": [],
   "source": [
    "embedding_fns = [embedding_fn, embedding_fn_copy]"
   ]
  },
  {
   "cell_type": "code",
   "execution_count": null,
   "metadata": {},
   "outputs": [],
   "source": [
    "embedding_fns = [embedding_fn, embedding_fn]"
   ]
  },
  {
   "cell_type": "markdown",
   "metadata": {},
   "source": [
    "## Training Helper Functions"
   ]
  },
  {
   "cell_type": "code",
   "execution_count": 98,
   "metadata": {},
   "outputs": [],
   "source": [
    "def get_data(replay_pool, max_path_length, batch_size=256):\n",
    "#     s1_indices = replay_pool.random_indices(batch_size)\n",
    "    s1_indices = np.random.randint(success_data.shape[0], size=batch_size)\n",
    "\n",
    "    # Clip at a certain amount?\n",
    "    distances = np.minimum(np.random.randint(max_path_length - s1_indices % max_path_length), 10)\n",
    "    s2_indices = s1_indices + distances\n",
    "\n",
    "#     s1 = replay_pool.batch_by_indices(s1_indices)\n",
    "#     s2 = replay_pool.batch_by_indices(s2_indices)\n",
    "    s1 = success_data[s1_indices]\n",
    "    s2 = success_data[s2_indices]\n",
    "    distances = distances.astype(np.float32)[..., None]\n",
    "    \n",
    "    return s1, s2, distances"
   ]
  },
  {
   "cell_type": "code",
   "execution_count": null,
   "metadata": {},
   "outputs": [],
   "source": [
    "optimizer = tf.compat.v1.train.AdamOptimizer(\n",
    "    learning_rate=3e-4,\n",
    "    name='embedding_fn_optimizer')"
   ]
  },
  {
   "cell_type": "code",
   "execution_count": null,
   "metadata": {},
   "outputs": [],
   "source": [
    "loss_object = tf.keras.losses.MeanSquaredError()\n",
    "def loss(models, s1, s2, distance):\n",
    "    pred = tf.reduce_sum(tf.square(models[1](s2) - models[0](s1)))\n",
    "#     pred = tf.norm(model(s2) - model(s1))\n",
    "    return loss_object(y_true=distance, y_pred=pred)"
   ]
  },
  {
   "cell_type": "code",
   "execution_count": null,
   "metadata": {},
   "outputs": [],
   "source": [
    "def grad(models, var_list, s1, s2, distance):\n",
    "    with tf.GradientTape() as tape:\n",
    "        loss_value = loss(models, s1, s2, distance)\n",
    "    return loss_value, tape.gradient(loss_value, var_list)"
   ]
  },
  {
   "cell_type": "code",
   "execution_count": null,
   "metadata": {},
   "outputs": [],
   "source": [
    "# Keep results for plotting\n",
    "train_loss_results = []\n",
    "\n",
    "num_epochs = 501\n",
    "batch_size = 64\n",
    "\n",
    "if embedding_fns[0] is not embedding_fns[1]:\n",
    "    var_list = (embedding_fns[0].trainable_variables\n",
    "                + embedding_fns[1].trainable_variables)\n",
    "else:\n",
    "    var_list = embedding_fns[0].trainable_variables\n",
    "    \n",
    "for epoch in range(num_epochs):\n",
    "    epoch_loss_avg = tf.keras.metrics.Mean()\n",
    "\n",
    "    for i in range(10):\n",
    "        s1, s2, distance = get_data(replay_pool,\n",
    "                                    max_path_length,\n",
    "                                    batch_size=batch_size)\n",
    "\n",
    "        loss_value, grads = grad(embedding_fns, var_list, s1, s2, distance)\n",
    "        optimizer.apply_gradients(zip(grads, var_list))\n",
    "\n",
    "        # Track progress\n",
    "        epoch_loss_avg.update_state(loss_value)  # Add current batch loss\n",
    "\n",
    "    # End epoch\n",
    "    train_loss_results.append(epoch_loss_avg.result())\n",
    "\n",
    "    if epoch % 10 == 0:\n",
    "        print(\"Epoch {:03d}: Loss: {:.3f}\".format(epoch, epoch_loss_avg.result()))\n",
    "    if epoch % 50 == 0:\n",
    "        clear_output()\n",
    "        plot_embedding()"
   ]
  },
  {
   "cell_type": "code",
   "execution_count": null,
   "metadata": {},
   "outputs": [],
   "source": [
    "with open('./embedding_fn_2.pkl', 'wb') as f:\n",
    "    pickle.dump(embedding_fn, f)"
   ]
  },
  {
   "cell_type": "code",
   "execution_count": null,
   "metadata": {},
   "outputs": [],
   "source": [
    "def plot_embedding():\n",
    "    target_pos = train_env.unwrapped._get_obs()['state_desired_goal']\n",
    "\n",
    "    n_samples = 50\n",
    "    obs_space = train_env.observation_space['state_observation']\n",
    "    xs = np.linspace(obs_space.low[0], obs_space.high[0], n_samples)\n",
    "    ys = np.linspace(obs_space.low[1], obs_space.high[1], n_samples)\n",
    "\n",
    "    xys = np.meshgrid(xs, ys)\n",
    "\n",
    "    grid_vals = np.array(xys).transpose(1, 2, 0).reshape((n_samples * n_samples, 2))\n",
    "    goal_vals = np.repeat(target_pos[None], n_samples * n_samples, axis=0)\n",
    "    dists = np.linalg.norm(embedding_fns[1].predict(goal_vals) - embedding_fns[0].predict(grid_vals), axis=-1)\n",
    "\n",
    "    plt.figure(figsize=(8, 8))\n",
    "\n",
    "    plt.imshow(train_env.render('rgb_array', width=256, height=256),\n",
    "               extent=(-4, 4, -4, 4), origin='lower', alpha=0.25, zorder=3)\n",
    "\n",
    "    plt.gca().invert_yaxis()\n",
    "    plt.contourf(xys[0], xys[1], dists.reshape(xys[0].shape), levels=30, zorder=1)\n",
    "    plt.colorbar(fraction=0.046, pad=0.04)\n",
    "\n",
    "    plt.scatter(*target_pos, marker='*', s=250, color='white', zorder=2)\n",
    "\n",
    "    plt.title(f'|phi(g) - phi(s)| for {domain + task} Task'\n",
    "              + f'Target Pos: {target_pos}')\n",
    "    plt.show()"
   ]
  },
  {
   "cell_type": "code",
   "execution_count": null,
   "metadata": {},
   "outputs": [],
   "source": [
    "num_traj = 20\n",
    "\n",
    "trajs = replay_pool.last_n_batch(max_path_length * num_traj)\n",
    "\n",
    "plt.figure(figsize=(8, 8))\n",
    "\n",
    "plt.imshow(train_env.render('rgb_array', width=256, height=256),\n",
    "           extent=(-4, 4, -4, 4), origin='lower', alpha=0.25, zorder=3)\n",
    "plt.scatter(*target_pos, marker='*', s=250, color='white', zorder=2)\n",
    "\n",
    "for i in range(num_traj):\n",
    "    trajectory = trajs['observations']['state_observation'][i*max_path_length:max_path_length*(i+1)]\n",
    "    plt.plot(trajectory[:, 0], trajectory[:, 1], 'black')\n",
    "\n",
    "radii = np.arange(0.5, 9, 0.5)\n",
    "circles = []\n",
    "for r in radii:\n",
    "    pts = []\n",
    "    for theta in np.arange(0, 2 * np.pi + np.pi / 30, np.pi / 30):\n",
    "        dx = r * np.cos(theta)\n",
    "        dy = r * np.sin(theta)\n",
    "        pt = target_pos + np.array([dx, dy])\n",
    "        x, y = pt\n",
    "        if -4 <= x and x <= 4 and -4 <= y and y <= 4:\n",
    "            pts.append(np.array([[x, y]]))\n",
    "    circles.append(np.vstack(pts))\n",
    "\n",
    "for circle in circles:\n",
    "    plt.plot(circle[:, 0], circle[:, 1])\n",
    "    \n",
    "plt.gca().invert_yaxis()\n",
    "\n",
    "plt.title(f'|phi(g) - phi(s)| for {domain + task} Task\\n'\n",
    "          + f'Target Pos: {target_pos}')\n",
    "plt.show()"
   ]
  },
  {
   "cell_type": "code",
   "execution_count": null,
   "metadata": {},
   "outputs": [],
   "source": [
    "non_zero_rows = replay_pool.data[('observations', 'state_observation')].any(axis=-1)\n",
    "visitations = replay_pool.data[('observations', 'state_observation')][non_zero_rows]\n",
    "plt.figure(figsize=(8, 8))\n",
    "plt.xlim(-4, 4)\n",
    "plt.ylim(-4, 4)\n",
    "plt.gca().invert_yaxis()\n",
    "plt.imshow(train_env.render('rgb_array'),\n",
    "           extent=(-4, 4, -4, 4),\n",
    "           origin='lower',\n",
    "           alpha=0.25,\n",
    "           zorder=3,\n",
    "           interpolation='nearest')\n",
    "\n",
    "plt.scatter(visitations[:, 0], visitations[:, 1], alpha=0.05)"
   ]
  },
  {
   "cell_type": "code",
   "execution_count": null,
   "metadata": {},
   "outputs": [],
   "source": [
    "plt.figure(figsize=(8, 8))\n",
    "plt.xlim(-4, 4)\n",
    "plt.ylim(-4, 4)\n",
    "plt.gca().invert_yaxis()\n",
    "end_state_idxs = np.arange(99, replay_pool.size, 100)\n",
    "end_states = replay_pool.data[('observations', 'state_observation')][non_zero_rows][end_state_idxs]\n",
    "\n",
    "success = np.where(np.linalg.norm(end_states - np.array([3, 3]), axis=-1) < 1)[0]\n",
    "include_idxs = end_state_idxs[success]\n",
    "include_idxs.shape\n",
    "\n",
    "all_idxs_to_include = np.concatenate([\n",
    "    np.arange(include_idx - 99, include_idx + 1)\n",
    "    for include_idx in include_idxs\n",
    "])\n",
    "\n",
    "success_data = replay_pool.data[('observations', 'state_observation')][non_zero_rows][all_idxs_to_include]\n",
    "\n",
    "# plt.scatter(end_states[:, 0], end_states[:, 1], alpha=0.05)\n",
    "plt.scatter(end_states[success][:, 0], end_states[success][:, 1], alpha=0.05)"
   ]
  },
  {
   "cell_type": "code",
   "execution_count": null,
   "metadata": {},
   "outputs": [],
   "source": [
    "success_data.shape"
   ]
  },
  {
   "cell_type": "code",
   "execution_count": null,
   "metadata": {},
   "outputs": [],
   "source": [
    "replay_pool.data[('observations', 'state_observation')][non_zero_rows][0]"
   ]
  },
  {
   "cell_type": "code",
   "execution_count": null,
   "metadata": {},
   "outputs": [],
   "source": [
    "np.arange(99, replay_pool.size, 100)"
   ]
  },
  {
   "cell_type": "markdown",
   "metadata": {},
   "source": [
    "# Use a Distance Function Instead"
   ]
  },
  {
   "cell_type": "code",
   "execution_count": 99,
   "metadata": {},
   "outputs": [],
   "source": [
    "from softlearning.models.utils import get_distance_estimator_from_variant\n",
    "\n",
    "variant['distance_fn_params'] = {\n",
    "    'type': 'feedforward_distance_fn',\n",
    "    'kwargs': {\n",
    "        'hidden_layer_sizes': (256, ) * 2,\n",
    "        'observation_keys': None,\n",
    "        'observation_keys': ('state_observation', ),\n",
    "#         'kernel_regularizer': tf.keras.regularizers.l2(5e-4)\n",
    "    }\n",
    "}\n",
    "\n",
    "distance_fn = get_distance_estimator_from_variant(variant, train_env)"
   ]
  },
  {
   "cell_type": "code",
   "execution_count": 102,
   "metadata": {},
   "outputs": [],
   "source": [
    "ddl_optimizer = tf.compat.v1.train.AdamOptimizer(\n",
    "    learning_rate=3e-4,\n",
    "    name='distance_fn_optimizer')\n",
    "\n",
    "loss_object = tf.keras.losses.MeanSquaredError()\n",
    "def loss(model, s1, s2, distance):\n",
    "    return loss_object(y_true=distance, y_pred=model([s1, s2]))\n",
    "\n",
    "def grad(model, s1, s2, distance):\n",
    "    with tf.GradientTape() as tape:\n",
    "        loss_value = loss(model, s1, s2, distance)\n",
    "    return loss_value, tape.gradient(loss_value, model.trainable_variables)"
   ]
  },
  {
   "cell_type": "code",
   "execution_count": 103,
   "metadata": {},
   "outputs": [
    {
     "data": {
      "image/png": "[encoded data removed]",
      "text/plain": [
       "<Figure size 576x576 with 2 Axes>"
      ]
     },
     "metadata": {
      "needs_background": "light"
     },
     "output_type": "display_data"
    }
   ],
   "source": [
    "# Keep results for plotting\n",
    "train_loss_results = []\n",
    "\n",
    "num_epochs = 501\n",
    "batch_size = 64\n",
    "\n",
    "for epoch in range(num_epochs):\n",
    "    epoch_loss_avg = tf.keras.metrics.Mean()\n",
    "\n",
    "    for i in range(10):\n",
    "        s1, s2, distance = get_data(replay_pool,\n",
    "                                    max_path_length,\n",
    "                                    batch_size=batch_size)\n",
    "\n",
    "        loss_value, grads = grad(distance_fn, s1, s2, distance)\n",
    "        optimizer.apply_gradients(zip(grads, distance_fn.trainable_variables))\n",
    "\n",
    "        # Track progress\n",
    "        epoch_loss_avg.update_state(loss_value)  # Add current batch loss\n",
    "\n",
    "    # End epoch\n",
    "    train_loss_results.append(epoch_loss_avg.result())\n",
    "\n",
    "    if epoch % 10 == 0:\n",
    "        print(\"Epoch {:03d}: Loss: {:.3f}\".format(epoch, epoch_loss_avg.result()))\n",
    "    if epoch % 50 == 0:\n",
    "        clear_output()\n",
    "        plot_embedding()"
   ]
  },
  {
   "cell_type": "code",
   "execution_count": 104,
   "metadata": {},
   "outputs": [],
   "source": [
    "def plot_embedding():\n",
    "    target_pos = train_env.unwrapped._get_obs()['state_desired_goal']\n",
    "\n",
    "    n_samples = 50\n",
    "    obs_space = train_env.observation_space['state_observation']\n",
    "    xs = np.linspace(obs_space.low[0], obs_space.high[0], n_samples)\n",
    "    ys = np.linspace(obs_space.low[1], obs_space.high[1], n_samples)\n",
    "\n",
    "    xys = np.meshgrid(xs, ys)\n",
    "\n",
    "    grid_vals = np.array(xys).transpose(1, 2, 0).reshape((n_samples * n_samples, 2))\n",
    "    goal_vals = np.repeat(target_pos[None], n_samples * n_samples, axis=0)\n",
    "    dists = distance_fn.predict([grid_vals, goal_vals])\n",
    "\n",
    "    plt.figure(figsize=(8, 8))\n",
    "\n",
    "    plt.imshow(train_env.render('rgb_array', width=256, height=256),\n",
    "               extent=(-4, 4, -4, 4), origin='lower', alpha=0.25, zorder=3)\n",
    "\n",
    "    plt.gca().invert_yaxis()\n",
    "    plt.contourf(xys[0], xys[1], dists.reshape(xys[0].shape), levels=30, zorder=1)\n",
    "    plt.colorbar(fraction=0.046, pad=0.04)\n",
    "\n",
    "    plt.scatter(*target_pos, marker='*', s=250, color='white', zorder=2)\n",
    "\n",
    "    plt.title(f'd(s, g) for {domain + task} Task'\n",
    "              + f'Target Pos: {target_pos}')\n",
    "    plt.show()"
   ]
  },
  {
   "cell_type": "code",
   "execution_count": null,
   "metadata": {},
   "outputs": [],
   "source": []
  }
 ],
 "metadata": {
  "kernelspec": {
   "display_name": "Python 3",
   "language": "python",
   "name": "python3"
  },
  "language_info": {
   "codemirror_mode": {
    "name": "ipython",
    "version": 3
   },
   "file_extension": ".py",
   "mimetype": "text/x-python",
   "name": "python",
   "nbconvert_exporter": "python",
   "pygments_lexer": "ipython3",
   "version": "3.7.3"
  }
 },
 "nbformat": 4,
 "nbformat_minor": 4
}

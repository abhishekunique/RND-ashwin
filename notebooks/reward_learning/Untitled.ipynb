{
 "cells": [
  {
   "cell_type": "code",
   "execution_count": 1,
   "metadata": {},
   "outputs": [],
   "source": [
    "import numpy as np\n",
    "import matplotlib.pyplot as plt\n",
    "import os\n",
    "import pickle\n",
    "import gzip\n",
    "import tensorflow as tf\n",
    "import glob\n",
    "import math\n",
    "import skimage"
   ]
  },
  {
   "cell_type": "code",
   "execution_count": 2,
   "metadata": {},
   "outputs": [],
   "source": [
    "common_dir = '/home/justinvyu/ray_results'\n",
    "universe = 'gym'\n",
    "domain = 'Point2D'\n",
    "task = 'Maze-v0'"
   ]
  },
  {
   "cell_type": "code",
   "execution_count": 3,
   "metadata": {},
   "outputs": [
    {
     "name": "stdout",
     "output_type": "stream",
     "text": [
      "0 \t /2020-03-20T01-13-01-vice_easymaze_singlreset_mixup\n",
      "1 \t /2020-03-20T01-15-53-vice_mediummaze_singlreset_mixup\n",
      "2 \t /2020-03-20T01-26-41-vice_hardmaze_singlreset_mixup\n",
      "3 \t /2020-03-20T01-28-50-sqil_easymaze\n",
      "4 \t /2020-03-20T01-35-22-vice_mediummaze_singlreset_mixup_100pathlength\n",
      "5 \t /2020-03-25T21-35-26-ddl_fixedreset_fixedgoaldist_easymaze\n",
      "6 \t /2020-03-27T11-53-22-ddl_fixedreset_easymaze_exactgoalrerun\n",
      "7 \t /2020-03-27T11-54-05-ddl_fixedreset_mediummaze\n",
      "8 \t /2020-03-27T11-59-43-ddl_fixedreset_hardmaze\n",
      "9 \t /2020-04-06T23-10-00-herqlearning_everytransition_easymaze\n",
      "10 \t /2020-04-07T00-17-37-herqlearning_everytransition_easymaze_keepsparserew\n",
      "11 \t /2020-04-09T12-45-03-sac_sparse_easymaze_discretizedcountexplore\n",
      "12 \t /2020-04-09T14-15-06-vice_easymaze_discretizedcountexplore\n",
      "13 \t /2020-04-09T14-31-29-sac_sparse_mediummaze_discretizedcountexplore\n",
      "14 \t /2020-04-09T16-35-34-sac_sparse_mediummaze_discretizedcountexplore_rerun\n",
      "15 \t /2020-04-09T16-54-58-vice_easymaze_discretizedcountexplore\n",
      "16 \t /2020-04-10T11-36-33-vice_dynamics_aware_dynamictrainiterssweep_easymaze\n",
      "17 \t /2020-04-12T13-38-06-vice_dynamics_aware_dynamictrainiterssweep_mediummaze\n",
      "18 \t /2020-04-12T15-04-15-ddl_countexplorationbonus_easymaze\n",
      "19 \t /2020-04-12T15-04-35-ddl_countexplorationbonus_mediummaze\n",
      "20 \t /2020-04-20T23-41-19-vice_countexplorationbonus_mediummaze_tune_extrewcoeff_normalizerew\n",
      "21 \t /2020-04-20T23-52-34-ddl_countexplorationbonus_easymaze_tune_normalizeextrew\n",
      "22 \t /2020-04-21T01-31-01-vice_positive_on_first_visit_easymaze\n",
      "23 \t /2020-04-29T15-43-51-vice_easymaze_tune_positive_firstocc\n",
      "24 \t /2020-04-29T19-02-26-ddl_embedding_easymaze_tune_embeddingtrainfreq\n",
      "25 \t /2020-05-04T00-56-16-ddl_embedding_easymaze_tune_normalize\n",
      "\n",
      " Which experiment do you want to analyze? (ENTER A NUMBER) \t25\n",
      "\n",
      "\n",
      "0 \t /id=bbca29b8-seed=7211_2020-05-04_00-56-17ywrhrhnl\n",
      "1 \t /id=bbcab27a-seed=9467_2020-05-04_00-56-178_e6hjcj\n",
      "2 \t /id=bbcba68a-seed=1952_2020-05-04_00-56-17pr1bpcni\n",
      "3 \t /id=bbcc0ac6-seed=9999_2020-05-04_00-56-1709y2m8wx\n",
      "\n",
      " Which seed do you want to analyze? (ENTER A NUMBER) \t1\n",
      "PATH:\n",
      " /home/justinvyu/ray_results/gym/Point2D/Maze-v0/2020-05-04T00-56-16-ddl_embedding_easymaze_tune_normalize/id=bbcab27a-seed=9467_2020-05-04_00-56-178_e6hjcj\n"
     ]
    }
   ],
   "source": [
    "base_path = os.path.join(common_dir, universe, domain, task)\n",
    "exps = sorted(list(glob.iglob(os.path.join(base_path, '*'))))\n",
    "for i, exp in enumerate(exps):\n",
    "    print(f'{i} \\t {exp.replace(base_path, \"\")}')\n",
    "    \n",
    "exp_choice = int(input('\\n Which experiment do you want to analyze? (ENTER A NUMBER) \\t'))\n",
    "\n",
    "exp_path = exps[exp_choice]\n",
    "print('\\n')\n",
    "seeds = sorted(list(glob.iglob(os.path.join(exp_path, '*'))))\n",
    "seeds = [seed for seed in seeds if os.path.isdir(seed)]\n",
    "for i, seed in enumerate(seeds):\n",
    "    print(f'{i} \\t {seed.replace(exp_path, \"\")}')\n",
    "    \n",
    "# TODO: Extend to analyzing all seeds\n",
    "seed_choice = int(input('\\n Which seed do you want to analyze? (ENTER A NUMBER) \\t'))\n",
    "\n",
    "seed_path = seeds[seed_choice]\n",
    "\n",
    "print('PATH:\\n', seed_path)"
   ]
  },
  {
   "cell_type": "code",
   "execution_count": 4,
   "metadata": {},
   "outputs": [
    {
     "name": "stdout",
     "output_type": "stream",
     "text": [
      "pygame 1.9.4\n",
      "Hello from the pygame community. https://www.pygame.org/contribute.html\n"
     ]
    },
    {
     "name": "stderr",
     "output_type": "stream",
     "text": [
      "WARNING: Logging before flag parsing goes to stderr.\n",
      "W0504 15:37:33.228536 139918765803328 deprecation.py:506] From /home/justinvyu/anaconda3/envs/softlearning/lib/python3.7/site-packages/tensorflow_core/python/ops/init_ops.py:97: calling GlorotUniform.__init__ (from tensorflow.python.ops.init_ops) with dtype is deprecated and will be removed in a future version.\n",
      "Instructions for updating:\n",
      "Call initializer instance with the dtype argument instead of passing it to the constructor\n",
      "W0504 15:37:33.229941 139918765803328 deprecation.py:506] From /home/justinvyu/anaconda3/envs/softlearning/lib/python3.7/site-packages/tensorflow_core/python/ops/init_ops.py:97: calling Zeros.__init__ (from tensorflow.python.ops.init_ops) with dtype is deprecated and will be removed in a future version.\n",
      "Instructions for updating:\n",
      "Call initializer instance with the dtype argument instead of passing it to the constructor\n",
      "W0504 15:37:33.247099 139918765803328 deprecation.py:506] From /home/justinvyu/anaconda3/envs/softlearning/lib/python3.7/site-packages/tensorflow_core/python/ops/resource_variable_ops.py:1630: calling BaseResourceVariable.__init__ (from tensorflow.python.ops.resource_variable_ops) with constraint is deprecated and will be removed in a future version.\n",
      "Instructions for updating:\n",
      "If using Keras pass *_constraint arguments to layers.\n",
      "W0504 15:37:35.019652 139918765803328 hdf5_format.py:171] No training configuration found in save file: the model was *not* compiled. Compile it manually.\n"
     ]
    }
   ],
   "source": [
    "checkpoint_dir = os.path.join(seed_path, 'checkpoint_100')\n",
    "with open(os.path.join(checkpoint_dir, 'checkpoint.pkl'), 'rb') as f:\n",
    "    checkpoint = pickle.load(f)"
   ]
  },
  {
   "cell_type": "code",
   "execution_count": 9,
   "metadata": {},
   "outputs": [],
   "source": [
    "replay_pool_path = os.path.join(checkpoint_dir, 'replay_pool.pkl')\n",
    "\n",
    "from softlearning.replay_pools.utils import get_replay_pool_from_variant\n",
    "variant = checkpoint['variant']\n",
    "training_environment = checkpoint['training_environment']\n",
    "replay_pool = get_replay_pool_from_variant(variant, training_environment)\n",
    "\n",
    "replay_pool.load_experience(replay_pool_path)"
   ]
  },
  {
   "cell_type": "code",
   "execution_count": 13,
   "metadata": {},
   "outputs": [
    {
     "data": {
      "text/plain": [
       "array([[ 0],\n",
       "       [ 1],\n",
       "       [ 2],\n",
       "       [ 3],\n",
       "       [ 4],\n",
       "       [ 5],\n",
       "       [ 6],\n",
       "       [ 7],\n",
       "       [ 8],\n",
       "       [ 9],\n",
       "       [10],\n",
       "       [11],\n",
       "       [12],\n",
       "       [13],\n",
       "       [14],\n",
       "       [15],\n",
       "       [16],\n",
       "       [17],\n",
       "       [18],\n",
       "       [19],\n",
       "       [20],\n",
       "       [21],\n",
       "       [22],\n",
       "       [23],\n",
       "       [24],\n",
       "       [25],\n",
       "       [26],\n",
       "       [27],\n",
       "       [28],\n",
       "       [29],\n",
       "       [30],\n",
       "       [31],\n",
       "       [32],\n",
       "       [33],\n",
       "       [34],\n",
       "       [35],\n",
       "       [36],\n",
       "       [37],\n",
       "       [38],\n",
       "       [39],\n",
       "       [40],\n",
       "       [41],\n",
       "       [42],\n",
       "       [43],\n",
       "       [44],\n",
       "       [45],\n",
       "       [46],\n",
       "       [47],\n",
       "       [48],\n",
       "       [49],\n",
       "       [ 0],\n",
       "       [ 1],\n",
       "       [ 2],\n",
       "       [ 3],\n",
       "       [ 4],\n",
       "       [ 5],\n",
       "       [ 6],\n",
       "       [ 7],\n",
       "       [ 8],\n",
       "       [ 9],\n",
       "       [10],\n",
       "       [11],\n",
       "       [12],\n",
       "       [13],\n",
       "       [14],\n",
       "       [15],\n",
       "       [16],\n",
       "       [17],\n",
       "       [18],\n",
       "       [19],\n",
       "       [20],\n",
       "       [21],\n",
       "       [22],\n",
       "       [23],\n",
       "       [24],\n",
       "       [25],\n",
       "       [26],\n",
       "       [27],\n",
       "       [28],\n",
       "       [29],\n",
       "       [30],\n",
       "       [31],\n",
       "       [32],\n",
       "       [33],\n",
       "       [34],\n",
       "       [35],\n",
       "       [36],\n",
       "       [37],\n",
       "       [38],\n",
       "       [39],\n",
       "       [40],\n",
       "       [41],\n",
       "       [42],\n",
       "       [43],\n",
       "       [44],\n",
       "       [45],\n",
       "       [46],\n",
       "       [47],\n",
       "       [48],\n",
       "       [49]], dtype=uint64)"
      ]
     },
     "execution_count": 13,
     "metadata": {},
     "output_type": "execute_result"
    }
   ],
   "source": [
    "replay_pool.data[('episode_index_forwards', )][:100]"
   ]
  },
  {
   "cell_type": "code",
   "execution_count": 23,
   "metadata": {},
   "outputs": [
    {
     "name": "stdout",
     "output_type": "stream",
     "text": [
      "10000\n"
     ]
    },
    {
     "ename": "TypeError",
     "evalue": "unhashable type: 'numpy.ndarray'",
     "output_type": "error",
     "traceback": [
      "\u001b[0;31m---------------------------------------------------------------------------\u001b[0m",
      "\u001b[0;31mTypeError\u001b[0m                                 Traceback (most recent call last)",
      "\u001b[0;32m<ipython-input-23-a65c28ac5d31>\u001b[0m in \u001b[0;36m<module>\u001b[0;34m\u001b[0m\n\u001b[1;32m      1\u001b[0m \u001b[0mprint\u001b[0m\u001b[0;34m(\u001b[0m\u001b[0mreplay_pool\u001b[0m\u001b[0;34m.\u001b[0m\u001b[0msize\u001b[0m\u001b[0;34m)\u001b[0m\u001b[0;34m\u001b[0m\u001b[0;34m\u001b[0m\u001b[0m\n\u001b[0;32m----> 2\u001b[0;31m \u001b[0mreplay_pool\u001b[0m\u001b[0;34m.\u001b[0m\u001b[0mdata\u001b[0m\u001b[0;34m[\u001b[0m\u001b[0mreplay_pool\u001b[0m\u001b[0;34m.\u001b[0m\u001b[0mrandom_indices\u001b[0m\u001b[0;34m(\u001b[0m\u001b[0;36m10\u001b[0m\u001b[0;34m)\u001b[0m\u001b[0;34m]\u001b[0m\u001b[0;34m\u001b[0m\u001b[0;34m\u001b[0m\u001b[0m\n\u001b[0m",
      "\u001b[0;31mTypeError\u001b[0m: unhashable type: 'numpy.ndarray'"
     ]
    }
   ],
   "source": [
    "print(replay_pool.size)\n",
    "replay_pool.data[replay_pool.random_indices(10)]"
   ]
  },
  {
   "cell_type": "code",
   "execution_count": 22,
   "metadata": {},
   "outputs": [
    {
     "data": {
      "text/plain": [
       "{'git_sha': '3621f35be79be884cf112e4502d5714e8680ffce justin-changes',\n",
       " 'environment_params': {'training': {'domain': 'Point2D',\n",
       "   'task': 'Fixed-v0',\n",
       "   'universe': 'gym',\n",
       "   'kwargs': {'ball_radius': 0.5,\n",
       "    'target_radius': 0.5,\n",
       "    'boundary_distance': 4,\n",
       "    'images_are_rgb': True,\n",
       "    'init_pos_range': None,\n",
       "    'target_pos_range': None,\n",
       "    'render_onscreen': False,\n",
       "    'reward_type': 'dense',\n",
       "    'observation_keys': ('state_observation', 'state_desired_goal')}},\n",
       "  'evaluation': {'domain': 'Point2D',\n",
       "   'task': 'Fixed-v0',\n",
       "   'universe': 'gym',\n",
       "   'kwargs': {'ball_radius': 0.5,\n",
       "    'target_radius': 0.5,\n",
       "    'boundary_distance': 4,\n",
       "    'images_are_rgb': True,\n",
       "    'init_pos_range': None,\n",
       "    'target_pos_range': None,\n",
       "    'render_onscreen': False,\n",
       "    'reward_type': 'dense',\n",
       "    'observation_keys': ('state_observation', 'state_desired_goal')}}},\n",
       " 'policy_params': {'type': 'GaussianPolicy',\n",
       "  'kwargs': {'hidden_layer_sizes': (512, 512),\n",
       "   'squash': True,\n",
       "   'observation_keys': None,\n",
       "   'observation_preprocessors_params': {'state_observation': None,\n",
       "    'state_desired_goal': None}}},\n",
       " 'exploration_policy_params': {'type': 'UniformPolicy',\n",
       "  'kwargs': {'observation_keys': None}},\n",
       " 'Q_params': {'type': 'double_feedforward_Q_function',\n",
       "  'kwargs': {'hidden_layer_sizes': (512, 512),\n",
       "   'observation_keys': None,\n",
       "   'observation_preprocessors_params': {'state_observation': None,\n",
       "    'state_desired_goal': None}}},\n",
       " 'algorithm_params': {'kwargs': {'epoch_length': 1000,\n",
       "   'train_every_n_steps': 1,\n",
       "   'n_train_repeat': 1,\n",
       "   'eval_n_episodes': 10,\n",
       "   'eval_deterministic': False,\n",
       "   'discount': 0.99,\n",
       "   'tau': 0.005,\n",
       "   'reward_scale': 1.0,\n",
       "   'save_training_video_frequency': 2,\n",
       "   'eval_render_kwargs': {'width': 480, 'height': 480, 'mode': 'rgb_array'},\n",
       "   'n_epochs': 200,\n",
       "   'n_initial_exploration_steps': 5000,\n",
       "   'reparameterize': True,\n",
       "   'lr': 0.0003,\n",
       "   'target_update_interval': 1,\n",
       "   'target_entropy': 'auto',\n",
       "   'action_prior': 'uniform',\n",
       "   'her_iters': 0,\n",
       "   'ext_reward_coeff': 1,\n",
       "   'rnd_int_rew_coeff': 1,\n",
       "   'normalize_ext_reward_gamma': 0.99,\n",
       "   'online_vae': True,\n",
       "   'verbose': True,\n",
       "   'video_save_frequency': 10},\n",
       "  'type': 'SAC',\n",
       "  'rnd_params': {'convnet_params': {'conv_filters': (16, 32, 64),\n",
       "    'conv_kernel_sizes': (3, 3, 3),\n",
       "    'conv_strides': (2, 2, 2),\n",
       "    'normalization_type': None},\n",
       "   'fc_params': {'hidden_layer_sizes': (256, 256), 'output_size': 512}}},\n",
       " 'replay_pool_params': {'last_checkpoint_dir': ''},\n",
       " 'sampler_params': {'type': 'SimpleSampler',\n",
       "  'kwargs': {'max_path_length': 50,\n",
       "   'min_pool_size': 50,\n",
       "   'batch_size': 256,\n",
       "   'store_last_n_paths': 20}},\n",
       " 'run_params': {'seed': 5451,\n",
       "  'checkpoint_at_end': True,\n",
       "  'checkpoint_frequency': 10,\n",
       "  'checkpoint_replay_pool': True},\n",
       " 'restore': None}"
      ]
     },
     "execution_count": 22,
     "metadata": {},
     "output_type": "execute_result"
    }
   ],
   "source": [
    "variant"
   ]
  },
  {
   "cell_type": "code",
   "execution_count": 7,
   "metadata": {},
   "outputs": [],
   "source": [
    "embedding = checkpoint['distance_estimator']"
   ]
  },
  {
   "cell_type": "code",
   "execution_count": 8,
   "metadata": {},
   "outputs": [
    {
     "name": "stdout",
     "output_type": "stream",
     "text": [
      "Model: \"embedding_fn\"\n",
      "_________________________________________________________________\n",
      "Layer (type)                 Output Shape              Param #   \n",
      "=================================================================\n",
      "state_observation (InputLaye [(None, 2)]               0         \n",
      "_________________________________________________________________\n",
      "feedforward_embedding_fn (Pi (None, 2)                 67074     \n",
      "=================================================================\n",
      "Total params: 67,074\n",
      "Trainable params: 67,074\n",
      "Non-trainable params: 0\n",
      "_________________________________________________________________\n"
     ]
    }
   ],
   "source": [
    "embedding.summary()"
   ]
  },
  {
   "cell_type": "code",
   "execution_count": 9,
   "metadata": {},
   "outputs": [],
   "source": [
    "test = tf.ones((10, 2))"
   ]
  },
  {
   "cell_type": "code",
   "execution_count": 15,
   "metadata": {},
   "outputs": [
    {
     "data": {
      "text/plain": [
       "array([[-1.3965508,  1.2660822],\n",
       "       [-1.3965508,  1.2660822],\n",
       "       [-1.3965508,  1.2660822],\n",
       "       [-1.3965508,  1.2660822],\n",
       "       [-1.3965508,  1.2660822],\n",
       "       [-1.3965508,  1.2660822],\n",
       "       [-1.3965508,  1.2660822],\n",
       "       [-1.3965508,  1.2660822],\n",
       "       [-1.3965508,  1.2660822],\n",
       "       [-1.3965508,  1.2660822]], dtype=float32)"
      ]
     },
     "execution_count": 15,
     "metadata": {},
     "output_type": "execute_result"
    }
   ],
   "source": [
    "sess = tf.keras.backend.get_session()\n",
    "sess.run(embedding(test))"
   ]
  },
  {
   "cell_type": "code",
   "execution_count": 14,
   "metadata": {},
   "outputs": [
    {
     "data": {
      "text/plain": [
       "array([[-1.3965508,  1.2660822],\n",
       "       [-1.3965508,  1.2660822],\n",
       "       [-1.3965508,  1.2660822],\n",
       "       [-1.3965508,  1.2660822],\n",
       "       [-1.3965508,  1.2660822],\n",
       "       [-1.3965508,  1.2660822],\n",
       "       [-1.3965508,  1.2660822],\n",
       "       [-1.3965508,  1.2660822],\n",
       "       [-1.3965508,  1.2660822],\n",
       "       [-1.3965508,  1.2660822]], dtype=float32)"
      ]
     },
     "execution_count": 14,
     "metadata": {},
     "output_type": "execute_result"
    }
   ],
   "source": [
    "embedding.predict(np.ones((10, 2)))"
   ]
  },
  {
   "cell_type": "code",
   "execution_count": null,
   "metadata": {},
   "outputs": [],
   "source": []
  }
 ],
 "metadata": {
  "kernelspec": {
   "display_name": "Python 3",
   "language": "python",
   "name": "python3"
  },
  "language_info": {
   "codemirror_mode": {
    "name": "ipython",
    "version": 3
   },
   "file_extension": ".py",
   "mimetype": "text/x-python",
   "name": "python",
   "nbconvert_exporter": "python",
   "pygments_lexer": "ipython3",
   "version": "3.7.3"
  }
 },
 "nbformat": 4,
 "nbformat_minor": 4
}

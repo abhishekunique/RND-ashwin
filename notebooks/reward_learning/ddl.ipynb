{
 "cells": [
  {
   "cell_type": "code",
   "execution_count": null,
   "metadata": {},
   "outputs": [],
   "source": [
    "import numpy as np\n",
    "import matplotlib.pyplot as plt\n",
    "import os\n",
    "import pickle\n",
    "import gzip\n",
    "import tensorflow as tf\n",
    "import glob\n",
    "import math\n",
    "import skimage\n",
    "from matplotlib.patches import Rectangle"
   ]
  },
  {
   "cell_type": "markdown",
   "metadata": {},
   "source": [
    "## Specify the Experiment Directory"
   ]
  },
  {
   "cell_type": "code",
   "execution_count": null,
   "metadata": {},
   "outputs": [],
   "source": [
    "common_dir = '/home/justinvyu/ray_results'\n",
    "universe = 'gym'\n",
    "domain = 'Point2D'\n",
    "task = 'Maze-v0'"
   ]
  },
  {
   "cell_type": "code",
   "execution_count": null,
   "metadata": {},
   "outputs": [],
   "source": [
    "base_path = os.path.join(common_dir, universe, domain, task)\n",
    "exps = sorted(list(glob.iglob(os.path.join(base_path, '*'))))\n",
    "for i, exp in enumerate(exps):\n",
    "    print(f'{i} \\t {exp.replace(base_path, \"\")}')\n",
    "    \n",
    "exp_choice = int(input('\\n Which experiment do you want to analyze? (ENTER A NUMBER) \\t'))\n",
    "\n",
    "exp_path = exps[exp_choice]\n",
    "print('\\n')\n",
    "seeds = sorted(list(glob.iglob(os.path.join(exp_path, '*'))))\n",
    "seeds = [seed for seed in seeds if os.path.isdir(seed)]\n",
    "for i, seed in enumerate(seeds):\n",
    "    print(f'{i} \\t {seed.replace(exp_path, \"\")}')\n",
    "    \n",
    "# TODO: Extend to analyzing all seeds\n",
    "seed_choice = int(input('\\n Which seed do you want to analyze? (ENTER A NUMBER) \\t'))\n",
    "\n",
    "seed_path = seeds[seed_choice]\n",
    "\n",
    "print('PATH:\\n', seed_path)"
   ]
  },
  {
   "cell_type": "markdown",
   "metadata": {},
   "source": [
    "## Specify the Checkpoint"
   ]
  },
  {
   "cell_type": "code",
   "execution_count": null,
   "metadata": {},
   "outputs": [],
   "source": [
    "checkpoint_to_analyze = 200"
   ]
  },
  {
   "cell_type": "code",
   "execution_count": null,
   "metadata": {},
   "outputs": [],
   "source": [
    "checkpoint_dir = os.path.join(seed_path, f'checkpoint_{checkpoint_to_analyze}')\n",
    "with open(os.path.join(checkpoint_dir, 'checkpoint.pkl'), 'rb') as f:\n",
    "    checkpoint = pickle.load(f)"
   ]
  },
  {
   "cell_type": "markdown",
   "metadata": {},
   "source": [
    "## Load Distance Function"
   ]
  },
  {
   "cell_type": "code",
   "execution_count": null,
   "metadata": {},
   "outputs": [],
   "source": [
    "checkpoint.keys()"
   ]
  },
  {
   "cell_type": "code",
   "execution_count": null,
   "metadata": {},
   "outputs": [],
   "source": [
    "distance_fn = checkpoint['distance_estimator']"
   ]
  },
  {
   "cell_type": "code",
   "execution_count": null,
   "metadata": {},
   "outputs": [],
   "source": [
    "train_env = checkpoint['training_environment']"
   ]
  },
  {
   "cell_type": "code",
   "execution_count": null,
   "metadata": {},
   "outputs": [],
   "source": [
    "target_pos = train_env.unwrapped._get_obs()['state_desired_goal']"
   ]
  },
  {
   "cell_type": "code",
   "execution_count": null,
   "metadata": {},
   "outputs": [],
   "source": [
    "n_samples = 50\n",
    "obs_space = train_env.observation_space['state_observation']\n",
    "xs = np.linspace(obs_space.low[0], obs_space.high[0], n_samples)\n",
    "ys = np.linspace(obs_space.low[1], obs_space.high[1], n_samples)\n",
    "\n",
    "xys = np.meshgrid(xs, ys)"
   ]
  },
  {
   "cell_type": "code",
   "execution_count": null,
   "metadata": {},
   "outputs": [],
   "source": [
    "grid_vals = np.array(xys).transpose(1, 2, 0).reshape((n_samples * n_samples, 2))"
   ]
  },
  {
   "cell_type": "code",
   "execution_count": null,
   "metadata": {},
   "outputs": [],
   "source": [
    "goal_vals = np.repeat(target_pos[None], n_samples * n_samples, axis=0)"
   ]
  },
  {
   "cell_type": "code",
   "execution_count": null,
   "metadata": {},
   "outputs": [],
   "source": [
    "dists = distance_fn.predict([grid_vals, goal_vals])"
   ]
  },
  {
   "cell_type": "code",
   "execution_count": null,
   "metadata": {},
   "outputs": [],
   "source": [
    "plt.figure(figsize=(8, 8))\n",
    "from matplotlib.patches import Rectangle\n",
    "\n",
    "plt.imshow(train_env.render('rgb_array', width=32, height=32),\n",
    "           extent=(-4, 4, -4, 4), origin='lower', alpha=0.25, zorder=3)\n",
    "\n",
    "plt.gca().invert_yaxis()\n",
    "plt.contourf(xys[0], xys[1], dists.reshape(xys[0].shape), levels=20, zorder=1)\n",
    "plt.colorbar(fraction=0.046, pad=0.04)\n",
    "\n",
    "if task == 'BoxWall-v1':\n",
    "    currentAxis = plt.gca()\n",
    "    currentAxis.add_patch(Rectangle((-2, -2), 4, 4,\n",
    "                          alpha=1, fill=None, linewidth=4))\n",
    "    \n",
    "plt.scatter(*target_pos, marker='*', s=250, color='white', zorder=2)\n",
    "\n",
    "plt.title(f'd(s, g) for {domain + task} Task @ Checkpoint #{checkpoint_to_analyze}\\n'\n",
    "          + f'Target Pos: {target_pos}')\n",
    "plt.show()"
   ]
  },
  {
   "cell_type": "markdown",
   "metadata": {},
   "source": [
    "## Plot Evolution of Distance Function over Many Checkpoints"
   ]
  },
  {
   "cell_type": "code",
   "execution_count": null,
   "metadata": {},
   "outputs": [],
   "source": [
    "def plot_distance_to_goal(distance_fn, train_env, n_samples=50):\n",
    "    obs_space = train_env.observation_space['state_observation']\n",
    "    target_pos = train_env.unwrapped._get_obs()['state_desired_goal']\n",
    "    \n",
    "    goal_vals = np.repeat(target_pos[None], n_samples * n_samples, axis=0)\n",
    "    \n",
    "    xs = np.linspace(obs_space.low[0], obs_space.high[0], n_samples)\n",
    "    ys = np.linspace(obs_space.low[1], obs_space.high[1], n_samples)\n",
    "\n",
    "    xys = np.meshgrid(xs, ys)\n",
    "    grid_vals = np.array(xys).transpose(1, 2, 0).reshape((n_samples * n_samples, 2))\n",
    "    dists = distance_fn.predict([grid_vals, goal_vals])\n",
    "    \n",
    "#     plt.figure(figsize=(8, 8))\n",
    "    from matplotlib.patches import Rectangle\n",
    "\n",
    "    plt.imshow(train_env.render('rgb_array', width=32, height=32),\n",
    "               extent=(-4, 4, -4, 4), origin='lower', alpha=0.25, zorder=3)\n",
    "\n",
    "    plt.gca().invert_yaxis()\n",
    "    plt.contourf(xys[0], xys[1], dists.reshape(xys[0].shape), levels=20, zorder=1)\n",
    "    plt.colorbar(fraction=0.046, pad=0.04)\n",
    "\n",
    "    plt.scatter(*target_pos, marker='*', s=250, color='white', zorder=2)"
   ]
  },
  {
   "cell_type": "code",
   "execution_count": null,
   "metadata": {},
   "outputs": [],
   "source": [
    "def plot_grid(imgs, labels=None):\n",
    "    n_images = len(imgs)\n",
    "    n_columns = np.sqrt(n_images)\n",
    "    n_rows = np.ceil(n_images / n_columns) + 1\n",
    "    plt.figure(figsize=(5 * n_columns, 5 * n_rows))\n",
    "    for i, img in enumerate(imgs):\n",
    "        plt.subplot(n_rows, n_columns, i+1)\n",
    "        plt.axis('off')\n",
    "        plt.imshow(img)\n",
    "        if labels is not None:\n",
    "            plt.title(labels[i], fontsize=20)\n",
    "    plt.show()"
   ]
  },
  {
   "cell_type": "code",
   "execution_count": null,
   "metadata": {},
   "outputs": [],
   "source": [
    "checkpoint_paths = list(glob.iglob(os.path.join(seed_path, 'checkpoint_*')))\n",
    "# Sort by the checkpoint number at the end\n",
    "checkpoint_paths = sorted(checkpoint_paths, key=lambda s: int(s.split(\"_\")[-1]))"
   ]
  },
  {
   "cell_type": "code",
   "execution_count": null,
   "metadata": {},
   "outputs": [],
   "source": []
  },
  {
   "cell_type": "code",
   "execution_count": null,
   "metadata": {
    "scrolled": false
   },
   "outputs": [],
   "source": [
    "n_plots = len(checkpoint_paths)\n",
    "n_columns = int(np.sqrt(n_plots) + 1)\n",
    "n_rows = np.ceil(n_plots / n_columns)\n",
    "plt.figure(figsize=(5 * n_columns, 5 * n_rows))\n",
    "\n",
    "imgs = []\n",
    "for i, path in enumerate(checkpoint_paths):\n",
    "    with open(os.path.join(path, 'checkpoint.pkl'), 'rb') as f:\n",
    "        checkpoint = pickle.load(f)\n",
    "    distance_fn = checkpoint['distance_estimator']\n",
    "    train_env = checkpoint['training_environment']\n",
    "    plt.subplot(n_rows, n_columns, i+1, aspect=1)\n",
    "    plot_distance_to_goal(distance_fn, train_env)\n",
    "    plt.title(int(path.split(\"_\")[-1]), fontsize=20)\n",
    "    \n",
    "plt.show()"
   ]
  },
  {
   "cell_type": "markdown",
   "metadata": {},
   "source": [
    "## Generate GIF of Distance over Time"
   ]
  },
  {
   "cell_type": "code",
   "execution_count": null,
   "metadata": {},
   "outputs": [],
   "source": [
    "checkpoint_paths = list(glob.iglob(os.path.join(seed_path, 'checkpoint_*')))\n",
    "# Sort by the checkpoint number at the end\n",
    "checkpoint_paths = sorted(checkpoint_paths, key=lambda s: int(s.split(\"_\")[-1]))\n",
    "\n",
    "imgs = []\n",
    "for i, path in enumerate(checkpoint_paths):\n",
    "    fig = plt.figure(figsize=(8, 8))\n",
    "    with open(os.path.join(path, 'checkpoint.pkl'), 'rb') as f:\n",
    "        checkpoint = pickle.load(f)\n",
    "    distance_fn = checkpoint['distance_estimator']\n",
    "    train_env = checkpoint['training_environment']\n",
    "    plot_distance_to_goal(distance_fn, train_env)\n",
    "    plt.title(int(path.split(\"_\")[-1]), fontsize=20)\n",
    "    fig.canvas.draw()\n",
    "    data = np.fromstring(fig.canvas.tostring_rgb(), dtype=np.uint8, sep='')\n",
    "    data = data.reshape(fig.canvas.get_width_height()[::-1] + (3,))\n",
    "    imgs.append(data)"
   ]
  },
  {
   "cell_type": "code",
   "execution_count": null,
   "metadata": {},
   "outputs": [],
   "source": [
    "import imageio\n",
    "imageio.mimsave('./test.gif', imgs, duration=1.0)"
   ]
  },
  {
   "cell_type": "markdown",
   "metadata": {},
   "source": [
    "## Plot Goal Examples"
   ]
  },
  {
   "cell_type": "code",
   "execution_count": null,
   "metadata": {},
   "outputs": [],
   "source": [
    "with open('/home/justinvyu/dev/vice/goal_classifier/pointmass_nowalls/bottom_middle/positives.pkl', 'rb') as f:\n",
    "    data = pickle.load(f)"
   ]
  },
  {
   "cell_type": "code",
   "execution_count": null,
   "metadata": {},
   "outputs": [],
   "source": [
    "plt.figure(figsize=(8, 8))\n",
    "\n",
    "plt.scatter(data['state_observation'][:,0], data['state_observation'][:,1], s=5)\n",
    "plt.xlim([-4, 4])\n",
    "plt.ylim([-4, 4])\n",
    "plt.gca().invert_yaxis()"
   ]
  },
  {
   "cell_type": "markdown",
   "metadata": {},
   "source": [
    "## Plot Ground Truth Rewards"
   ]
  },
  {
   "cell_type": "code",
   "execution_count": null,
   "metadata": {},
   "outputs": [],
   "source": [
    "feed_dict = {\n",
    "    'state_achieved_goal': grid_vals,\n",
    "    'state_desired_goal': np.full(grid_vals.shape, fill_value=2)\n",
    "}\n",
    "train_env.unwrapped.reward_type = 'sparse'\n",
    "gtr = train_env.unwrapped.compute_rewards(None, feed_dict)\n",
    "plt.figure(figsize=(8, 8))\n",
    "\n",
    "from matplotlib.patches import Rectangle\n",
    "\n",
    "plt.gca().invert_yaxis()\n",
    "\n",
    "plt.contourf(xys[0], xys[1], gtr.reshape(xys[0].shape))\n",
    "plt.colorbar(fraction=0.046, pad=0.04)\n",
    "\n",
    "if task == 'BoxWall-v1':\n",
    "    currentAxis = plt.gca()\n",
    "    currentAxis.add_patch(Rectangle((-2, -2), 4, 4,\n",
    "                          alpha=1, fill=None, linewidth=4))\n",
    "\n",
    "plt.title(f'Ground Truth Reward for {domain + task} Task @ Checkpoint #{checkpoint_to_analyze}')\n",
    "\n",
    "plt.scatter(*target_pos, marker='*', s=250, color='white')\n",
    "plt.show()"
   ]
  },
  {
   "cell_type": "markdown",
   "metadata": {},
   "source": [
    "## Qs Visualization"
   ]
  },
  {
   "cell_type": "code",
   "execution_count": null,
   "metadata": {},
   "outputs": [],
   "source": [
    "checkpoint_to_analyze = 100\n",
    "checkpoint_dir = os.path.join(seed_path, f'checkpoint_{checkpoint_to_analyze}')\n",
    "\n",
    "with open(os.path.join(checkpoint_dir, 'checkpoint.pkl'), 'rb') as f:\n",
    "    checkpoint = pickle.load(f)"
   ]
  },
  {
   "cell_type": "code",
   "execution_count": null,
   "metadata": {},
   "outputs": [],
   "source": [
    "variant = checkpoint['variant']\n",
    "env = checkpoint['training_environment']\n",
    "target_pos = env.unwrapped._get_obs()['state_desired_goal']"
   ]
  },
  {
   "cell_type": "code",
   "execution_count": null,
   "metadata": {},
   "outputs": [],
   "source": [
    "from softlearning.value_functions.utils import get_Q_function_from_variant"
   ]
  },
  {
   "cell_type": "code",
   "execution_count": null,
   "metadata": {},
   "outputs": [],
   "source": [
    "Qs = get_Q_function_from_variant(variant, env)"
   ]
  },
  {
   "cell_type": "code",
   "execution_count": null,
   "metadata": {},
   "outputs": [],
   "source": [
    "for i, Q in enumerate(Qs):\n",
    "    weights_path = os.path.join(checkpoint_dir, f'Qs_{i}')\n",
    "    Q.load_weights(weights_path)"
   ]
  },
  {
   "cell_type": "code",
   "execution_count": null,
   "metadata": {},
   "outputs": [],
   "source": [
    "n_action_samples = 20\n",
    "sample_actions = np.vstack([env.action_space.sample() for _ in range(n_action_samples)])"
   ]
  },
  {
   "cell_type": "code",
   "execution_count": null,
   "metadata": {},
   "outputs": [],
   "source": [
    "n_samples = 50\n",
    "\n",
    "obs_space = env.observation_space['state_observation']\n",
    "xs = np.linspace(obs_space.low[0], obs_space.high[0], n_samples)\n",
    "ys = np.linspace(obs_space.low[1], obs_space.high[1], n_samples)\n",
    "\n",
    "xys = np.meshgrid(xs, ys)\n",
    "grid_vals = np.array(xys).transpose(1, 2, 0).reshape((n_samples * n_samples, 2))"
   ]
  },
  {
   "cell_type": "code",
   "execution_count": null,
   "metadata": {},
   "outputs": [],
   "source": [
    "value_estimates = []\n",
    "for pos in grid_vals:\n",
    "    value_estimates.append(\n",
    "        np.min([Q.predict([sample_actions,\n",
    "                        np.repeat(pos, n_action_samples).reshape((n_action_samples, -1))])\n",
    "             for Q in Qs])\n",
    "    )"
   ]
  },
  {
   "cell_type": "code",
   "execution_count": null,
   "metadata": {},
   "outputs": [],
   "source": [
    "plt.figure(figsize=(8, 8))\n",
    "from matplotlib.patches import Rectangle\n",
    "plt.gca().invert_yaxis()\n",
    "\n",
    "plt.contourf(xys[0], xys[1], np.array(value_estimates).reshape(xys[0].shape))\n",
    "plt.colorbar(fraction=0.046, pad=0.04)\n",
    "\n",
    "if task == 'BoxWall-v1':\n",
    "    currentAxis = plt.gca()\n",
    "    currentAxis.add_patch(Rectangle((-2, -2), 4, 4,\n",
    "                          alpha=1, fill=None, linewidth=4))\n",
    "\n",
    "plt.scatter(*target_pos, marker='*', s=250, color='white')\n",
    "plt.title(f'Value function estimates for {domain + task} Task @ Checkpoint #{checkpoint_to_analyze}\\n'\n",
    "          + f'Target Pos: {target_pos}')\n",
    "plt.show()"
   ]
  },
  {
   "cell_type": "code",
   "execution_count": null,
   "metadata": {},
   "outputs": [],
   "source": [
    "np.repeat(grid_vals[0], n_action_samples).reshape((n_action_samples, -1))"
   ]
  },
  {
   "cell_type": "markdown",
   "metadata": {},
   "source": [
    "## Embedding"
   ]
  },
  {
   "cell_type": "code",
   "execution_count": null,
   "metadata": {},
   "outputs": [],
   "source": [
    "embedding_fn = checkpoint['distance_estimator']\n",
    "train_env = checkpoint['training_environment']\n",
    "target_pos = train_env.unwrapped._get_obs()['state_desired_goal']\n",
    "\n",
    "n_samples = 50\n",
    "obs_space = train_env.observation_space['state_observation']\n",
    "xs = np.linspace(obs_space.low[0], obs_space.high[0], n_samples)\n",
    "ys = np.linspace(obs_space.low[1], obs_space.high[1], n_samples)\n",
    "\n",
    "xys = np.meshgrid(xs, ys)\n",
    "\n",
    "grid_vals = np.array(xys).transpose(1, 2, 0).reshape((n_samples * n_samples, 2))\n",
    "goal_vals = np.repeat(target_pos[None], n_samples * n_samples, axis=0)\n",
    "dists = np.linalg.norm(embedding_fn.predict(goal_vals) - embedding_fn.predict(grid_vals), axis=-1)"
   ]
  },
  {
   "cell_type": "code",
   "execution_count": null,
   "metadata": {},
   "outputs": [],
   "source": [
    "plt.figure(figsize=(8, 8))\n",
    "from matplotlib.patches import Rectangle\n",
    "\n",
    "plt.imshow(train_env.render('rgb_array', width=256, height=256),\n",
    "           extent=(-4, 4, -4, 4), origin='lower', alpha=0.25, zorder=3)\n",
    "\n",
    "plt.gca().invert_yaxis()\n",
    "plt.contourf(xys[0], xys[1], dists.reshape(xys[0].shape), levels=50, zorder=1)\n",
    "plt.colorbar(fraction=0.046, pad=0.04)\n",
    "    \n",
    "plt.scatter(*target_pos, marker='*', s=250, color='white', zorder=2)\n",
    "\n",
    "plt.title(f'|phi(g) - phi(s)| for {domain + task} Task @ Checkpoint #{checkpoint_to_analyze}\\n'\n",
    "          + f'Target Pos: {target_pos}')\n",
    "plt.show()"
   ]
  },
  {
   "cell_type": "code",
   "execution_count": null,
   "metadata": {},
   "outputs": [],
   "source": [
    "embedded_goal = embedding_fn.predict(target_pos[None])"
   ]
  },
  {
   "cell_type": "code",
   "execution_count": null,
   "metadata": {},
   "outputs": [],
   "source": [
    "radii = np.arange(0.5, 4, 0.5)\n",
    "pts_by_radius = []\n",
    "for r in radii:\n",
    "    embedded_pts = []\n",
    "    for theta in np.arange(0, 2 * np.pi + np.pi / 30, np.pi / 30):\n",
    "        dx = r * np.cos(theta)\n",
    "        dy = r * np.sin(theta)\n",
    "        pt = target_pos + np.array([dx, dy])\n",
    "        x, y = pt\n",
    "        if -4 <= x and x <= 4 and -4 <= y and y <= 4:\n",
    "            embedded_pt = embedding_fn.predict(pt[None])\n",
    "            embedded_pts.append(embedded_pt)\n",
    "    pts_by_radius.append(np.vstack(embedded_pts))"
   ]
  },
  {
   "cell_type": "code",
   "execution_count": null,
   "metadata": {},
   "outputs": [],
   "source": [
    "border_pts = []\n",
    "border_range = np.arange(-4 + 0.1, 4 - 0.1, 0.1).reshape(-1, 1)\n",
    "border_pts.append(np.hstack(\n",
    "    (np.ones(border_range.shape) * (4 - 0.1), border_range)\n",
    "))\n",
    "border_pts.append(np.hstack(\n",
    "    (np.ones(border_range.shape) * (-4 + 0.1), border_range)\n",
    "))\n",
    "border_pts.append(np.hstack(\n",
    "    (border_range, np.ones(border_range.shape) * (-4 + 0.1))\n",
    "))\n",
    "border_pts.append(np.hstack(\n",
    "    (border_range, np.ones(border_range.shape) * (4 - 0.1))\n",
    "))\n",
    "border_pts = np.vstack(border_pts)"
   ]
  },
  {
   "cell_type": "code",
   "execution_count": null,
   "metadata": {},
   "outputs": [],
   "source": [
    "embedded_border = embedding_fn.predict(border_pts)"
   ]
  },
  {
   "cell_type": "code",
   "execution_count": null,
   "metadata": {},
   "outputs": [],
   "source": [
    "plt.figure(figsize=(8, 8))\n",
    "plt.xlim(-5, 5)\n",
    "plt.ylim(-10, 0)\n",
    "plt.scatter(embedded_goal[0][0], embedded_goal[0][1])\n",
    "for pts in pts_by_radius:\n",
    "    plt.plot(pts[:, 0], pts[:, 1])\n",
    "plt.legend(radii)\n",
    "\n",
    "plt.plot(embedded_trajectory[:, 0], embedded_trajectory[:, 1], 'black')\n",
    "# plt.plot(embedded_border)\n",
    "# plt.quiver(embedded_trajectory[:-1, 0],\n",
    "#            embedded_trajectory[:-1, 1],\n",
    "#            embedded_actions[:, 0],\n",
    "#            embedded_actions[:, 1],\n",
    "#            color='black',\n",
    "#            alpha=0.5,\n",
    "#            linewidth=2,\n",
    "#            headwidth=4)"
   ]
  },
  {
   "cell_type": "code",
   "execution_count": null,
   "metadata": {},
   "outputs": [],
   "source": [
    "plt.figure(figsize=(8, 8))\n",
    "\n",
    "plt.imshow(train_env.render('rgb_array', width=256, height=256),\n",
    "           extent=(-4, 4, -4, 4), origin='lower', alpha=0.25, zorder=3)\n",
    "\n",
    "# plt.contourf(xys[0], xys[1], dists.reshape(xys[0].shape), levels=50, zorder=1)\n",
    "# plt.colorbar(fraction=0.046, pad=0.04)\n",
    "    \n",
    "plt.scatter(*target_pos, marker='*', s=250, color='white', zorder=2)\n",
    "\n",
    "trajectory = sample_trajectory['observations']['state_observation']\n",
    "next_obs = sample_trajectory['next_observations']['state_observation']\n",
    "actions = next_obs - trajectory\n",
    "\n",
    "plt.plot(trajectory[:, 0], trajectory[:, 1])\n",
    "\n",
    "plt.gca().invert_yaxis()\n",
    "\n",
    "plt.title(f'|phi(g) - phi(s)| for {domain + task} Task @ Checkpoint #{checkpoint_to_analyze}\\n'\n",
    "          + f'Target Pos: {target_pos}')\n",
    "plt.show()"
   ]
  },
  {
   "cell_type": "code",
   "execution_count": null,
   "metadata": {},
   "outputs": [],
   "source": [
    "checkpoint.keys()"
   ]
  },
  {
   "cell_type": "code",
   "execution_count": null,
   "metadata": {},
   "outputs": [],
   "source": [
    "from softlearning.replay_pools.utils import get_replay_pool_from_variant\n",
    "\n",
    "variant = checkpoint['variant']\n",
    "train_env = checkpoint['training_environment']\n",
    "replay_pool = get_replay_pool_from_variant(variant, train_env)\n",
    "\n",
    "replay_pool_path = os.path.join(checkpoint_dir, 'replay_pool.pkl')\n",
    "replay_pool.load_experience(replay_pool_path)"
   ]
  },
  {
   "cell_type": "code",
   "execution_count": null,
   "metadata": {},
   "outputs": [],
   "source": [
    "sample_trajectory = replay_pool.last_n_batch(100)"
   ]
  },
  {
   "cell_type": "code",
   "execution_count": null,
   "metadata": {},
   "outputs": [],
   "source": [
    "embedded_trajectory = embedding_fn.predict(sample_trajectory['observations']['state_observation'])\n",
    "embedded_actions = embedded_trajectory[1:, :] - embedded_trajectory[:-1, :]"
   ]
  },
  {
   "cell_type": "code",
   "execution_count": null,
   "metadata": {},
   "outputs": [],
   "source": []
  }
 ],
 "metadata": {
  "kernelspec": {
   "display_name": "Python 3",
   "language": "python",
   "name": "python3"
  },
  "language_info": {
   "codemirror_mode": {
    "name": "ipython",
    "version": 3
   },
   "file_extension": ".py",
   "mimetype": "text/x-python",
   "name": "python",
   "nbconvert_exporter": "python",
   "pygments_lexer": "ipython3",
   "version": "3.7.3"
  }
 },
 "nbformat": 4,
 "nbformat_minor": 4
}

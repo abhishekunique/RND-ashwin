{
 "cells": [
  {
   "cell_type": "code",
   "execution_count": 1,
   "metadata": {},
   "outputs": [],
   "source": [
    "import numpy as np\n",
    "import matplotlib.pyplot as plt\n",
    "import os\n",
    "import pickle\n",
    "import gzip\n",
    "import tensorflow as tf\n",
    "import glob\n",
    "import math\n",
    "import skimage\n",
    "import json\n",
    "from matplotlib.patches import Rectangle"
   ]
  },
  {
   "cell_type": "code",
   "execution_count": 2,
   "metadata": {},
   "outputs": [],
   "source": [
    "from softlearning.replay_pools.utils import get_replay_pool_from_variant\n",
    "\n",
    "def get_grid_vals(env, n_samples):\n",
    "    n_samples = 50\n",
    "    obs_space = env.observation_space['state_observation']\n",
    "    xs = np.linspace(obs_space.low[0], obs_space.high[0], n_samples)\n",
    "    ys = np.linspace(obs_space.low[1], obs_space.high[1], n_samples)\n",
    "    xys = np.meshgrid(xs, ys)\n",
    "    return np.array(xys).transpose(1, 2, 0).reshape((n_samples * n_samples, 2)), xys\n",
    "\n",
    "def get_replay_pool(checkpoint, checkpoint_dir):\n",
    "    from softlearning.replay_pools.utils import get_replay_pool_from_variant\n",
    "\n",
    "    variant = checkpoint['variant']\n",
    "    train_env = checkpoint['training_environment']\n",
    "    replay_pool = get_replay_pool_from_variant(variant, train_env)\n",
    "\n",
    "    replay_pool_path = os.path.join(checkpoint_dir, 'replay_pool.pkl')\n",
    "    replay_pool.load_experience(replay_pool_path)\n",
    "    return replay_pool\n",
    "\n",
    "def plot_trajectories(checkpoint, checkpoint_dir, num_trajectories=10):\n",
    "    replay_pool = get_replay_pool(checkpoint, checkpoint_dir)\n",
    "    trajectories = replay_pool.last_n_batch(100 * num_trajectories)['observations']['state_observation'] \\\n",
    "                    .reshape(num_trajectories, 100, -1)\n",
    "    for i in range(num_trajectories):\n",
    "        plt.plot(trajectories[i,:,0], trajectories[i,:,1], color='w', linewidth=1)"
   ]
  },
  {
   "cell_type": "markdown",
   "metadata": {},
   "source": [
    "## Specify the Experiment Directory"
   ]
  },
  {
   "cell_type": "code",
   "execution_count": 5,
   "metadata": {},
   "outputs": [],
   "source": [
    "common_dir = '/Users/kevintli/rail/data/ray_results'\n",
    "universe = 'gym'\n",
    "domain = 'Point2D'\n",
    "task = 'Maze-v0'"
   ]
  },
  {
   "cell_type": "code",
   "execution_count": 6,
   "metadata": {
    "scrolled": true
   },
   "outputs": [
    {
     "name": "stdout",
     "output_type": "stream",
     "text": [
      "0 \t /2020-05-27T16-46-37-ddl_maze\n",
      "1 \t /2020-05-27T18-08-07-ddl_maze_count\n",
      "2 \t /2020-05-28T15-34-01-dynamics_aware_vice\n",
      "\n",
      " Which experiment do you want to analyze? (ENTER A NUMBER) \t1\n",
      "\n",
      "\n",
      "0 \t /id=b10d1e58-seed=5665_2020-05-27_18-08-08m_k02ani\n",
      "1 \t /id=b10db96c-seed=2276_2020-05-27_18-08-083tnxtdfm\n",
      "2 \t /id=b10e2a3c-seed=8785_2020-05-27_18-08-082a4988sb\n",
      "3 \t /id=b10e9e4a-seed=9604_2020-05-27_18-08-086u1x903v\n",
      "4 \t /id=b111f374-seed=8761_2020-05-27_18-08-088ahet3e6\n",
      "5 \t /id=b11364c0-seed=6292_2020-05-27_18-08-08k1txd1bx\n",
      "6 \t /id=b11aefec-seed=2893_2020-05-27_18-08-09_vlnjkb9\n",
      "7 \t /id=b11b69c2-seed=2745_2020-05-27_18-08-09a2k9l1i5\n",
      "8 \t /id=b1222924-seed=3131_2020-05-27_20-21-51vik2awem\n",
      "9 \t /id=b122a0e8-seed=9098_2020-05-27_20-23-31loo8zrsu\n",
      "10 \t /id=b12a836c-seed=511_2020-05-27_20-25-01b16f1kt4\n",
      "11 \t /id=b12af266-seed=9778_2020-05-27_20-25-03upld8wzv\n",
      "12 \t /id=b135346a-seed=3899_2020-05-27_20-43-39om47n0aq\n",
      "13 \t /id=b139866e-seed=5587_2020-05-27_20-44-35__q3ymuj\n",
      "14 \t /id=b13acb1e-seed=5625_2020-05-27_22-11-57zo2l3xcb\n",
      "15 \t /id=b13c1780-seed=2967_2020-05-27_22-14-23rmh5pmcv\n",
      "\n",
      " Which seed do you want to analyze? (ENTER A NUMBER) \t0\n",
      "PATH:\n",
      " /Users/kevintli/rail/data/ray_results/gym/Point2D/Maze-v0/2020-05-27T18-08-07-ddl_maze_count/id=b10d1e58-seed=5665_2020-05-27_18-08-08m_k02ani\n"
     ]
    }
   ],
   "source": [
    "base_path = os.path.join(common_dir, universe, domain, task)\n",
    "exps = sorted(list(glob.iglob(os.path.join(base_path, '*'))))\n",
    "for i, exp in enumerate(exps):\n",
    "    print(f'{i} \\t {exp.replace(base_path, \"\")}')\n",
    "    \n",
    "exp_choice = int(input('\\n Which experiment do you want to analyze? (ENTER A NUMBER) \\t'))\n",
    "\n",
    "exp_path = exps[exp_choice]\n",
    "print('\\n')\n",
    "seeds = sorted(list(glob.iglob(os.path.join(exp_path, '*'))))\n",
    "seeds = [seed for seed in seeds if os.path.isdir(seed)]\n",
    "for i, seed in enumerate(seeds):\n",
    "    print(f'{i} \\t {seed.replace(exp_path, \"\")}')\n",
    "    \n",
    "# TODO: Extend to analyzing all seeds\n",
    "seed_choice = int(input('\\n Which seed do you want to analyze? (ENTER A NUMBER) \\t'))\n",
    "\n",
    "seed_path = seeds[seed_choice]\n",
    "\n",
    "print('PATH:\\n', seed_path)"
   ]
  },
  {
   "cell_type": "code",
   "execution_count": 7,
   "metadata": {},
   "outputs": [
    {
     "name": "stdout",
     "output_type": "stream",
     "text": [
      "use_count_reward: True\n",
      "discount: 0.99\n",
      "ext_reward_coeff: 0.5\n"
     ]
    }
   ],
   "source": [
    "# Print hyperparameters\n",
    "\n",
    "with open(os.path.join(seed_path, 'params.pkl'), 'rb') as f:\n",
    "    params = pickle.load(f)\n",
    "\n",
    "# print(json.dumps(params, indent=4))\n",
    "hyperparams = {\n",
    "    'use_count_reward': params['environment_params']['training']['kwargs'].get('use_count_reward', False),\n",
    "    'discount': params['algorithm_params']['kwargs']['discount'],\n",
    "    'ext_reward_coeff': params['algorithm_params']['kwargs']['ext_reward_coeff']\n",
    "}\n",
    "for name, value in hyperparams.items():\n",
    "    print(f\"{name}: {value}\")"
   ]
  },
  {
   "cell_type": "markdown",
   "metadata": {},
   "source": [
    "## Specify the Checkpoint"
   ]
  },
  {
   "cell_type": "code",
   "execution_count": 8,
   "metadata": {},
   "outputs": [],
   "source": [
    "checkpoint_to_analyze = 200"
   ]
  },
  {
   "cell_type": "code",
   "execution_count": 9,
   "metadata": {},
   "outputs": [
    {
     "name": "stdout",
     "output_type": "stream",
     "text": [
      "pygame 1.9.4\n",
      "Hello from the pygame community. https://www.pygame.org/contribute.html\n"
     ]
    },
    {
     "name": "stderr",
     "output_type": "stream",
     "text": [
      "/Users/kevintli/anaconda3/envs/softlearning/lib/python3.7/site-packages/tensorflow_core/python/keras/layers/core.py:895: UserWarning: softlearning.rnd.utils is not loaded, but a Lambda layer uses it. It may cause errors.\n",
      "  , UserWarning)\n",
      "WARNING: Logging before flag parsing goes to stderr.\n",
      "W0529 19:03:53.431048 140736058082176 deprecation.py:506] From /Users/kevintli/anaconda3/envs/softlearning/lib/python3.7/site-packages/tensorflow_core/python/ops/init_ops.py:97: calling GlorotUniform.__init__ (from tensorflow.python.ops.init_ops) with dtype is deprecated and will be removed in a future version.\n",
      "Instructions for updating:\n",
      "Call initializer instance with the dtype argument instead of passing it to the constructor\n",
      "W0529 19:03:53.432619 140736058082176 deprecation.py:506] From /Users/kevintli/anaconda3/envs/softlearning/lib/python3.7/site-packages/tensorflow_core/python/ops/init_ops.py:97: calling Zeros.__init__ (from tensorflow.python.ops.init_ops) with dtype is deprecated and will be removed in a future version.\n",
      "Instructions for updating:\n",
      "Call initializer instance with the dtype argument instead of passing it to the constructor\n",
      "W0529 19:03:53.461736 140736058082176 deprecation.py:506] From /Users/kevintli/anaconda3/envs/softlearning/lib/python3.7/site-packages/tensorflow_core/python/ops/resource_variable_ops.py:1630: calling BaseResourceVariable.__init__ (from tensorflow.python.ops.resource_variable_ops) with constraint is deprecated and will be removed in a future version.\n",
      "Instructions for updating:\n",
      "If using Keras pass *_constraint arguments to layers.\n",
      "W0529 19:03:53.546728 140736058082176 backend.py:548] OMP_NUM_THREADS is no longer used by the default Keras config. To configure the number of threads, use tf.config.threading APIs.\n",
      "W0529 19:03:53.761363 140736058082176 hdf5_format.py:171] No training configuration found in save file: the model was *not* compiled. Compile it manually.\n",
      "W0529 19:03:53.913596 140736058082176 hdf5_format.py:171] No training configuration found in save file: the model was *not* compiled. Compile it manually.\n",
      "W0529 19:03:54.065136 140736058082176 hdf5_format.py:171] No training configuration found in save file: the model was *not* compiled. Compile it manually.\n"
     ]
    }
   ],
   "source": [
    "checkpoint_dir = os.path.join(seed_path, f'checkpoint_{checkpoint_to_analyze}')\n",
    "with open(os.path.join(checkpoint_dir, 'checkpoint.pkl'), 'rb') as f:\n",
    "    checkpoint = pickle.load(f)"
   ]
  },
  {
   "cell_type": "markdown",
   "metadata": {},
   "source": [
    "## Load and Visualize Distance Function"
   ]
  },
  {
   "cell_type": "code",
   "execution_count": 10,
   "metadata": {},
   "outputs": [
    {
     "data": {
      "text/plain": [
       "dict_keys(['variant', 'training_environment', 'evaluation_environment', 'algorithm', 'policy_weights', 'rnd_networks', 'distance_estimator'])"
      ]
     },
     "execution_count": 10,
     "metadata": {},
     "output_type": "execute_result"
    }
   ],
   "source": [
    "checkpoint.keys()"
   ]
  },
  {
   "cell_type": "code",
   "execution_count": 11,
   "metadata": {},
   "outputs": [],
   "source": [
    "# Load the distance function, goal, and environment, \n",
    "# then make distance predictions at points on a 50x50 grid\n",
    "distance_fn = checkpoint['distance_estimator']\n",
    "train_env = checkpoint['training_environment']\n",
    "target_pos = train_env.unwrapped._get_obs()['state_desired_goal']\n",
    "\n",
    "n_samples = 50\n",
    "grid_vals, _ = get_grid_vals(train_env, n_samples)\n",
    "goal_vals = np.repeat(target_pos[None], n_samples * n_samples, axis=0)\n",
    "dists = distance_fn.predict([grid_vals, goal_vals])"
   ]
  },
  {
   "cell_type": "code",
   "execution_count": 12,
   "metadata": {
    "scrolled": false
   },
   "outputs": [
    {
     "data": {
      "image/png": "[encoded data removed]",
      "text/plain": [
       "<Figure size 576x576 with 2 Axes>"
      ]
     },
     "metadata": {
      "needs_background": "light"
     },
     "output_type": "display_data"
    }
   ],
   "source": [
    "# Plot a contour map of distance predictions across the environment\n",
    "plt.figure(figsize=(8, 8))\n",
    "from matplotlib.patches import Rectangle\n",
    "\n",
    "plt.imshow(train_env.render('rgb_array', width=32, height=32),\n",
    "           extent=(-4, 4, -4, 4), origin='lower', alpha=0.25, zorder=3)\n",
    "\n",
    "grid_vals, xys = get_grid_vals(train_env, 50)\n",
    "plt.gca().invert_yaxis()\n",
    "plt.contourf(xys[0], xys[1], dists.reshape(xys[0].shape), levels=20, zorder=1)\n",
    "plt.colorbar(fraction=0.046, pad=0.04)\n",
    "\n",
    "plot_trajectories(checkpoint, checkpoint_dir)\n",
    "\n",
    "if task == 'BoxWall-v1':\n",
    "    currentAxis = plt.gca()\n",
    "    currentAxis.add_patch(Rectangle((-2, -2), 4, 4,\n",
    "                          alpha=1, fill=None, linewidth=4))\n",
    "    \n",
    "plt.scatter(*target_pos, marker='*', s=250, color='white', zorder=2)\n",
    "\n",
    "plt.title(f'd(s, g) for {domain + task} Task @ Checkpoint #{checkpoint_to_analyze}\\n'\n",
    "          + f'Target Pos: {target_pos}')\n",
    "plt.show()"
   ]
  },
  {
   "cell_type": "markdown",
   "metadata": {},
   "source": [
    "## Plot Evolution of Distance Function over Many Checkpoints"
   ]
  },
  {
   "cell_type": "code",
   "execution_count": null,
   "metadata": {},
   "outputs": [],
   "source": [
    "def plot_distance_to_goal(distance_fn, train_env, n_samples=50):\n",
    "    grid_vals, xys = get_grid_vals(train_env, n_samples)\n",
    "    dists = distance_fn.predict([grid_vals, goal_vals])\n",
    "    \n",
    "#     plt.figure(figsize=(8, 8))\n",
    "    from matplotlib.patches import Rectangle\n",
    "\n",
    "    plt.imshow(train_env.render('rgb_array', width=32, height=32),\n",
    "               extent=(-4, 4, -4, 4), origin='lower', alpha=0.25, zorder=3)\n",
    "\n",
    "    plt.gca().invert_yaxis()\n",
    "    plt.contourf(xys[0], xys[1], dists.reshape(xys[0].shape), levels=20, zorder=1)\n",
    "    plt.colorbar(fraction=0.046, pad=0.04)\n",
    "\n",
    "    plt.scatter(*target_pos, marker='*', s=250, color='white', zorder=2)"
   ]
  },
  {
   "cell_type": "code",
   "execution_count": null,
   "metadata": {},
   "outputs": [],
   "source": [
    "def plot_grid(imgs, labels=None):\n",
    "    n_images = len(imgs)\n",
    "    n_columns = np.sqrt(n_images)\n",
    "    n_rows = np.ceil(n_images / n_columns) + 1\n",
    "    plt.figure(figsize=(5 * n_columns, 5 * n_rows))\n",
    "    for i, img in enumerate(imgs):\n",
    "        plt.subplot(n_rows, n_columns, i+1)\n",
    "        plt.axis('off')\n",
    "        plt.imshow(img)\n",
    "        if labels is not None:\n",
    "            plt.title(labels[i], fontsize=20)\n",
    "    plt.show()"
   ]
  },
  {
   "cell_type": "code",
   "execution_count": null,
   "metadata": {},
   "outputs": [],
   "source": [
    "checkpoint_paths = list(glob.iglob(os.path.join(seed_path, 'checkpoint_*')))\n",
    "# Sort by the checkpoint number at the end\n",
    "checkpoint_paths = sorted(checkpoint_paths, key=lambda s: int(s.split(\"_\")[-1]))"
   ]
  },
  {
   "cell_type": "code",
   "execution_count": null,
   "metadata": {
    "scrolled": false
   },
   "outputs": [],
   "source": [
    "n_plots = len(checkpoint_paths)\n",
    "n_columns = int(np.sqrt(n_plots) + 1)\n",
    "n_rows = np.ceil(n_plots / n_columns)\n",
    "plt.figure(figsize=(5 * n_columns, 5 * n_rows))\n",
    "\n",
    "imgs = []\n",
    "for i, path in enumerate(checkpoint_paths):\n",
    "    with open(os.path.join(path, 'checkpoint.pkl'), 'rb') as f:\n",
    "        checkpoint = pickle.load(f)\n",
    "    distance_fn = checkpoint['distance_estimator']\n",
    "    train_env = checkpoint['training_environment']\n",
    "    plt.subplot(n_rows, n_columns, i+1, aspect=1)\n",
    "    plot_distance_to_goal(distance_fn, train_env)\n",
    "    plt.title(int(path.split(\"_\")[-1]), fontsize=20)\n",
    "    \n",
    "plt.show()"
   ]
  },
  {
   "cell_type": "markdown",
   "metadata": {},
   "source": [
    "## Generate GIF of Distance over Time"
   ]
  },
  {
   "cell_type": "code",
   "execution_count": null,
   "metadata": {},
   "outputs": [],
   "source": [
    "checkpoint_paths = list(glob.iglob(os.path.join(seed_path, 'checkpoint_*')))\n",
    "# Sort by the checkpoint number at the end\n",
    "checkpoint_paths = sorted(checkpoint_paths, key=lambda s: int(s.split(\"_\")[-1]))\n",
    "\n",
    "imgs = []\n",
    "for i, path in enumerate(checkpoint_paths):\n",
    "    fig = plt.figure(figsize=(8, 8))\n",
    "    with open(os.path.join(path, 'checkpoint.pkl'), 'rb') as f:\n",
    "        checkpoint = pickle.load(f)\n",
    "    distance_fn = checkpoint['distance_estimator']\n",
    "    train_env = checkpoint['training_environment']\n",
    "    plot_distance_to_goal(distance_fn, train_env)\n",
    "    plt.title(int(path.split(\"_\")[-1]), fontsize=20)\n",
    "    fig.canvas.draw()\n",
    "    data = np.fromstring(fig.canvas.tostring_rgb(), dtype=np.uint8, sep='')\n",
    "    data = data.reshape(fig.canvas.get_width_height()[::-1] + (3,))\n",
    "    imgs.append(data)"
   ]
  },
  {
   "cell_type": "code",
   "execution_count": null,
   "metadata": {},
   "outputs": [],
   "source": [
    "import imageio\n",
    "imageio.mimsave('./test.gif', imgs, duration=1.0)"
   ]
  },
  {
   "cell_type": "markdown",
   "metadata": {},
   "source": [
    "## Plot Ground Truth Rewards"
   ]
  },
  {
   "cell_type": "code",
   "execution_count": null,
   "metadata": {},
   "outputs": [],
   "source": [
    "feed_dict = {\n",
    "    'state_achieved_goal': grid_vals,\n",
    "    'state_desired_goal': np.full(grid_vals.shape, fill_value=2)\n",
    "}\n",
    "train_env.unwrapped.reward_type = 'sparse'\n",
    "gtr = train_env.unwrapped.compute_rewards(None, feed_dict)\n",
    "plt.figure(figsize=(8, 8))\n",
    "\n",
    "from matplotlib.patches import Rectangle\n",
    "\n",
    "plt.gca().invert_yaxis()\n",
    "\n",
    "plt.contourf(xys[0], xys[1], gtr.reshape(xys[0].shape))\n",
    "plt.colorbar(fraction=0.046, pad=0.04)\n",
    "\n",
    "plt.scatter([2], [2], color='r')\n",
    "\n",
    "if task == 'BoxWall-v1':\n",
    "    currentAxis = plt.gca()\n",
    "    currentAxis.add_patch(Rectangle((-2, -2), 4, 4,\n",
    "                          alpha=1, fill=None, linewidth=4))\n",
    "\n",
    "plt.title(f'Ground Truth Reward for {domain + task} Task @ Checkpoint #{checkpoint_to_analyze}')\n",
    "\n",
    "plt.scatter(*target_pos, marker='*', s=250, color='white')\n",
    "plt.show()"
   ]
  },
  {
   "cell_type": "markdown",
   "metadata": {},
   "source": [
    "## Qs Visualization"
   ]
  },
  {
   "cell_type": "code",
   "execution_count": null,
   "metadata": {},
   "outputs": [],
   "source": [
    "# Load the checkpoint\n",
    "checkpoint_to_analyze = 200\n",
    "checkpoint_dir = os.path.join(seed_path, f'checkpoint_{checkpoint_to_analyze}')\n",
    "\n",
    "with open(os.path.join(checkpoint_dir, 'checkpoint.pkl'), 'rb') as f:\n",
    "    checkpoint = pickle.load(f)"
   ]
  },
  {
   "cell_type": "code",
   "execution_count": null,
   "metadata": {},
   "outputs": [],
   "source": [
    "variant = checkpoint['variant']\n",
    "env = checkpoint['training_environment']\n",
    "target_pos = env.unwrapped._get_obs()['state_desired_goal']"
   ]
  },
  {
   "cell_type": "code",
   "execution_count": null,
   "metadata": {},
   "outputs": [],
   "source": [
    "from softlearning.value_functions.utils import get_Q_function_from_variant"
   ]
  },
  {
   "cell_type": "code",
   "execution_count": null,
   "metadata": {},
   "outputs": [],
   "source": [
    "# Initialize a double value function and load weights from the checkpoint file\n",
    "Qs = get_Q_function_from_variant(variant, env)\n",
    "\n",
    "for i, Q in enumerate(Qs):\n",
    "    weights_path = os.path.join(checkpoint_dir, f'Qs_{i}')\n",
    "    Q.load_weights(weights_path)"
   ]
  },
  {
   "cell_type": "code",
   "execution_count": null,
   "metadata": {},
   "outputs": [],
   "source": [
    "# Sample n actions from the full action space.\n",
    "# We will plot the worst-case Q value over all of these actions (?)\n",
    "n_action_samples = 20\n",
    "sample_actions = np.vstack([env.action_space.sample() for _ in range(n_action_samples)])"
   ]
  },
  {
   "cell_type": "code",
   "execution_count": null,
   "metadata": {},
   "outputs": [],
   "source": [
    "# Create a 50x50 grid of coordinates to evaluate\n",
    "n_samples = 50\n",
    "grid_vals, xys = get_grid_vals(env, n_samples)"
   ]
  },
  {
   "cell_type": "code",
   "execution_count": null,
   "metadata": {},
   "outputs": [],
   "source": [
    "# Compute Q values at each coordinate\n",
    "value_estimates = []\n",
    "for pos in grid_vals:\n",
    "    value_estimates.append(\n",
    "        np.min([Q.predict([sample_actions,\n",
    "                        np.repeat(pos, n_action_samples).reshape((n_action_samples, -1))])\n",
    "             for Q in Qs])\n",
    "    )"
   ]
  },
  {
   "cell_type": "code",
   "execution_count": null,
   "metadata": {},
   "outputs": [],
   "source": [
    "# Plot a contour map of value estimates\n",
    "plt.figure(figsize=(8, 8))\n",
    "from matplotlib.patches import Rectangle\n",
    "\n",
    "plt.imshow(train_env.render('rgb_array', width=32, height=32),\n",
    "               extent=(-4, 4, -4, 4), origin='lower', alpha=0.25, zorder=3)\n",
    "plt.gca().invert_yaxis()\n",
    "plt.contourf(xys[0], xys[1], np.array(value_estimates).reshape(xys[0].shape))\n",
    "plt.colorbar(fraction=0.046, pad=0.04)\n",
    "\n",
    "if task == 'BoxWall-v1':\n",
    "    currentAxis = plt.gca()\n",
    "    currentAxis.add_patch(Rectangle((-2, -2), 4, 4,\n",
    "                          alpha=1, fill=None, linewidth=4))\n",
    "    \n",
    "plot_trajectories(checkpoint, checkpoint_dir)\n",
    "\n",
    "plt.scatter(*target_pos, marker='*', s=250, color='white')\n",
    "plt.title(f'Value function estimates for {domain + task} Task @ Checkpoint #{checkpoint_to_analyze}\\n'\n",
    "          + f'Target Pos: {target_pos}')\n",
    "plt.show()"
   ]
  },
  {
   "cell_type": "code",
   "execution_count": null,
   "metadata": {},
   "outputs": [],
   "source": [
    "np.repeat(grid_vals[0], n_action_samples).reshape((n_action_samples, -1))"
   ]
  },
  {
   "cell_type": "markdown",
   "metadata": {},
   "source": [
    "## Visualize Embedding Function"
   ]
  },
  {
   "cell_type": "code",
   "execution_count": 13,
   "metadata": {},
   "outputs": [
    {
     "ename": "ValueError",
     "evalue": "Error when checking model input: the list of Numpy arrays that you are passing to your model is not the size the model expected. Expected to see 2 array(s), but instead got the following list of 1 arrays: [array([[3., 3.],\n       [3., 3.],\n       [3., 3.],\n       ...,\n       [3., 3.],\n       [3., 3.],\n       [3., 3.]])]...",
     "output_type": "error",
     "traceback": [
      "\u001b[0;31m---------------------------------------------------------------------------\u001b[0m",
      "\u001b[0;31mValueError\u001b[0m                                Traceback (most recent call last)",
      "\u001b[0;32m<ipython-input-13-92e8e3e5fd38>\u001b[0m in \u001b[0;36m<module>\u001b[0;34m\u001b[0m\n\u001b[1;32m      6\u001b[0m \u001b[0mgrid_vals\u001b[0m \u001b[0;34m=\u001b[0m \u001b[0mget_grid_vals\u001b[0m\u001b[0;34m(\u001b[0m\u001b[0mtrain_env\u001b[0m\u001b[0;34m,\u001b[0m \u001b[0mn_samples\u001b[0m\u001b[0;34m)\u001b[0m\u001b[0;34m\u001b[0m\u001b[0;34m\u001b[0m\u001b[0m\n\u001b[1;32m      7\u001b[0m \u001b[0mgoal_vals\u001b[0m \u001b[0;34m=\u001b[0m \u001b[0mnp\u001b[0m\u001b[0;34m.\u001b[0m\u001b[0mrepeat\u001b[0m\u001b[0;34m(\u001b[0m\u001b[0mtarget_pos\u001b[0m\u001b[0;34m[\u001b[0m\u001b[0;32mNone\u001b[0m\u001b[0;34m]\u001b[0m\u001b[0;34m,\u001b[0m \u001b[0mn_samples\u001b[0m \u001b[0;34m*\u001b[0m \u001b[0mn_samples\u001b[0m\u001b[0;34m,\u001b[0m \u001b[0maxis\u001b[0m\u001b[0;34m=\u001b[0m\u001b[0;36m0\u001b[0m\u001b[0;34m)\u001b[0m\u001b[0;34m\u001b[0m\u001b[0;34m\u001b[0m\u001b[0m\n\u001b[0;32m----> 8\u001b[0;31m \u001b[0mdists\u001b[0m \u001b[0;34m=\u001b[0m \u001b[0mnp\u001b[0m\u001b[0;34m.\u001b[0m\u001b[0mlinalg\u001b[0m\u001b[0;34m.\u001b[0m\u001b[0mnorm\u001b[0m\u001b[0;34m(\u001b[0m\u001b[0membedding_fn\u001b[0m\u001b[0;34m.\u001b[0m\u001b[0mpredict\u001b[0m\u001b[0;34m(\u001b[0m\u001b[0mgoal_vals\u001b[0m\u001b[0;34m)\u001b[0m \u001b[0;34m-\u001b[0m \u001b[0membedding_fn\u001b[0m\u001b[0;34m.\u001b[0m\u001b[0mpredict\u001b[0m\u001b[0;34m(\u001b[0m\u001b[0mgrid_vals\u001b[0m\u001b[0;34m)\u001b[0m\u001b[0;34m,\u001b[0m \u001b[0maxis\u001b[0m\u001b[0;34m=\u001b[0m\u001b[0;34m-\u001b[0m\u001b[0;36m1\u001b[0m\u001b[0;34m)\u001b[0m\u001b[0;34m\u001b[0m\u001b[0;34m\u001b[0m\u001b[0m\n\u001b[0m",
      "\u001b[0;32m~/anaconda3/envs/softlearning/lib/python3.7/site-packages/tensorflow_core/python/keras/engine/training.py\u001b[0m in \u001b[0;36mpredict\u001b[0;34m(self, x, batch_size, verbose, steps, callbacks, max_queue_size, workers, use_multiprocessing)\u001b[0m\n\u001b[1;32m    906\u001b[0m         \u001b[0mmax_queue_size\u001b[0m\u001b[0;34m=\u001b[0m\u001b[0mmax_queue_size\u001b[0m\u001b[0;34m,\u001b[0m\u001b[0;34m\u001b[0m\u001b[0;34m\u001b[0m\u001b[0m\n\u001b[1;32m    907\u001b[0m         \u001b[0mworkers\u001b[0m\u001b[0;34m=\u001b[0m\u001b[0mworkers\u001b[0m\u001b[0;34m,\u001b[0m\u001b[0;34m\u001b[0m\u001b[0;34m\u001b[0m\u001b[0m\n\u001b[0;32m--> 908\u001b[0;31m         use_multiprocessing=use_multiprocessing)\n\u001b[0m\u001b[1;32m    909\u001b[0m \u001b[0;34m\u001b[0m\u001b[0m\n\u001b[1;32m    910\u001b[0m   \u001b[0;32mdef\u001b[0m \u001b[0mreset_metrics\u001b[0m\u001b[0;34m(\u001b[0m\u001b[0mself\u001b[0m\u001b[0;34m)\u001b[0m\u001b[0;34m:\u001b[0m\u001b[0;34m\u001b[0m\u001b[0;34m\u001b[0m\u001b[0m\n",
      "\u001b[0;32m~/anaconda3/envs/softlearning/lib/python3.7/site-packages/tensorflow_core/python/keras/engine/training_arrays.py\u001b[0m in \u001b[0;36mpredict\u001b[0;34m(self, model, x, batch_size, verbose, steps, callbacks, **kwargs)\u001b[0m\n\u001b[1;32m    714\u001b[0m     \u001b[0mbatch_size\u001b[0m \u001b[0;34m=\u001b[0m \u001b[0mmodel\u001b[0m\u001b[0;34m.\u001b[0m\u001b[0m_validate_or_infer_batch_size\u001b[0m\u001b[0;34m(\u001b[0m\u001b[0mbatch_size\u001b[0m\u001b[0;34m,\u001b[0m \u001b[0msteps\u001b[0m\u001b[0;34m,\u001b[0m \u001b[0mx\u001b[0m\u001b[0;34m)\u001b[0m\u001b[0;34m\u001b[0m\u001b[0;34m\u001b[0m\u001b[0m\n\u001b[1;32m    715\u001b[0m     x, _, _ = model._standardize_user_data(\n\u001b[0;32m--> 716\u001b[0;31m         x, check_steps=True, steps_name='steps', steps=steps)\n\u001b[0m\u001b[1;32m    717\u001b[0m     return predict_loop(\n\u001b[1;32m    718\u001b[0m         \u001b[0mmodel\u001b[0m\u001b[0;34m,\u001b[0m\u001b[0;34m\u001b[0m\u001b[0;34m\u001b[0m\u001b[0m\n",
      "\u001b[0;32m~/anaconda3/envs/softlearning/lib/python3.7/site-packages/tensorflow_core/python/keras/engine/training.py\u001b[0m in \u001b[0;36m_standardize_user_data\u001b[0;34m(self, x, y, sample_weight, class_weight, batch_size, check_steps, steps_name, steps, validation_split, shuffle, extract_tensors_from_dataset)\u001b[0m\n\u001b[1;32m   2469\u001b[0m           \u001b[0mfeed_input_shapes\u001b[0m\u001b[0;34m,\u001b[0m\u001b[0;34m\u001b[0m\u001b[0;34m\u001b[0m\u001b[0m\n\u001b[1;32m   2470\u001b[0m           \u001b[0mcheck_batch_axis\u001b[0m\u001b[0;34m=\u001b[0m\u001b[0;32mFalse\u001b[0m\u001b[0;34m,\u001b[0m  \u001b[0;31m# Don't enforce the batch size.\u001b[0m\u001b[0;34m\u001b[0m\u001b[0;34m\u001b[0m\u001b[0m\n\u001b[0;32m-> 2471\u001b[0;31m           exception_prefix='input')\n\u001b[0m\u001b[1;32m   2472\u001b[0m \u001b[0;34m\u001b[0m\u001b[0m\n\u001b[1;32m   2473\u001b[0m     \u001b[0;31m# Get typespecs for the input data and sanitize it if necessary.\u001b[0m\u001b[0;34m\u001b[0m\u001b[0;34m\u001b[0m\u001b[0;34m\u001b[0m\u001b[0m\n",
      "\u001b[0;32m~/anaconda3/envs/softlearning/lib/python3.7/site-packages/tensorflow_core/python/keras/engine/training_utils.py\u001b[0m in \u001b[0;36mstandardize_input_data\u001b[0;34m(data, names, shapes, check_batch_axis, exception_prefix)\u001b[0m\n\u001b[1;32m    527\u001b[0m                        \u001b[0;34m'Expected to see '\u001b[0m \u001b[0;34m+\u001b[0m \u001b[0mstr\u001b[0m\u001b[0;34m(\u001b[0m\u001b[0mlen\u001b[0m\u001b[0;34m(\u001b[0m\u001b[0mnames\u001b[0m\u001b[0;34m)\u001b[0m\u001b[0;34m)\u001b[0m \u001b[0;34m+\u001b[0m \u001b[0;34m' array(s), '\u001b[0m\u001b[0;34m\u001b[0m\u001b[0;34m\u001b[0m\u001b[0m\n\u001b[1;32m    528\u001b[0m                        \u001b[0;34m'but instead got the following list of '\u001b[0m \u001b[0;34m+\u001b[0m\u001b[0;34m\u001b[0m\u001b[0;34m\u001b[0m\u001b[0m\n\u001b[0;32m--> 529\u001b[0;31m                        str(len(data)) + ' arrays: ' + str(data)[:200] + '...')\n\u001b[0m\u001b[1;32m    530\u001b[0m     \u001b[0;32melif\u001b[0m \u001b[0mlen\u001b[0m\u001b[0;34m(\u001b[0m\u001b[0mnames\u001b[0m\u001b[0;34m)\u001b[0m \u001b[0;34m>\u001b[0m \u001b[0;36m1\u001b[0m\u001b[0;34m:\u001b[0m\u001b[0;34m\u001b[0m\u001b[0;34m\u001b[0m\u001b[0m\n\u001b[1;32m    531\u001b[0m       raise ValueError('Error when checking model ' + exception_prefix +\n",
      "\u001b[0;31mValueError\u001b[0m: Error when checking model input: the list of Numpy arrays that you are passing to your model is not the size the model expected. Expected to see 2 array(s), but instead got the following list of 1 arrays: [array([[3., 3.],\n       [3., 3.],\n       [3., 3.],\n       ...,\n       [3., 3.],\n       [3., 3.],\n       [3., 3.]])]..."
     ]
    }
   ],
   "source": [
    "embedding_fn = checkpoint['distance_estimator']\n",
    "train_env = checkpoint['training_environment']\n",
    "target_pos = train_env.unwrapped._get_obs()['state_desired_goal']\n",
    "\n",
    "n_samples = 50\n",
    "grid_vals = get_grid_vals(train_env, n_samples)\n",
    "goal_vals = np.repeat(target_pos[None], n_samples * n_samples, axis=0)\n",
    "dists = np.linalg.norm(embedding_fn.predict(goal_vals) - embedding_fn.predict(grid_vals), axis=-1)"
   ]
  },
  {
   "cell_type": "code",
   "execution_count": null,
   "metadata": {},
   "outputs": [],
   "source": [
    "plt.figure(figsize=(8, 8))\n",
    "from matplotlib.patches import Rectangle\n",
    "\n",
    "plt.imshow(train_env.render('rgb_array', width=256, height=256),\n",
    "           extent=(-4, 4, -4, 4), origin='lower', alpha=0.25, zorder=3)\n",
    "\n",
    "plt.gca().invert_yaxis()\n",
    "plt.contourf(xys[0], xys[1], dists.reshape(xys[0].shape), levels=300, zorder=1)\n",
    "plt.colorbar(fraction=0.046, pad=0.04)\n",
    "    \n",
    "plt.scatter(*target_pos, marker='*', s=250, color='white', zorder=2)\n",
    "\n",
    "plt.title(f'|phi(g) - phi(s)| for {domain + task} Task @ Checkpoint #{checkpoint_to_analyze}\\n'\n",
    "          + f'Target Pos: {target_pos}')\n",
    "plt.show()"
   ]
  },
  {
   "cell_type": "code",
   "execution_count": null,
   "metadata": {},
   "outputs": [],
   "source": [
    "embedded_goal = embedding_fn.predict(target_pos[None])"
   ]
  },
  {
   "cell_type": "code",
   "execution_count": null,
   "metadata": {},
   "outputs": [],
   "source": [
    "radii = np.arange(0.5, 9, 0.5)\n",
    "pts_by_radius = []\n",
    "for r in radii:\n",
    "    embedded_pts = []\n",
    "    for theta in np.arange(0, 2 * np.pi + np.pi / 30, np.pi / 30):\n",
    "        dx = r * np.cos(theta)\n",
    "        dy = r * np.sin(theta)\n",
    "        pt = target_pos + np.array([dx, dy])\n",
    "        x, y = pt\n",
    "        if -4 <= x and x <= 4 and -4 <= y and y <= 4:\n",
    "            embedded_pt = embedding_fn.predict(pt[None])\n",
    "            embedded_pts.append(embedded_pt)\n",
    "    pts_by_radius.append(np.vstack(embedded_pts))"
   ]
  },
  {
   "cell_type": "code",
   "execution_count": null,
   "metadata": {},
   "outputs": [],
   "source": [
    "border_pts = []\n",
    "border_range = np.arange(-4 + 0.1, 4 - 0.1, 0.1).reshape(-1, 1)\n",
    "border_pts.append(np.hstack(\n",
    "    (np.ones(border_range.shape) * (4 - 0.1), border_range)\n",
    "))\n",
    "border_pts.append(np.hstack(\n",
    "    (np.ones(border_range.shape) * (-4 + 0.1), border_range)\n",
    "))\n",
    "border_pts.append(np.hstack(\n",
    "    (border_range, np.ones(border_range.shape) * (-4 + 0.1))\n",
    "))\n",
    "border_pts.append(np.hstack(\n",
    "    (border_range, np.ones(border_range.shape) * (4 - 0.1))\n",
    "))\n",
    "border_pts = np.vstack(border_pts)"
   ]
  },
  {
   "cell_type": "code",
   "execution_count": null,
   "metadata": {},
   "outputs": [],
   "source": [
    "embedded_border = embedding_fn.predict(border_pts)"
   ]
  },
  {
   "cell_type": "code",
   "execution_count": null,
   "metadata": {},
   "outputs": [],
   "source": [
    "plt.figure(figsize=(8, 8))\n",
    "plt.scatter(embedded_goal[0][0], embedded_goal[0][1])\n",
    "for pts in pts_by_radius:\n",
    "    plt.plot(pts[:, 0], pts[:, 1])\n",
    "plt.legend(radii)\n",
    "plt.title('Trajectory in Embedding Space')\n",
    "\n",
    "plt.plot(embedded_trajectory[:, 0], embedded_trajectory[:, 1], 'black')\n",
    "# plt.quiver(embedded_trajectory[:-1, 0],\n",
    "#            embedded_trajectory[:-1, 1],\n",
    "#            embedded_actions[:, 0],\n",
    "#            embedded_actions[:, 1],\n",
    "#            color='black',\n",
    "#            alpha=0.5,\n",
    "#            linewidth=2,\n",
    "#            headwidth=4)"
   ]
  },
  {
   "cell_type": "code",
   "execution_count": null,
   "metadata": {},
   "outputs": [],
   "source": [
    "plt.figure(figsize=(8, 8))\n",
    "\n",
    "plt.imshow(train_env.render('rgb_array', width=256, height=256),\n",
    "           extent=(-4, 4, -4, 4), origin='lower', alpha=0.25, zorder=3)\n",
    "plt.scatter(*target_pos, marker='*', s=250, color='white', zorder=2)\n",
    "\n",
    "trajectory = sample_trajectory['observations']['state_observation']\n",
    "next_obs = sample_trajectory['next_observations']['state_observation']\n",
    "actions = next_obs - trajectory\n",
    "plt.plot(trajectory[:, 0], trajectory[:, 1], 'black')\n",
    "\n",
    "radii = np.arange(0.5, 9, 0.5)\n",
    "circles = []\n",
    "for r in radii:\n",
    "    pts = []\n",
    "    for theta in np.arange(0, 2 * np.pi + np.pi / 30, np.pi / 30):\n",
    "        dx = r * np.cos(theta)\n",
    "        dy = r * np.sin(theta)\n",
    "        pt = target_pos + np.array([dx, dy])\n",
    "        x, y = pt\n",
    "        if -4 <= x and x <= 4 and -4 <= y and y <= 4:\n",
    "            pts.append(np.array([[x, y]]))\n",
    "    circles.append(np.vstack(pts))\n",
    "\n",
    "for circle in circles:\n",
    "    plt.plot(circle[:, 0], circle[:, 1])\n",
    "    \n",
    "plt.gca().invert_yaxis()\n",
    "\n",
    "plt.title(f'|phi(g) - phi(s)| for {domain + task} Task @ Checkpoint #{checkpoint_to_analyze}\\n'\n",
    "          + f'Target Pos: {target_pos}')\n",
    "plt.show()"
   ]
  },
  {
   "cell_type": "code",
   "execution_count": null,
   "metadata": {},
   "outputs": [],
   "source": [
    "checkpoint.keys()"
   ]
  },
  {
   "cell_type": "code",
   "execution_count": null,
   "metadata": {},
   "outputs": [],
   "source": [
    "from softlearning.replay_pools.utils import get_replay_pool_from_variant\n",
    "\n",
    "variant = checkpoint['variant']\n",
    "train_env = checkpoint['training_environment']\n",
    "replay_pool = get_replay_pool_from_variant(variant, train_env)\n",
    "\n",
    "replay_pool_path = os.path.join(checkpoint_dir, 'replay_pool.pkl')\n",
    "replay_pool.load_experience(replay_pool_path)"
   ]
  },
  {
   "cell_type": "code",
   "execution_count": null,
   "metadata": {},
   "outputs": [],
   "source": [
    "sample_trajectory = replay_pool.last_n_batch(100)"
   ]
  },
  {
   "cell_type": "code",
   "execution_count": null,
   "metadata": {},
   "outputs": [],
   "source": [
    "embedded_trajectory = embedding_fn.predict(sample_trajectory['observations']['state_observation'])\n",
    "embedded_actions = embedded_trajectory[1:, :] - embedded_trajectory[:-1, :]"
   ]
  },
  {
   "cell_type": "code",
   "execution_count": null,
   "metadata": {},
   "outputs": [],
   "source": []
  }
 ],
 "metadata": {
  "kernelspec": {
   "display_name": "Python 3",
   "language": "python",
   "name": "python3"
  },
  "language_info": {
   "codemirror_mode": {
    "name": "ipython",
    "version": 3
   },
   "file_extension": ".py",
   "mimetype": "text/x-python",
   "name": "python",
   "nbconvert_exporter": "python",
   "pygments_lexer": "ipython3",
   "version": "3.7.3"
  }
 },
 "nbformat": 4,
 "nbformat_minor": 4
}

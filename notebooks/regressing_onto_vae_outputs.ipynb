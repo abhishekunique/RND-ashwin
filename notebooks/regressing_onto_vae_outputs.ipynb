{
 "cells": [
  {
   "cell_type": "code",
   "execution_count": null,
   "metadata": {},
   "outputs": [],
   "source": [
    "from __future__ import absolute_import, division, print_function, unicode_literals\n",
    "\n",
    "import tensorflow as tf\n",
    "tf.enable_eager_execution()\n",
    "\n",
    "import os\n",
    "import time\n",
    "import numpy as np\n",
    "import glob\n",
    "import matplotlib.pyplot as plt\n",
    "import PIL\n",
    "import imageio\n",
    "import skimage\n",
    "\n",
    "from IPython import display\n",
    "%matplotlib inline\n",
    "\n",
    "tfk = tf.keras\n",
    "tfkl = tf.keras.layers"
   ]
  },
  {
   "cell_type": "markdown",
   "metadata": {},
   "source": [
    "# Load Data"
   ]
  },
  {
   "cell_type": "code",
   "execution_count": null,
   "metadata": {},
   "outputs": [],
   "source": [
    "from softlearning.models.state_estimation import (\n",
    "    get_dumped_pkl_data\n",
    ")\n",
    "# images_path = '/home/justinvyu/dev/softlearning-vice/goal_classifier/free_screw_state_estimator_data_invisible_claw/more_data.pkl'\n",
    "# images_path = '/root/nfs/kun1/users/justinvyu/data/fixed_data.pkl'\n",
    "# images_path = '/root/nfs/kun1/users/justinvyu/data/invisible_claw_antialiased_data.pkl'\n",
    "images_path = '/root/nfs/kun1/users/justinvyu/data/fixed_data_with_states.pkl'\n",
    "\n",
    "images, states = get_dumped_pkl_data(images_path)"
   ]
  },
  {
   "cell_type": "code",
   "execution_count": null,
   "metadata": {},
   "outputs": [],
   "source": [
    "images.shape, states.shape"
   ]
  },
  {
   "cell_type": "code",
   "execution_count": null,
   "metadata": {},
   "outputs": [],
   "source": [
    "with gzip.open('/root/nfs/kun1/users/justinvyu/data/fixed_data.pkl', 'rb') as f:\n",
    "    fixed_data = pickle.load(f)"
   ]
  },
  {
   "cell_type": "code",
   "execution_count": null,
   "metadata": {},
   "outputs": [],
   "source": [
    "fixed_data_with_states = {\n",
    "    'pixels': fixed_data,\n",
    "    'states': states\n",
    "}\n",
    "with gzip.open('/root/nfs/kun1/users/justinvyu/data/fixed_data_with_states.pkl', 'wb') as f:\n",
    "    pickle.dump(fixed_data_with_states, f)"
   ]
  },
  {
   "cell_type": "code",
   "execution_count": null,
   "metadata": {},
   "outputs": [],
   "source": [
    "images, states = fixed_data_with_states['pixels'], fixed_data_with_states['states']"
   ]
  },
  {
   "cell_type": "markdown",
   "metadata": {},
   "source": [
    "# Train state estimator on top of the VAE outputs"
   ]
  },
  {
   "cell_type": "code",
   "execution_count": null,
   "metadata": {},
   "outputs": [],
   "source": [
    "from softlearning.preprocessors.utils import get_vae_preprocessor\n",
    "# encoder_weights_fn = '/root/softlearning/softlearning/models/vae_weights/invisible_claw_encoder_weights_4_final.h5'\n",
    "# decoder_weights_fn = '/root/softlearning/softlearning/models/vae_weights/invisible_claw_decoder_weights_4_final.h5'\n",
    "\n",
    "encoder_weights_fn = '/root/softlearning/softlearning/models/vae_weights/invisible_claw_encoder_weights.h5'\n",
    "decoder_weights_fn = '/root/softlearning/softlearning/models/vae_weights/invisible_claw_decoder_weights.h5'\n",
    "\n",
    "vae_preprocessor_params = {\n",
    "    'type': 'VAEPreprocessor',\n",
    "    'kwargs': {\n",
    "        'encoder_path': encoder_weights_fn,\n",
    "        'decoder_path': decoder_weights_fn,\n",
    "        'trainable': True,\n",
    "        'image_shape': (32, 32, 3),\n",
    "        'latent_dim': 16,\n",
    "        'include_decoder': False,\n",
    "    }\n",
    "}\n",
    "\n",
    "from softlearning.models.state_estimation import state_estimator_model\n",
    "# state_estimator = state_estimator_model(\n",
    "#     input_shape=(32, 32, 3),\n",
    "#     preprocessor_params=vae_preprocessor_params)\n",
    "state_estimator = state_estimator_model(\n",
    "    input_shape=(32, 32, 3))"
   ]
  },
  {
   "cell_type": "code",
   "execution_count": null,
   "metadata": {},
   "outputs": [],
   "source": [
    "state_estimator.summary()"
   ]
  },
  {
   "cell_type": "code",
   "execution_count": null,
   "metadata": {},
   "outputs": [],
   "source": [
    "from softlearning.preprocessors.utils import get_vae_preprocessor\n",
    "vae = get_vae_preprocessor(**vae_preprocessor_params['kwargs'])"
   ]
  },
  {
   "cell_type": "code",
   "execution_count": null,
   "metadata": {},
   "outputs": [],
   "source": [
    "vae.encoder.summary(), vae.decoder.summary()"
   ]
  },
  {
   "cell_type": "code",
   "execution_count": null,
   "metadata": {},
   "outputs": [],
   "source": [
    "split_data = np.split(images, 50)"
   ]
  },
  {
   "cell_type": "code",
   "execution_count": null,
   "metadata": {},
   "outputs": [],
   "source": [
    "reconstructions = []\n",
    "for batch in split_data:\n",
    "    reconstructions.append(vae(batch))"
   ]
  },
  {
   "cell_type": "code",
   "execution_count": null,
   "metadata": {},
   "outputs": [],
   "source": [
    "reconstruct = np.concatenate(reconstructions, axis=0)"
   ]
  },
  {
   "cell_type": "code",
   "execution_count": null,
   "metadata": {},
   "outputs": [],
   "source": [
    "import skimage\n",
    "reconstruct_int = skimage.util.img_as_ubyte(reconstruct)"
   ]
  },
  {
   "cell_type": "code",
   "execution_count": null,
   "metadata": {},
   "outputs": [],
   "source": [
    "dump = {\n",
    "    'pixels': reconstruct_int,\n",
    "    'states': states\n",
    "}\n",
    "import gzip\n",
    "import pickle\n",
    "with gzip.open('/root/nfs/kun1/users/justinvyu/data/reconstructions_with_state', 'wb') as f:\n",
    "    pickle.dump(dump, f)"
   ]
  },
  {
   "cell_type": "code",
   "execution_count": null,
   "metadata": {},
   "outputs": [],
   "source": [
    "# Compile\n",
    "state_estimator.compile(optimizer='adam', loss='mse')"
   ]
  },
  {
   "cell_type": "code",
   "execution_count": null,
   "metadata": {},
   "outputs": [],
   "source": [
    "N_EPOCHS = 15\n",
    "\n",
    "history = state_estimator.fit(\n",
    "    x=images,\n",
    "    y=states,\n",
    "    batch_size=256,\n",
    "    epochs=N_EPOCHS,\n",
    "    validation_split=0.1\n",
    ")"
   ]
  },
  {
   "cell_type": "markdown",
   "metadata": {},
   "source": [
    "# Show estimation errors"
   ]
  },
  {
   "cell_type": "code",
   "execution_count": null,
   "metadata": {},
   "outputs": [],
   "source": [
    "# Get samples to calculate metrics on\n",
    "random_indices = np.random.choice(images.shape[0], size=10000)\n",
    "test_images = images[random_indices]\n",
    "test_labels = states[random_indices]\n",
    "preds = state_estimator.predict(test_images)"
   ]
  },
  {
   "cell_type": "code",
   "execution_count": null,
   "metadata": {},
   "outputs": [],
   "source": [
    "pos_errors = []\n",
    "angle_errors = []\n",
    "\n",
    "degrees = lambda x: x * 180 / np.pi\n",
    "def angle_distance(deg1, deg2):\n",
    "    phi = np.abs(deg1 - deg2) % 360\n",
    "    distance = 360 - phi if phi > 180 else phi\n",
    "    return distance\n",
    "\n",
    "for i, (test_img, label, pred) in enumerate(zip(test_images, test_labels, preds)):\n",
    "    pos_error_xy = np.abs(label[:2] - pred[:2])\n",
    "    pos_error = np.linalg.norm(pos_error_xy)\n",
    "    pos_error = 15 * pos_error # free box is 30 cm, 15 on each side (-1 -> 1 --> -15 -> 15)\n",
    "    \n",
    "    true_angle = np.arctan2(label[3], label[2])\n",
    "    true_angle = degrees(true_angle)\n",
    "    pred_angle = np.arctan2(pred[3], pred[2])\n",
    "    pred_angle = degrees(pred_angle)\n",
    "    \n",
    "    angle_error = angle_distance(true_angle, pred_angle)\n",
    "\n",
    "    pos_errors.append(pos_error)\n",
    "    angle_errors.append(angle_error)\n",
    "\n",
    "mean_pos_error = np.mean(pos_errors)\n",
    "mean_angle_error = np.mean(angle_errors)\n",
    "print('MEAN POS ERROR (CM):', mean_pos_error)\n",
    "print('MEAN ANGLE ERROR (degrees):', mean_angle_error)"
   ]
  },
  {
   "cell_type": "code",
   "execution_count": null,
   "metadata": {},
   "outputs": [],
   "source": [
    "def display_top_errors(errors, label_str=\"\"):\n",
    "    errors = np.array(errors)\n",
    "    ind = np.argpartition(errors, -20)[-20:]\n",
    "    ind = ind[np.argsort(errors[ind])]\n",
    "    ind = np.flip(ind) # Order descending\n",
    "    print(ind)\n",
    "    top_errors = errors[ind]\n",
    "    \n",
    "    top_error_imgs, top_error_labels, top_error_preds = test_images[ind], test_labels[ind], preds[ind]\n",
    "    for i, (error, img, label, pred) in enumerate(zip(top_errors,\n",
    "                                                      top_error_imgs,\n",
    "                                                      top_error_labels,\n",
    "                                                      top_error_preds)):\n",
    "        print('\\n========== IMAGE #', i, '=========')\n",
    "        plt.axis('off')\n",
    "        plt.imshow(img)\n",
    "        print('{} ERROR: {}\\n\\ntrue: {}\\npred: {}'.format(label_str, error, label, pred))\n",
    "        plt.show()"
   ]
  },
  {
   "cell_type": "code",
   "execution_count": null,
   "metadata": {},
   "outputs": [],
   "source": [
    "display_top_errors(pos_errors, label_str=\"POS (cm)\")\n",
    "display_top_errors(angle_errors, label_str=\"ANGLE (degrees)\")"
   ]
  },
  {
   "cell_type": "code",
   "execution_count": null,
   "metadata": {},
   "outputs": [],
   "source": [
    "def plot_histograms(pos_errors, angle_errors):\n",
    "    plt.figure(figsize=(10, 5))\n",
    "    plt.subplot(1, 2, 1)\n",
    "    plt.title('Position Errors (cm)')\n",
    "    plt.hist(pos_errors, bins=30)\n",
    "    plt.subplot(1, 2, 2)\n",
    "    plt.title('Angle Errors (deg)')\n",
    "    plt.hist(angle_errors, bins=30)\n",
    "    plt.show()\n",
    "    \n",
    "plot_histograms(pos_errors, angle_errors)"
   ]
  },
  {
   "cell_type": "code",
   "execution_count": null,
   "metadata": {
    "scrolled": true
   },
   "outputs": [],
   "source": [
    "def plot_pos_support():\n",
    "    plt.figure(figsize=(5, 5))\n",
    "    plt.scatter(test_labels[:, 0], test_labels[:, 1], alpha=0.1, s=5)\n",
    "    plt.show()\n",
    "    \n",
    "plot_pos_support()\n",
    "\n",
    "def plot_angle_support():\n",
    "    plt.figure(figsize=(5,5))\n",
    "    angles = np.arctan2(test_labels[:, 3], test_labels[:, 2])\n",
    "    plt.hist(angles, bins=50)\n",
    "    plt.show()\n",
    "    \n",
    "plot_angle_support()"
   ]
  },
  {
   "cell_type": "code",
   "execution_count": null,
   "metadata": {},
   "outputs": [],
   "source": [
    "def get_noise(size, loc=0, scale=0.02):\n",
    "    return np.random.normal(loc=loc, scale=scale, size=size)\n",
    "\n",
    "labels_x, labels_y = test_labels[:, 0], test_labels[:, 1]\n",
    "\n",
    "preds_x, preds_y = preds[:, 0], preds[:, 1]\n",
    "dxs, dys = preds_x - labels_x, preds_y - labels_y\n",
    "plt.figure(figsize=(20, 20))\n",
    "plt.title('State estimator errors (xy)')\n",
    "\n",
    "plt.scatter(labels_x, labels_y, c='blue', s=2, label='labels (blue)')\n",
    "plt.scatter(preds_x, preds_y, c='green', s=2, label='preds (green)')\n",
    "plt.legend()\n",
    "plt.quiver(labels_x, labels_y, dxs, dys, angles='xy', scale_units='xy', scale=1, width=0.001, alpha=0.6)\n",
    "\n",
    "plt.figure(figsize=(10, 10))\n",
    "plt.title('Position errors')\n",
    "plt.xlabel('label')\n",
    "plt.ylabel('predicted')\n",
    "\n",
    "plt.scatter(labels_x, preds_x, s=0.5, alpha=0.2, label='x')\n",
    "plt.scatter(labels_y, preds_y, s=0.5, alpha=0.2, label='y')\n",
    "plt.legend()"
   ]
  },
  {
   "cell_type": "code",
   "execution_count": null,
   "metadata": {},
   "outputs": [],
   "source": [
    "labels_z_cos, labels_z_sin = test_labels[:, 2], test_labels[:, 3]\n",
    "preds_z_cos, preds_z_sin = preds[:, 2], preds[:, 3]\n",
    "dzs_cos, dzs_sin = preds_z_cos - labels_z_cos, preds_z_sin - labels_z_sin\n",
    "\n",
    "labels_angle, preds_angle = (\n",
    "    np.arctan2(labels_z_sin, labels_z_cos),\n",
    "    np.arctan2(preds_z_sin, preds_z_cos)\n",
    ")\n",
    "plt.figure(figsize=(10, 10))\n",
    "plt.title('Angle errors')\n",
    "plt.xlabel('label angle (radians)')\n",
    "plt.ylabel('predicted angle (radians)')\n",
    "plt.scatter(labels_angle, preds_angle, s=0.4, alpha=0.25)"
   ]
  },
  {
   "cell_type": "code",
   "execution_count": null,
   "metadata": {},
   "outputs": [],
   "source": [
    "vae = state_estimator.get_layer('vae_preprocessor')\n",
    "vae(test_images[0][None])"
   ]
  },
  {
   "cell_type": "code",
   "execution_count": null,
   "metadata": {},
   "outputs": [],
   "source": []
  }
 ],
 "metadata": {
  "kernelspec": {
   "display_name": "Python 3",
   "language": "python",
   "name": "python3"
  },
  "language_info": {
   "codemirror_mode": {
    "name": "ipython",
    "version": 3
   },
   "file_extension": ".py",
   "mimetype": "text/x-python",
   "name": "python",
   "nbconvert_exporter": "python",
   "pygments_lexer": "ipython3",
   "version": "3.7.3"
  }
 },
 "nbformat": 4,
 "nbformat_minor": 2
}

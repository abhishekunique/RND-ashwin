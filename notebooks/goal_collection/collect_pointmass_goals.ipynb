{
 "cells": [
  {
   "cell_type": "code",
   "execution_count": 1,
   "metadata": {},
   "outputs": [],
   "source": [
    "import argparse\n",
    "import numpy as np\n",
    "from softlearning.environments.adapters.gym_adapter import GymAdapter\n",
    "import gym\n",
    "import multiworld\n",
    "multiworld.register_all_envs()\n",
    "import imageio\n",
    "import pickle\n",
    "import os\n",
    "import time\n",
    "import matplotlib.pyplot as plt\n",
    "from IPython.display import clear_output\n",
    "import skimage\n",
    "\n",
    "%matplotlib inline"
   ]
  },
  {
   "cell_type": "code",
   "execution_count": 20,
   "metadata": {},
   "outputs": [],
   "source": [
    "exp_name = 'test'"
   ]
  },
  {
   "cell_type": "code",
   "execution_count": 21,
   "metadata": {},
   "outputs": [
    {
     "data": {
      "text/plain": [
       "'/home/justinvyu/dev/vice/notebooks/bottom_middle'"
      ]
     },
     "execution_count": 21,
     "metadata": {},
     "output_type": "execute_result"
    }
   ],
   "source": [
    "cur_dir = os.getcwd()\n",
    "directory = os.path.join(cur_dir, exp_name)\n",
    "if not os.path.exists(directory):\n",
    "    os.makedirs(directory)\n",
    "directory"
   ]
  },
  {
   "cell_type": "code",
   "execution_count": 68,
   "metadata": {},
   "outputs": [],
   "source": [
    "images = True\n",
    "NUM_TOTAL_EXAMPLES, ROLLOUT_LENGTH, STEPS_PER_SAMPLE = 1, 15, 1\n",
    "univ = 'gym'\n",
    "domain = 'Point2D'\n",
    "task = 'BoxWall-v1'\n",
    "\n",
    "# === SET GOAL ===\n",
    "goal_x, goal_y = (0, 3)\n",
    "eps = 0.25      # Within 0.25 distance\n",
    "# ================\n",
    "\n",
    "init_pos_range = ((goal_x - eps, goal_y - eps), (goal_x + eps, goal_y + eps))\n",
    "target_pos_range = ((goal_x, goal_y), (goal_x, goal_y))\n",
    "\n",
    "env_kwargs = {\n",
    "    'action_scale': 0.5,\n",
    "    'init_pos_range': init_pos_range,\n",
    "    'target_pos_range': target_pos_range,\n",
    "    'render_target': True,\n",
    "    'images_are_rgb': True,\n",
    "    'render_onscreen': False,\n",
    "    'reward_type': 'dense',\n",
    "    'render_size': 200,\n",
    "    'observation_keys': ('state_observation', )\n",
    "}\n",
    "env = GymAdapter(\n",
    "    domain=domain,\n",
    "    task=task,\n",
    "    **env_kwargs\n",
    ") "
   ]
  },
  {
   "cell_type": "code",
   "execution_count": 50,
   "metadata": {
    "scrolled": false
   },
   "outputs": [
    {
     "data": {
      "image/png": "[encoded data removed]",
      "text/plain": [
       "<Figure size 432x288 with 1 Axes>"
      ]
     },
     "metadata": {
      "needs_background": "light"
     },
     "output_type": "display_data"
    }
   ],
   "source": [
    "obs = env.reset()\n",
    "plt.imshow(env.render('rgb_array'))\n",
    "plt.show()"
   ]
  },
  {
   "cell_type": "code",
   "execution_count": 97,
   "metadata": {},
   "outputs": [],
   "source": [
    "from copy import deepcopy\n",
    "from gym.spaces import Box\n",
    "test = deepcopy(env)\n",
    "test.init_pos_range = test.target_pos_range"
   ]
  },
  {
   "cell_type": "code",
   "execution_count": 100,
   "metadata": {},
   "outputs": [
    {
     "data": {
      "text/plain": [
       "(array([0., 3.], dtype=float32), array([0., 3.], dtype=float32))"
      ]
     },
     "execution_count": 100,
     "metadata": {},
     "output_type": "execute_result"
    }
   ],
   "source": [
    "test.init_pos_range.low, test.init_pos_range.high"
   ]
  },
  {
   "cell_type": "code",
   "execution_count": 99,
   "metadata": {},
   "outputs": [
    {
     "data": {
      "text/plain": [
       "(array([-0.25,  2.75], dtype=float32), array([0.25, 3.25], dtype=float32))"
      ]
     },
     "execution_count": 99,
     "metadata": {},
     "output_type": "execute_result"
    }
   ],
   "source": [
    "env.init_pos_range.low, env.init_pos_range.high"
   ]
  },
  {
   "cell_type": "code",
   "execution_count": 8,
   "metadata": {},
   "outputs": [
    {
     "data": {
      "text/plain": [
       "({'state_observation': array([0.31719735, 0.21493012]),\n",
       "  'state_desired_goal': array([0., 0.])},\n",
       " -0.38315677528093733,\n",
       " False,\n",
       " {'radius': 0.5,\n",
       "  'target_position': array([0., 0.]),\n",
       "  'distance_to_target': 0.38315677528093733,\n",
       "  'velocity': array([0.12861097, 0.12985301], dtype=float32),\n",
       "  'speed': 0.18276374,\n",
       "  'is_success': True})"
      ]
     },
     "execution_count": 8,
     "metadata": {},
     "output_type": "execute_result"
    }
   ],
   "source": [
    "env.step(env.action_space.sample())"
   ]
  },
  {
   "cell_type": "code",
   "execution_count": 91,
   "metadata": {},
   "outputs": [],
   "source": [
    "observations = []\n",
    "actions = []\n",
    "next_observations = []\n",
    "num_positives = 0"
   ]
  },
  {
   "cell_type": "code",
   "execution_count": 92,
   "metadata": {},
   "outputs": [
    {
     "name": "stdout",
     "output_type": "stream",
     "text": [
      "{'state_observation': array([-0.05367414,  3.21116538])} [-0.37334758 -0.33880606] {'state_observation': array([-0.42702172,  2.87235932])}\n",
      "{'state_observation': array([-0.17881035,  3.12447547])} [-0.36003062  0.32903653] {'state_observation': array([-0.53884097,  3.45351201])}\n",
      "{'state_observation': array([-0.19675907,  3.14046475])} [-0.11196582 -0.2739679 ] {'state_observation': array([-0.3087249 ,  2.86649686])}\n",
      "{'state_observation': array([0.15391741, 2.95634728])} [-0.38661417  0.05499957] {'state_observation': array([-0.23269677,  3.01134687])}\n",
      "{'state_observation': array([-0.23269677,  3.01134687])} [ 0.113878   -0.33147642] {'state_observation': array([-0.11881875,  2.67987045])}\n",
      "{'state_observation': array([0.08973569, 2.92169138])} [-0.08984046  0.16588745] {'state_observation': array([-1.04778397e-04,  3.08757886e+00])}\n",
      "{'state_observation': array([-1.04778397e-04,  3.08757886e+00])} [-0.07110044 -0.26788855] {'state_observation': array([-0.07120522,  2.81969031])}\n",
      "{'state_observation': array([-0.07120522,  2.81969031])} [0.4811618  0.08844502] {'state_observation': array([0.40995661, 2.90813532])}\n"
     ]
    }
   ],
   "source": [
    "# reset the environment\n",
    "while num_positives <= NUM_TOTAL_EXAMPLES:\n",
    "    prev_obs = env.reset()\n",
    "    last_action = env.action_space.sample()\n",
    "    for _ in range(STEPS_PER_SAMPLE):\n",
    "        obs, rew, done, info = env.step(last_action)\n",
    "        \n",
    "    t = 0\n",
    "    while t < ROLLOUT_LENGTH:\n",
    "        action = env.action_space.sample()\n",
    "                \n",
    "        prev_obs = obs\n",
    "        # === SPECIFY YOUR GOAL CRITERIA ===\n",
    "        if info['distance_to_target'] < eps:\n",
    "            observations.append(prev_obs)\n",
    "            for _ in range(STEPS_PER_SAMPLE):\n",
    "                obs, rew, done, info = env.step(action)\n",
    "            next_observations.append(obs)\n",
    "            actions.append(action)\n",
    "            num_positives += 1\n",
    "        else:\n",
    "            for _ in range(STEPS_PER_SAMPLE):\n",
    "                obs, rew, done, info = env.step(action)\n",
    "        last_action = action\n",
    "        t += 1"
   ]
  },
  {
   "cell_type": "code",
   "execution_count": 76,
   "metadata": {},
   "outputs": [],
   "source": [
    "goal_obs = {\n",
    "    key: np.concatenate([\n",
    "        obs[key][None] for obs in observations\n",
    "    ], axis=0)\n",
    "    for key in observations[0].keys()\n",
    "}\n",
    "goal_next_obs = {\n",
    "    key: np.concatenate([\n",
    "        obs[key][None] for obs in next_observations\n",
    "    ], axis=0)\n",
    "    for key in next_observations[0].keys()\n",
    "}\n",
    "goal_actions = np.vstack(actions)\n",
    "\n",
    "goal_transitions = {\n",
    "    'observations': goal_obs,\n",
    "    'next_observations': goal_next_obs,\n",
    "    'actions': goal_actions,\n",
    "}"
   ]
  },
  {
   "cell_type": "code",
   "execution_count": 78,
   "metadata": {},
   "outputs": [
    {
     "data": {
      "text/plain": [
       "(array([-0.17758444,  2.9486336 ]),\n",
       " array([-0.26076361,  2.51      ]),\n",
       " array([-0.16635834, -0.9481203 ], dtype=float32))"
      ]
     },
     "execution_count": 78,
     "metadata": {},
     "output_type": "execute_result"
    }
   ],
   "source": [
    "goal_obs['state_observation'][0], goal_next_obs['state_observation'][0], goal_actions[0]"
   ]
  },
  {
   "cell_type": "code",
   "execution_count": 81,
   "metadata": {},
   "outputs": [
    {
     "data": {
      "text/plain": [
       "<matplotlib.collections.PathCollection at 0x7f00e41304e0>"
      ]
     },
     "execution_count": 81,
     "metadata": {},
     "output_type": "execute_result"
    },
    {
     "data": {
      "image/png": "[encoded data removed]",
      "text/plain": [
       "<Figure size 576x576 with 1 Axes>"
      ]
     },
     "metadata": {
      "needs_background": "light"
     },
     "output_type": "display_data"
    }
   ],
   "source": [
    "plt.figure(figsize=(8, 8))\n",
    "plt.xlim(-4, 4)\n",
    "plt.ylim(-4, 4)\n",
    "plt.scatter(goal_transitions['observations']['state_observation'][:, 0], goal_transitions['observations']['state_observation'][:, 1])"
   ]
  },
  {
   "cell_type": "code",
   "execution_count": 26,
   "metadata": {},
   "outputs": [],
   "source": [
    "goal_examples = {\n",
    "    key: np.concatenate([\n",
    "        obs[key][None] for obs in observations\n",
    "    ], axis=0)\n",
    "    for key in observations[0].keys()\n",
    "}\n",
    "with open(os.path.join(directory, 'positives.pkl'), 'wb') as file:\n",
    "    pickle.dump(goal_examples, file)"
   ]
  },
  {
   "cell_type": "code",
   "execution_count": null,
   "metadata": {},
   "outputs": [],
   "source": []
  }
 ],
 "metadata": {
  "kernelspec": {
   "display_name": "Python 3",
   "language": "python",
   "name": "python3"
  },
  "language_info": {
   "codemirror_mode": {
    "name": "ipython",
    "version": 3
   },
   "file_extension": ".py",
   "mimetype": "text/x-python",
   "name": "python",
   "nbconvert_exporter": "python",
   "pygments_lexer": "ipython3",
   "version": "3.7.3"
  }
 },
 "nbformat": 4,
 "nbformat_minor": 2
}

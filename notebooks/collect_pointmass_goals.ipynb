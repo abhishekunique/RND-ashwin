{
 "cells": [
  {
   "cell_type": "code",
   "execution_count": 3,
   "metadata": {},
   "outputs": [],
   "source": [
    "import argparse\n",
    "import numpy as np\n",
    "from softlearning.environments.adapters.gym_adapter import GymAdapter\n",
    "import gym\n",
    "import multiworld\n",
    "multiworld.register_all_envs()\n",
    "import imageio\n",
    "import pickle\n",
    "import os\n",
    "import time\n",
    "import matplotlib.pyplot as plt\n",
    "from IPython.display import clear_output\n",
    "import skimage\n",
    "\n",
    "%matplotlib inline"
   ]
  },
  {
   "cell_type": "code",
   "execution_count": 20,
   "metadata": {},
   "outputs": [],
   "source": [
    "exp_name = 'bottom_middle'"
   ]
  },
  {
   "cell_type": "code",
   "execution_count": 21,
   "metadata": {},
   "outputs": [
    {
     "data": {
      "text/plain": [
       "'/home/justinvyu/dev/vice/notebooks/bottom_middle'"
      ]
     },
     "execution_count": 21,
     "metadata": {},
     "output_type": "execute_result"
    }
   ],
   "source": [
    "cur_dir = os.getcwd()\n",
    "directory = os.path.join(cur_dir, exp_name)\n",
    "if not os.path.exists(directory):\n",
    "    os.makedirs(directory)\n",
    "directory"
   ]
  },
  {
   "cell_type": "code",
   "execution_count": 22,
   "metadata": {},
   "outputs": [],
   "source": [
    "images = True\n",
    "NUM_TOTAL_EXAMPLES, ROLLOUT_LENGTH, STEPS_PER_SAMPLE = 300, 15, 1\n",
    "univ = 'gym'\n",
    "domain = 'Point2D'\n",
    "task = 'BoxWall-v1'\n",
    "\n",
    "# === SET GOAL ===\n",
    "goal_x, goal_y = (0, 3)\n",
    "eps = 0.25      # Within 0.25 distance\n",
    "# ================\n",
    "\n",
    "init_pos_range = ((goal_x - eps, goal_y - eps), (goal_x + eps, goal_y + eps))\n",
    "target_pos_range = ((goal_x, goal_y), (goal_x, goal_y))\n",
    "\n",
    "env_kwargs = {\n",
    "    'action_scale': 0.5,\n",
    "    'init_pos_range': init_pos_range,\n",
    "    'target_pos_range': target_pos_range,\n",
    "    'render_target': True,\n",
    "    'images_are_rgb': True,\n",
    "    'render_onscreen': False,\n",
    "    'render_size': 200,\n",
    "    'observation_keys': ('state_observation', 'state_desired_goal')\n",
    "}\n",
    "env = GymAdapter(\n",
    "    domain=domain,\n",
    "    task=task,\n",
    "    **env_kwargs\n",
    ") "
   ]
  },
  {
   "cell_type": "code",
   "execution_count": 23,
   "metadata": {
    "scrolled": false
   },
   "outputs": [
    {
     "data": {
      "image/png": "[encoded data removed]",
      "text/plain": [
       "<Figure size 432x288 with 1 Axes>"
      ]
     },
     "metadata": {
      "needs_background": "light"
     },
     "output_type": "display_data"
    }
   ],
   "source": [
    "obs = env.reset()\n",
    "plt.imshow(env.render('rgb_array'))\n",
    "plt.show()"
   ]
  },
  {
   "cell_type": "code",
   "execution_count": 8,
   "metadata": {},
   "outputs": [
    {
     "data": {
      "text/plain": [
       "({'state_observation': array([0.31719735, 0.21493012]),\n",
       "  'state_desired_goal': array([0., 0.])},\n",
       " -0.38315677528093733,\n",
       " False,\n",
       " {'radius': 0.5,\n",
       "  'target_position': array([0., 0.]),\n",
       "  'distance_to_target': 0.38315677528093733,\n",
       "  'velocity': array([0.12861097, 0.12985301], dtype=float32),\n",
       "  'speed': 0.18276374,\n",
       "  'is_success': True})"
      ]
     },
     "execution_count": 8,
     "metadata": {},
     "output_type": "execute_result"
    }
   ],
   "source": [
    "env.step(env.action_space.sample())"
   ]
  },
  {
   "cell_type": "code",
   "execution_count": 24,
   "metadata": {},
   "outputs": [],
   "source": [
    "observations = []\n",
    "num_positives = 0"
   ]
  },
  {
   "cell_type": "code",
   "execution_count": 25,
   "metadata": {},
   "outputs": [],
   "source": [
    "# reset the environment\n",
    "while num_positives <= NUM_TOTAL_EXAMPLES:\n",
    "    observation = env.reset()\n",
    "    t = 0\n",
    "    while t < ROLLOUT_LENGTH:\n",
    "        action = env.action_space.sample()\n",
    "        \n",
    "        for _ in range(STEPS_PER_SAMPLE):\n",
    "            obs, rew, done, info = env.step(action)\n",
    "        \n",
    "        # === SPECIFY YOUR GOAL CRITERIA ===\n",
    "        if info['distance_to_target'] < eps:\n",
    "            observations.append(observation)\n",
    "            num_positives += 1\n",
    "        \n",
    "        t += 1\n",
    "#             plt.imshow(env.render('rgb_array'))\n",
    "#             plt.show()"
   ]
  },
  {
   "cell_type": "code",
   "execution_count": 26,
   "metadata": {},
   "outputs": [],
   "source": [
    "goal_examples = {\n",
    "    key: np.concatenate([\n",
    "        obs[key][None] for obs in observations\n",
    "    ], axis=0)\n",
    "    for key in observations[0].keys()\n",
    "}\n",
    "with open(os.path.join(directory, 'positives.pkl'), 'wb') as file:\n",
    "    pickle.dump(goal_examples, file)"
   ]
  },
  {
   "cell_type": "code",
   "execution_count": null,
   "metadata": {},
   "outputs": [],
   "source": []
  }
 ],
 "metadata": {
  "kernelspec": {
   "display_name": "Python 3",
   "language": "python",
   "name": "python3"
  },
  "language_info": {
   "codemirror_mode": {
    "name": "ipython",
    "version": 3
   },
   "file_extension": ".py",
   "mimetype": "text/x-python",
   "name": "python",
   "nbconvert_exporter": "python",
   "pygments_lexer": "ipython3",
   "version": "3.7.3"
  }
 },
 "nbformat": 4,
 "nbformat_minor": 2
}

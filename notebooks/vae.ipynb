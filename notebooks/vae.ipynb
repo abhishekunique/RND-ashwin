{
 "cells": [
  {
   "cell_type": "code",
   "execution_count": null,
   "metadata": {},
   "outputs": [],
   "source": [
    "from __future__ import absolute_import, division, print_function, unicode_literals\n",
    "\n",
    "import tensorflow as tf\n",
    "tf.enable_eager_execution()\n",
    "\n",
    "import os\n",
    "import time\n",
    "import numpy as np\n",
    "import glob\n",
    "import matplotlib.pyplot as plt\n",
    "import PIL\n",
    "import imageio\n",
    "\n",
    "from IPython import display\n",
    "%matplotlib inline\n",
    "\n",
    "from softlearning.utils.tensorflow import nest\n",
    "\n",
    "tfk = tf.keras\n",
    "tfkl = tf.keras.layers\n",
    "\n",
    "!export CUDA_VISIBLE_DEVICES=1"
   ]
  },
  {
   "cell_type": "code",
   "execution_count": null,
   "metadata": {},
   "outputs": [],
   "source": [
    "from softlearning.models.state_estimation import (\n",
    "    get_dumped_pkl_data\n",
    ")\n",
    "images_path = '/home/justinvyu/dev/softlearning-vice/goal_classifier/free_screw_state_estimator_data_invisible_claw/more_data.pkl'\n",
    "images, _ = get_dumped_pkl_data(images_path)"
   ]
  },
  {
   "cell_type": "code",
   "execution_count": null,
   "metadata": {},
   "outputs": [],
   "source": [
    "images.shape\n",
    "images = None"
   ]
  },
  {
   "cell_type": "code",
   "execution_count": null,
   "metadata": {},
   "outputs": [],
   "source": [
    "image_shape = images.shape[1:]\n",
    "num_images = images.shape[0]\n",
    "\n",
    "# Shuffle images\n",
    "np.random.shuffle(images)"
   ]
  },
  {
   "cell_type": "code",
   "execution_count": null,
   "metadata": {},
   "outputs": [],
   "source": [
    "validation_split = 0.1\n",
    "split_index = int(num_images * validation_split)\n",
    "num_training_examples = 500000\n",
    "\n",
    "_train_images = images[split_index:split_index + num_training_examples]\n",
    "# _train_images = images[split_index:]\n",
    "_test_images = images[:split_index]\n",
    "\n",
    "train_images = _train_images\n",
    "test_images = _test_images\n",
    "# train_images = (_train_images / 255.).astype(np.float32)\n",
    "# test_images = (_test_images / 255.).astype(np.float32)"
   ]
  },
  {
   "cell_type": "code",
   "execution_count": null,
   "metadata": {},
   "outputs": [],
   "source": [
    "train_images = train_images[:200000]\n",
    "train_images.shape, test_images.shape"
   ]
  },
  {
   "cell_type": "code",
   "execution_count": null,
   "metadata": {},
   "outputs": [],
   "source": [
    "train_images.shape, test_images.shape"
   ]
  },
  {
   "cell_type": "code",
   "execution_count": null,
   "metadata": {},
   "outputs": [],
   "source": [
    "BATCH_SIZE = 128\n",
    "\n",
    "def train_generator():\n",
    "    for image in train_images:\n",
    "        yield image\n",
    "\n",
    "def test_generator():\n",
    "    for image in test_images:\n",
    "        yield image\n",
    "        \n",
    "train_dataset = tf.data.Dataset.from_generator(train_generator, tf.float32).batch(BATCH_SIZE)\n",
    "test_dataset = tf.data.Dataset.from_generator(test_generator, tf.float32).batch(BATCH_SIZE)"
   ]
  },
  {
   "cell_type": "code",
   "execution_count": null,
   "metadata": {},
   "outputs": [],
   "source": [
    "def preprocess(x):\n",
    "    \"\"\"Cast to float, normalize, and concatenate images along last axis.\"\"\"\n",
    "    x = nest.map_structure(\n",
    "        lambda image: tf.image.convert_image_dtype(image, tf.float32), x)\n",
    "    x = nest.flatten(x)\n",
    "    x = tf.concat(x, axis=-1)\n",
    "#     x = (tf.image.convert_image_dtype(x, tf.float32) - 0.5) * 2.0\n",
    "    return x\n",
    "\n",
    "\n",
    "class CVAE(tf.keras.Model):\n",
    "    def __init__(self, input_shape=(32, 32, 3), latent_dim=64):\n",
    "        super(CVAE, self).__init__()\n",
    "        self.latent_dim = latent_dim\n",
    "                \n",
    "        self.encoder = tf.keras.Sequential([\n",
    "            tfkl.InputLayer(input_shape=input_shape),\n",
    "            tfkl.Lambda(preprocess),\n",
    "            tfkl.Conv2D(\n",
    "                filters=64, kernel_size=3, strides=(2, 2), activation=tfkl.LeakyReLU()),\n",
    "            tfkl.Conv2D(\n",
    "                filters=64, kernel_size=3, strides=(2, 2), activation=tfkl.LeakyReLU()),\n",
    "            tfkl.Conv2D(\n",
    "                filters=32, kernel_size=3, strides=(2, 2), activation=tfkl.LeakyReLU()),\n",
    "            tfkl.Flatten(),\n",
    "            # No activation\n",
    "            tfkl.Dense(latent_dim + latent_dim)])\n",
    "\n",
    "        self.decoder = tf.keras.Sequential([\n",
    "            tfkl.InputLayer(input_shape=(latent_dim,)),\n",
    "            tfkl.Dense(units=4*4*32, activation=tf.nn.relu),\n",
    "            tfkl.Reshape(target_shape=(4, 4, 32)),\n",
    "            tfkl.Conv2DTranspose(\n",
    "                filters=64,\n",
    "                kernel_size=3,\n",
    "                strides=(2, 2),\n",
    "                padding=\"SAME\",\n",
    "                activation=tfkl.LeakyReLU()),\n",
    "            tfkl.Conv2DTranspose(\n",
    "                filters=64,\n",
    "                kernel_size=3,\n",
    "                strides=(2, 2),\n",
    "                padding=\"SAME\",\n",
    "                activation=tfkl.LeakyReLU()),\n",
    "            tfkl.Conv2DTranspose(\n",
    "                filters=32,\n",
    "                kernel_size=3,\n",
    "                strides=(2, 2),\n",
    "                padding=\"SAME\",\n",
    "                activation=tfkl.LeakyReLU()),\n",
    "            # No activation\n",
    "            tfkl.Conv2DTranspose(\n",
    "                filters=3, kernel_size=3, strides=(1, 1), padding=\"SAME\")])\n",
    "\n",
    "    @tf.function\n",
    "    def sample(self, eps=None):\n",
    "        if eps is None:\n",
    "            eps = tf.random.normal(shape=(100, self.latent_dim))\n",
    "        return self.decode(eps, apply_sigmoid=True)\n",
    "\n",
    "    def encode(self, x):\n",
    "        mean, logvar = tf.split(self.encoder(x), num_or_size_splits=2, axis=1)\n",
    "        return mean, logvar\n",
    "\n",
    "    def reparameterize(self, mean, logvar):\n",
    "        eps = tf.random.normal(shape=mean.shape)\n",
    "        return eps * tf.exp(logvar * .5) + mean\n",
    "\n",
    "    def decode(self, z, apply_sigmoid=False):\n",
    "        logits = self.decoder(z)\n",
    "        if apply_sigmoid:\n",
    "            probs = tf.sigmoid(logits)\n",
    "            return probs\n",
    "        return logits\n",
    "\n",
    "    def __call__(self, x):\n",
    "        mean, logvar = self.encode(x)\n",
    "        z = self.reparameterize(mean, logvar)\n",
    "        x_reconstruct = self.decode(z, apply_sigmoid=True)\n",
    "        return x_reconstruct"
   ]
  },
  {
   "cell_type": "code",
   "execution_count": null,
   "metadata": {},
   "outputs": [],
   "source": [
    "optimizer = tf.keras.optimizers.Adam(1e-4)\n",
    "\n",
    "def log_normal_pdf(sample, mean, logvar, raxis=1):\n",
    "    log2pi = tf.math.log(2. * np.pi)\n",
    "    return tf.reduce_sum(\n",
    "        -.5 * ((sample - mean) ** 2. * tf.exp(-logvar) + logvar + log2pi),\n",
    "        axis=raxis)\n",
    "\n",
    "@tf.function\n",
    "def compute_loss(model, x):\n",
    "    mean, logvar = model.encode(x)\n",
    "    z = model.reparameterize(mean, logvar)\n",
    "    x_logit = model.decode(z)\n",
    "\n",
    "    cross_ent = tf.nn.sigmoid_cross_entropy_with_logits(\n",
    "        logits=x_logit, labels=x)\n",
    "    logpx_z = -tf.reduce_sum(cross_ent, axis=[1, 2, 3])\n",
    "    logpz = log_normal_pdf(z, 0., 0.)\n",
    "    logqz_x = log_normal_pdf(z, mean, logvar)\n",
    "    return -tf.reduce_mean(logpx_z + logpz - logqz_x)\n",
    "\n",
    "@tf.function\n",
    "def compute_apply_gradients(model, x, optimizer):\n",
    "    with tf.GradientTape() as tape:\n",
    "        loss = compute_loss(model, x)\n",
    "    gradients = tape.gradient(loss, model.trainable_variables)\n",
    "    optimizer.apply_gradients(zip(gradients, model.trainable_variables))"
   ]
  },
  {
   "cell_type": "code",
   "execution_count": null,
   "metadata": {},
   "outputs": [],
   "source": [
    "epochs = 500\n",
    "latent_dim = 64\n",
    "num_examples_to_generate = 16\n",
    "\n",
    "# keeping the random vector constant for generation (prediction) so\n",
    "# it will be easier to see the improvement.\n",
    "random_vector_for_generation = tf.random.normal(\n",
    "    shape=[num_examples_to_generate, latent_dim])\n",
    "model = CVAE(input_shape=image_shape, latent_dim=latent_dim)"
   ]
  },
  {
   "cell_type": "code",
   "execution_count": null,
   "metadata": {},
   "outputs": [],
   "source": [
    "def generate_and_save_images(model, epoch, test_input):\n",
    "    predictions = model.sample(test_input)\n",
    "    #   print(predictions, predictions.shape)\n",
    "    fig = plt.figure(figsize=(4,4))\n",
    "    #   print(predictions[0, :, :, :])\n",
    "    for i in range(predictions.shape[0]):\n",
    "        plt.subplot(4, 4, i+1)\n",
    "        plt.imshow(predictions[i, :, :, :])\n",
    "        plt.axis('off')\n",
    "\n",
    "    plt.savefig('/home/justinvyu/dev/softlearning-vice/notebooks/vae_invisible_claw_images/image_at_epoch_{:04d}.png'.format(epoch))\n",
    "    plt.show()"
   ]
  },
  {
   "cell_type": "code",
   "execution_count": null,
   "metadata": {},
   "outputs": [],
   "source": [
    "generate_and_save_images(model, 0, random_vector_for_generation)\n",
    "\n",
    "# with tf.device('/GPU:1'):\n",
    "for epoch in range(1, epochs + 1):\n",
    "    start_time = time.time()\n",
    "    for train_x in train_dataset:\n",
    "        compute_apply_gradients(model, train_x, optimizer)\n",
    "    end_time = time.time()\n",
    "\n",
    "    if epoch % 1 == 0:\n",
    "        loss = tf.keras.metrics.Mean()\n",
    "        for test_x in test_dataset:\n",
    "            loss(compute_loss(model, test_x))\n",
    "        elbo = -loss.result()\n",
    "        display.clear_output(wait=False)\n",
    "        print('Epoch: {}, Test set ELBO: {}, '\n",
    "              'time elapse for current epoch {}'.format(epoch,\n",
    "                                                        elbo,\n",
    "                                                        end_time - start_time))\n",
    "        generate_and_save_images(\n",
    "            model, epoch, random_vector_for_generation)"
   ]
  },
  {
   "cell_type": "code",
   "execution_count": null,
   "metadata": {},
   "outputs": [],
   "source": [
    "encoder = tf.keras.Sequential(\n",
    "  [\n",
    "      tf.keras.layers.InputLayer(input_shape=(64, 64, 3)),\n",
    "      tf.keras.layers.Conv2D(\n",
    "          filters=64, kernel_size=3, strides=(2, 2), activation=tf.keras.layers.LeakyReLU()),\n",
    "      tf.keras.layers.Conv2D(\n",
    "          filters=64, kernel_size=3, strides=(2, 2), activation=tf.keras.layers.LeakyReLU()),\n",
    "      tf.keras.layers.Conv2D(\n",
    "          filters=32, kernel_size=3, strides=(2, 2), activation=tf.keras.layers.LeakyReLU()),\n",
    "      tf.keras.layers.Flatten(),\n",
    "      # No activation\n",
    "      tf.keras.layers.Dense(latent_dim + latent_dim),\n",
    "  ]\n",
    ")\n",
    "\n",
    "decoder = tf.keras.Sequential(\n",
    "    [\n",
    "      tf.keras.layers.InputLayer(input_shape=(latent_dim,)),\n",
    "      tf.keras.layers.Dense(units=8*8*32, activation=tf.nn.relu),\n",
    "      tf.keras.layers.Reshape(target_shape=(8, 8, 32)),\n",
    "      tf.keras.layers.Conv2DTranspose(\n",
    "          filters=64,\n",
    "          kernel_size=3,\n",
    "          strides=(2, 2),\n",
    "          padding=\"SAME\",\n",
    "          activation=tf.keras.layers.LeakyReLU()),\n",
    "      tf.keras.layers.Conv2DTranspose(\n",
    "          filters=64,\n",
    "          kernel_size=3,\n",
    "          strides=(2, 2),\n",
    "          padding=\"SAME\",\n",
    "          activation=tf.keras.layers.LeakyReLU()),\n",
    "    tf.keras.layers.Conv2DTranspose(\n",
    "          filters=32,\n",
    "          kernel_size=3,\n",
    "          strides=(2, 2),\n",
    "          padding=\"SAME\",\n",
    "          activation=tf.keras.layers.LeakyReLU()),\n",
    "      # No activation\n",
    "      tf.keras.layers.Conv2DTranspose(\n",
    "          filters=3, kernel_size=3, strides=(1, 1), padding=\"SAME\"),\n",
    "    ]\n",
    ")"
   ]
  },
  {
   "cell_type": "code",
   "execution_count": null,
   "metadata": {},
   "outputs": [],
   "source": [
    "encoder.summary()"
   ]
  },
  {
   "cell_type": "code",
   "execution_count": null,
   "metadata": {},
   "outputs": [],
   "source": [
    "decoder.summary()"
   ]
  },
  {
   "cell_type": "code",
   "execution_count": null,
   "metadata": {},
   "outputs": [],
   "source": [
    "model.encoder.save_weights('inference_weights.h5')\n",
    "model.decoder.save_weights('generative_weights.h5')"
   ]
  },
  {
   "cell_type": "code",
   "execution_count": null,
   "metadata": {},
   "outputs": [],
   "source": [
    "model = CVAE(latent_dim)\n",
    "model.encoder.load_weights('inference_weights.h5')\n",
    "model.decoder.load_weights('generative_weights.h5')"
   ]
  },
  {
   "cell_type": "code",
   "execution_count": null,
   "metadata": {},
   "outputs": [],
   "source": [
    "test_image = images[1]\n",
    "test_image = (test_image / 255.).astype(np.float32)"
   ]
  },
  {
   "cell_type": "code",
   "execution_count": null,
   "metadata": {},
   "outputs": [],
   "source": [
    "mean, logvar = model.encode(test_image[None, ...])\n",
    "z = model.reparameterize(mean, logvar)\n",
    "x_logit = model.decode(z, apply_sigmoid=True)"
   ]
  },
  {
   "cell_type": "code",
   "execution_count": null,
   "metadata": {},
   "outputs": [],
   "source": [
    "mean, logvar"
   ]
  },
  {
   "cell_type": "code",
   "execution_count": null,
   "metadata": {},
   "outputs": [],
   "source": [
    "z"
   ]
  },
  {
   "cell_type": "code",
   "execution_count": null,
   "metadata": {},
   "outputs": [],
   "source": [
    "x_logit"
   ]
  },
  {
   "cell_type": "code",
   "execution_count": null,
   "metadata": {},
   "outputs": [],
   "source": [
    "decoded = x_logit.numpy()\n",
    "plt.imshow(decoded[0])\n",
    "plt.show()\n",
    "plt.imshow(test_image)\n",
    "plt.show()"
   ]
  },
  {
   "cell_type": "code",
   "execution_count": null,
   "metadata": {},
   "outputs": [],
   "source": [
    "l2_loss = np.linalg.norm(decoded - test_image)\n",
    "l2_loss"
   ]
  },
  {
   "cell_type": "code",
   "execution_count": null,
   "metadata": {},
   "outputs": [],
   "source": [
    "anim_file = 'cvae.gif'\n",
    "\n",
    "with imageio.get_writer(anim_file, mode='I') as writer:\n",
    "  filenames = glob.glob('vae_images/image*.png')\n",
    "  filenames = sorted(filenames)\n",
    "  last = -1\n",
    "  for i,filename in enumerate(filenames):\n",
    "    frame = 2*(i**0.5)\n",
    "    if round(frame) > round(last):\n",
    "      last = frame\n",
    "    else:\n",
    "      continue\n",
    "    image = imageio.imread(filename)\n",
    "    writer.append_data(image)\n",
    "  image = imageio.imread(filename)\n",
    "  writer.append_data(image)\n",
    "\n",
    "import IPython\n",
    "if IPython.version_info >= (6,2,0,''):\n",
    "  display.Image(filename=anim_file)"
   ]
  },
  {
   "cell_type": "code",
   "execution_count": null,
   "metadata": {},
   "outputs": [],
   "source": [
    "def plot_side_by_side(img1, img2, title1='', title2='', figsize=(4, 2)):\n",
    "    fig = plt.figure(figsize=figsize)\n",
    "    plt.subplot(1, 2, 1)\n",
    "    plt.title(title1)\n",
    "    plt.imshow(img1)\n",
    "    plt.axis('off')\n",
    "\n",
    "    plt.subplot(1, 2, 2)\n",
    "    plt.title(title2)\n",
    "    plt.imshow(img2)\n",
    "    plt.axis('off')\n",
    "\n",
    "    plt.show()\n",
    "\n",
    "plot_side_by_side(test_image, decoded[0], 'Ground Truth', 'VAE Reconstruction')"
   ]
  },
  {
   "cell_type": "code",
   "execution_count": null,
   "metadata": {},
   "outputs": [],
   "source": [
    "for image in images[10500:11000]:\n",
    "    image = (image / 255.).astype(np.float32)\n",
    "    reconstruction = model(image[None, ...])\n",
    "    plot_side_by_side(image, reconstruction[0], figsize=(2, 1))"
   ]
  },
  {
   "cell_type": "code",
   "execution_count": null,
   "metadata": {},
   "outputs": [],
   "source": []
  }
 ],
 "metadata": {
  "kernelspec": {
   "display_name": "Python 3",
   "language": "python",
   "name": "python3"
  },
  "language_info": {
   "codemirror_mode": {
    "name": "ipython",
    "version": 3
   },
   "file_extension": ".py",
   "mimetype": "text/x-python",
   "name": "python",
   "nbconvert_exporter": "python",
   "pygments_lexer": "ipython3",
   "version": "3.7.3"
  }
 },
 "nbformat": 4,
 "nbformat_minor": 2
}

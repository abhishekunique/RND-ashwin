{
 "cells": [
  {
   "cell_type": "code",
   "execution_count": null,
   "metadata": {},
   "outputs": [],
   "source": [
    "import numpy as np\n",
    "import dsuite\n",
    "import gym\n",
    "from dsuite.dclaw.turn import DClawTurnImage, DClawTurnFixed\n",
    "from softlearning.environments.adapters.gym_adapter import GymAdapter\n",
    "import os\n",
    "import imageio\n",
    "import pickle\n",
    "import matplotlib.pyplot as plt\n",
    "\n",
    "from IPython.display import clear_output\n"
   ]
  },
  {
   "cell_type": "code",
   "execution_count": null,
   "metadata": {},
   "outputs": [],
   "source": [
    "exp_name = 'fixed_screw_2_goals'"
   ]
  },
  {
   "cell_type": "code",
   "execution_count": null,
   "metadata": {},
   "outputs": [],
   "source": [
    "cur_dir = os.getcwd()\n",
    "directory = os.path.join(cur_dir, exp_name)\n",
    "if not os.path.exists(directory):\n",
    "    os.makedirs(directory)"
   ]
  },
  {
   "cell_type": "code",
   "execution_count": null,
   "metadata": {},
   "outputs": [],
   "source": [
    "'mixed_goal_pool = False\n",
    "images = True\n",
    "goals = [-90, 90]\n",
    "num_goals = len(goals)\n",
    "\n",
    "image_shape = (32, 32, 3)\n",
    "NUM_TOTAL_EXAMPLES, ROLLOUT_LENGTH, STEPS_PER_SAMPLE = 500, 25, 5\n",
    "observations = []\n",
    "\n",
    "for goal_index, goal in enumerate(goals):\n",
    "    print(f'\\n\\n ===== GOAL INDEX: {goal_index}, GOAL: {goal} ===== ')\n",
    "    if not mixed_goal_pool:\n",
    "        observations = []  # reset the observations\n",
    "\n",
    "    num_positives = 0\n",
    "    goal_angle = np.pi / 180. * goal # convert to radians\n",
    "\n",
    "    env_kwargs = {\n",
    "        'camera_settings': {\n",
    "            'azimuth': 180,\n",
    "            'distance': 0.3,\n",
    "            'elevation': -50,\n",
    "            'lookat': np.array([0.02, 0.004, 0.09])\n",
    "        },\n",
    "        'goals': (goal_angle,),\n",
    "        'goal_collection': True,\n",
    "        'init_object_pos_range': (goal_angle - 0.05, goal_angle + 0.05),\n",
    "        'target_pos_range': (goal_angle, goal_angle),\n",
    "        'pixel_wrapper_kwargs': {\n",
    "            'pixels_only': False,\n",
    "            'normalize': False,\n",
    "            'render_kwargs': {\n",
    "                'width': image_shape[0],\n",
    "                'height': image_shape[1],\n",
    "                'camera_id': -1\n",
    "            },\n",
    "        },\n",
    "        'swap_goals_upon_completion': True,\n",
    "        'one_hot_goal_index': True,\n",
    "        'observation_keys': (\n",
    "            'pixels',\n",
    "            'claw_qpos',\n",
    "            'last_action',\n",
    "            'goal_index',\n",
    "            'one_hot_goal_index',\n",
    "        ),\n",
    "    }\n",
    "    env = GymAdapter(\n",
    "        domain='DClaw',\n",
    "        task='TurnMultiGoal-v0',\n",
    "        **env_kwargs\n",
    "    )\n",
    "\n",
    "    if mixed_goal_pool:\n",
    "        path = directory\n",
    "    else:\n",
    "        path = os.path.join(directory, f'goal_{goal_index}_{goal}')\n",
    "    if not os.path.exists(path):\n",
    "        os.makedirs(path)\n",
    "\n",
    "    # reset the environment\n",
    "    while num_positives <= NUM_TOTAL_EXAMPLES:\n",
    "        observation = env.reset()\n",
    "        print(\"Resetting environment...\")\n",
    "        t = 0\n",
    "        while t < ROLLOUT_LENGTH:\n",
    "            action = env.action_space.sample()\n",
    "            for _ in range(STEPS_PER_SAMPLE):\n",
    "                observation, _, _, _ = env.step(action)\n",
    "\n",
    "            obs_dict = env.get_obs_dict()\n",
    "\n",
    "            # For fixed screw\n",
    "            object_target_angle_dist = obs_dict['object_to_target_angle_dist']\n",
    "\n",
    "            ANGLE_THRESHOLD = 0.15\n",
    "            if object_target_angle_dist < ANGLE_THRESHOLD:\n",
    "                # Add observation if meets criteria\n",
    "                if 'one_hot_goal_index' in observation:\n",
    "                    one_hot = np.zeros(num_goals).astype(np.float32)\n",
    "                    one_hot[goal_index] = 1.\n",
    "                    observation['one_hot_goal_index'] = one_hot\n",
    "                observation['goal_index'] = np.array([goal_index])\n",
    "                observations.append(observation)\n",
    "                if images:\n",
    "                    img_obs = observation['pixels']\n",
    "                    plt.imshow(img_obs)\n",
    "                    plt.show()\n",
    "                num_positives += 1\n",
    "            t += 1\n",
    "            \n",
    "        if num_positives % 100 == 0:\n",
    "            clear_output()\n",
    "            \n",
    "    goal_examples = {\n",
    "        key: np.concatenate([\n",
    "            obs[key][None] for obs in observations\n",
    "        ], axis=0)\n",
    "        for key in observations[0].keys()\n",
    "    }\n",
    "\n",
    "    with open(os.path.join(path, 'positives.pkl'), 'wb') as file:\n",
    "        pickle.dump(goal_examples, file)'"
   ]
  },
  {
   "cell_type": "code",
   "execution_count": null,
   "metadata": {},
   "outputs": [],
   "source": [
    "with open(os.path.join(os.path.join(directory, '-90'), 'positives.pkl'), 'rb') as f:\n",
    "    data = pickle.load(f)"
   ]
  },
  {
   "cell_type": "code",
   "execution_count": null,
   "metadata": {},
   "outputs": [],
   "source": [
    "data['goal_index'].shape"
   ]
  },
  {
   "cell_type": "code",
   "execution_count": null,
   "metadata": {},
   "outputs": [],
   "source": [
    "observations[0]['goal_index']"
   ]
  },
  {
   "cell_type": "code",
   "execution_count": null,
   "metadata": {},
   "outputs": [],
   "source": []
  }
 ],
 "metadata": {
  "kernelspec": {
   "display_name": "Python 3",
   "language": "python",
   "name": "python3"
  },
  "language_info": {
   "codemirror_mode": {
    "name": "ipython",
    "version": 3
   },
   "file_extension": ".py",
   "mimetype": "text/x-python",
   "name": "python",
   "nbconvert_exporter": "python",
   "pygments_lexer": "ipython3",
   "version": "3.7.3"
  }
 },
 "nbformat": 4,
 "nbformat_minor": 2
}

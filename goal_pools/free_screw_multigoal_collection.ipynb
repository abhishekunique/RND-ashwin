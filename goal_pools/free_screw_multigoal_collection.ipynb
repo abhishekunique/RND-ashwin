{
 "cells": [
  {
   "cell_type": "code",
   "execution_count": 2,
   "metadata": {},
   "outputs": [
    {
     "name": "stderr",
     "output_type": "stream",
     "text": [
      "/home/justinvyu/anaconda3/envs/vice/lib/python3.7/site-packages/tensorflow/python/framework/dtypes.py:516: FutureWarning: Passing (type, 1) or '1type' as a synonym of type is deprecated; in a future version of numpy, it will be understood as (type, (1,)) / '(1,)type'.\n",
      "  _np_qint8 = np.dtype([(\"qint8\", np.int8, 1)])\n",
      "/home/justinvyu/anaconda3/envs/vice/lib/python3.7/site-packages/tensorflow/python/framework/dtypes.py:517: FutureWarning: Passing (type, 1) or '1type' as a synonym of type is deprecated; in a future version of numpy, it will be understood as (type, (1,)) / '(1,)type'.\n",
      "  _np_quint8 = np.dtype([(\"quint8\", np.uint8, 1)])\n",
      "/home/justinvyu/anaconda3/envs/vice/lib/python3.7/site-packages/tensorflow/python/framework/dtypes.py:518: FutureWarning: Passing (type, 1) or '1type' as a synonym of type is deprecated; in a future version of numpy, it will be understood as (type, (1,)) / '(1,)type'.\n",
      "  _np_qint16 = np.dtype([(\"qint16\", np.int16, 1)])\n",
      "/home/justinvyu/anaconda3/envs/vice/lib/python3.7/site-packages/tensorflow/python/framework/dtypes.py:519: FutureWarning: Passing (type, 1) or '1type' as a synonym of type is deprecated; in a future version of numpy, it will be understood as (type, (1,)) / '(1,)type'.\n",
      "  _np_quint16 = np.dtype([(\"quint16\", np.uint16, 1)])\n",
      "/home/justinvyu/anaconda3/envs/vice/lib/python3.7/site-packages/tensorflow/python/framework/dtypes.py:520: FutureWarning: Passing (type, 1) or '1type' as a synonym of type is deprecated; in a future version of numpy, it will be understood as (type, (1,)) / '(1,)type'.\n",
      "  _np_qint32 = np.dtype([(\"qint32\", np.int32, 1)])\n",
      "/home/justinvyu/anaconda3/envs/vice/lib/python3.7/site-packages/tensorflow/python/framework/dtypes.py:525: FutureWarning: Passing (type, 1) or '1type' as a synonym of type is deprecated; in a future version of numpy, it will be understood as (type, (1,)) / '(1,)type'.\n",
      "  np_resource = np.dtype([(\"resource\", np.ubyte, 1)])\n",
      "/home/justinvyu/anaconda3/envs/vice/lib/python3.7/site-packages/tensorboard/compat/tensorflow_stub/dtypes.py:541: FutureWarning: Passing (type, 1) or '1type' as a synonym of type is deprecated; in a future version of numpy, it will be understood as (type, (1,)) / '(1,)type'.\n",
      "  _np_qint8 = np.dtype([(\"qint8\", np.int8, 1)])\n",
      "/home/justinvyu/anaconda3/envs/vice/lib/python3.7/site-packages/tensorboard/compat/tensorflow_stub/dtypes.py:542: FutureWarning: Passing (type, 1) or '1type' as a synonym of type is deprecated; in a future version of numpy, it will be understood as (type, (1,)) / '(1,)type'.\n",
      "  _np_quint8 = np.dtype([(\"quint8\", np.uint8, 1)])\n",
      "/home/justinvyu/anaconda3/envs/vice/lib/python3.7/site-packages/tensorboard/compat/tensorflow_stub/dtypes.py:543: FutureWarning: Passing (type, 1) or '1type' as a synonym of type is deprecated; in a future version of numpy, it will be understood as (type, (1,)) / '(1,)type'.\n",
      "  _np_qint16 = np.dtype([(\"qint16\", np.int16, 1)])\n",
      "/home/justinvyu/anaconda3/envs/vice/lib/python3.7/site-packages/tensorboard/compat/tensorflow_stub/dtypes.py:544: FutureWarning: Passing (type, 1) or '1type' as a synonym of type is deprecated; in a future version of numpy, it will be understood as (type, (1,)) / '(1,)type'.\n",
      "  _np_quint16 = np.dtype([(\"quint16\", np.uint16, 1)])\n",
      "/home/justinvyu/anaconda3/envs/vice/lib/python3.7/site-packages/tensorboard/compat/tensorflow_stub/dtypes.py:545: FutureWarning: Passing (type, 1) or '1type' as a synonym of type is deprecated; in a future version of numpy, it will be understood as (type, (1,)) / '(1,)type'.\n",
      "  _np_qint32 = np.dtype([(\"qint32\", np.int32, 1)])\n",
      "/home/justinvyu/anaconda3/envs/vice/lib/python3.7/site-packages/tensorboard/compat/tensorflow_stub/dtypes.py:550: FutureWarning: Passing (type, 1) or '1type' as a synonym of type is deprecated; in a future version of numpy, it will be understood as (type, (1,)) / '(1,)type'.\n",
      "  np_resource = np.dtype([(\"resource\", np.ubyte, 1)])\n"
     ]
    }
   ],
   "source": [
    "import numpy as np\n",
    "import dsuite\n",
    "import gym\n",
    "from softlearning.environments.adapters.gym_adapter import GymAdapter\n",
    "import os\n",
    "import imageio\n",
    "import pickle\n",
    "import matplotlib.pyplot as plt\n",
    "\n",
    "from IPython.display import clear_output"
   ]
  },
  {
   "cell_type": "code",
   "execution_count": 3,
   "metadata": {},
   "outputs": [],
   "source": [
    "exp_name = 'free_screw_32x32'"
   ]
  },
  {
   "cell_type": "code",
   "execution_count": 4,
   "metadata": {},
   "outputs": [],
   "source": [
    "cur_dir = os.getcwd()\n",
    "directory = os.path.join(cur_dir, exp_name)\n",
    "if not os.path.exists(directory):\n",
    "    os.makedirs(directory)"
   ]
  },
  {
   "cell_type": "code",
   "execution_count": 6,
   "metadata": {},
   "outputs": [
    {
     "name": "stdout",
     "output_type": "stream",
     "text": [
      "Resetting environment...\n"
     ]
    },
    {
     "data": {
      "image/png": "[encoded data removed]",
      "text/plain": [
       "<matplotlib.figure.Figure at 0x7fdc4be50d68>"
      ]
     },
     "metadata": {
      "needs_background": "light"
     },
     "output_type": "display_data"
    },
    {
     "data": {
      "image/png": "[encoded data removed]",
      "text/plain": [
       "<matplotlib.figure.Figure at 0x7fdc74a0a978>"
      ]
     },
     "metadata": {
      "needs_background": "light"
     },
     "output_type": "display_data"
    },
    {
     "data": {
      "image/png": "[encoded data removed]",
      "text/plain": [
       "<matplotlib.figure.Figure at 0x7fdc69512518>"
      ]
     },
     "metadata": {
      "needs_background": "light"
     },
     "output_type": "display_data"
    }
   ],
   "source": [
    "pos_goals = [(0, 0), (0, 0)]\n",
    "angle_goals = [-90, 90]\n",
    "images = True\n",
    "for goal_index, (angle_goal, pos_goal) in enumerate(zip(angle_goals, pos_goals)):\n",
    "    print(f'\\n\\n ===== GOAL INDEX: {goal_index}, GOAL: {angle_goal, pos_goal} ===== ')\n",
    "    num_positives = 0\n",
    "    NUM_TOTAL_EXAMPLES, ROLLOUT_LENGTH, STEPS_PER_SAMPLE = 250, 25, 4\n",
    "    ANGLE_THRESHOLD, POSITION_THRESHOLD = 0.15, 0.035\n",
    "    goal_radians = np.pi / 180. * angle_goal  # convert to radians\n",
    "    observations = []\n",
    "    images = True\n",
    "    image_shape = (32, 32, 3)\n",
    "#     image_shape = (64, 64, 3)\n",
    "\n",
    "    x, y = pos_goal\n",
    "    env_kwargs = {\n",
    "#         'camera_settings': {\n",
    "#             'azimuth': 180,\n",
    "#             'distance': 0.35,\n",
    "#             'elevation': -55,\n",
    "#             'lookat': (0, 0, 0.03)\n",
    "#         },\n",
    "        'camera_settings': {\n",
    "            'azimuth': 180,\n",
    "            'distance': 0.38,\n",
    "            'elevation': -36,\n",
    "            'lookat': (0.04, 0.008, 0.026)\n",
    "        },\n",
    "        'pixel_wrapper_kwargs': {\n",
    "            'pixels_only': False,\n",
    "            'normalize': False,\n",
    "            'render_kwargs': {\n",
    "                'width': image_shape[0],\n",
    "                'height': image_shape[1],\n",
    "                'camera_id': -1,\n",
    "            }\n",
    "        },\n",
    "#         'goals': ((x, y, 0, 0, 0, goal_radians),),\n",
    "        'init_qpos_range': (\n",
    "            (x, y, 0, 0, 0, goal_radians - 0.05),\n",
    "            (x, y, 0, 0, 0, goal_radians + 0.05)\n",
    "        ),\n",
    "        'target_qpos_range': [(x, y, 0, 0, 0, goal_radians)],\n",
    "        'observation_keys': (\n",
    "            'pixels',\n",
    "            'claw_qpos',\n",
    "            'last_action',\n",
    "            'goal_index'\n",
    "        ),\n",
    "    }\n",
    "\n",
    "    env = GymAdapter(\n",
    "        domain='DClaw',\n",
    "        task='TurnFreeValve3Fixed-v0',\n",
    "        **env_kwargs\n",
    "    )\n",
    "    \n",
    "    path = os.path.join(directory, f'goal_{goal_index}_{angle_goal}')\n",
    "    if not os.path.exists(path):\n",
    "        os.makedirs(path)\n",
    "\n",
    "    # reset the environment\n",
    "    while num_positives <= NUM_TOTAL_EXAMPLES:\n",
    "        observation = env.reset()\n",
    "        print(\"Resetting environment...\")\n",
    "        t = 0\n",
    "        while t < ROLLOUT_LENGTH:\n",
    "            action = env.action_space.sample()\n",
    "            for _ in range(STEPS_PER_SAMPLE):\n",
    "                observation, _, _, _ = env.step(action)\n",
    "            \n",
    "            obs = env.get_obs_dict()\n",
    "            circle_dist = obs['object_to_target_circle_distance']\n",
    "            pos_dist = obs['object_to_target_position_distance']\n",
    "            \n",
    "            if circle_dist < ANGLE_THRESHOLD and pos_dist < POSITION_THRESHOLD:\n",
    "                # Add observation if meets criteria\n",
    "                # some hacky shit, find a better way to do this\n",
    "                observation['goal_index'] = np.array([goal_index])\n",
    "                observations.append(observation)\n",
    "                if images:\n",
    "                    img_obs = observation['pixels']\n",
    "                    plt.imshow(img_obs)\n",
    "                    plt.show()\n",
    "                num_positives += 1\n",
    "                if num_positives % 50 == 0:\n",
    "                    clear_output()\n",
    "            t += 1\n",
    "\n",
    "    goal_examples = {\n",
    "        key: np.concatenate([\n",
    "            obs[key][None] for obs in observations\n",
    "        ], axis=0)\n",
    "        for key in observations[0].keys()\n",
    "    }\n",
    "\n",
    "    with open(path + '/positives.pkl', 'wb') as file:\n",
    "        pickle.dump(goal_examples, file)\n"
   ]
  },
  {
   "cell_type": "code",
   "execution_count": null,
   "metadata": {},
   "outputs": [],
   "source": []
  }
 ],
 "metadata": {
  "kernelspec": {
   "display_name": "Python 3",
   "language": "python",
   "name": "python3"
  },
  "language_info": {
   "codemirror_mode": {
    "name": "ipython",
    "version": 3
   },
   "file_extension": ".py",
   "mimetype": "text/x-python",
   "name": "python",
   "nbconvert_exporter": "python",
   "pygments_lexer": "ipython3",
   "version": "3.7.3"
  }
 },
 "nbformat": 4,
 "nbformat_minor": 2
}
